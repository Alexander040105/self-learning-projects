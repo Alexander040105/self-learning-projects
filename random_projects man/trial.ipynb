{
 "cells": [
  {
   "cell_type": "markdown",
   "metadata": {},
   "source": [
    "Hello this is a trial practice for me"
   ]
  },
  {
   "cell_type": "markdown",
   "metadata": {},
   "source": [
    "Bruhhh variance codeeeeou(?)"
   ]
  },
  {
   "cell_type": "code",
   "execution_count": 7,
   "metadata": {},
   "outputs": [
    {
     "name": "stdout",
     "output_type": "stream",
     "text": [
      "83.0\n",
      "[64.0, 1.0, 25.0, 81.0, 25.0]\n",
      "39.2\n"
     ]
    }
   ],
   "source": [
    "numbers = [75,82,88,92,78]\n",
    "\n",
    "#finding the mean\n",
    "mean = sum(numbers)/len(numbers)\n",
    "\n",
    "#list that will be used to store the results of values - mean\n",
    "differentials = []\n",
    "for number in numbers:\n",
    "    value = (number - mean) ** 2\n",
    "    differentials.append(value)\n",
    "    \n",
    "#calculating the variance\n",
    "variance = sum(differentials)/len(numbers)\n",
    "print(variance)"
   ]
  },
  {
   "cell_type": "code",
   "execution_count": 13,
   "metadata": {},
   "outputs": [
    {
     "name": "stdout",
     "output_type": "stream",
     "text": [
      "The mean of the [75, 82, 88, 92, 78] is 83.0\n",
      "[75, 78, 82, 88, 92]\n"
     ]
    }
   ],
   "source": [
    "numbers = [75,82,88,92,78]\n",
    "\n",
    "#getting the mean\n",
    "mean = sum(numbers)/len(numbers)\n",
    "print(\"The mean of the \" + str(numbers) + ' is ' + str(mean))\n",
    "\n",
    "\n",
    "numbers.sort()\n",
    "print(numbers)"
   ]
  },
  {
   "cell_type": "code",
   "execution_count": 10,
   "metadata": {},
   "outputs": [
    {
     "name": "stdout",
     "output_type": "stream",
     "text": [
      "[75, 78, 82, 88, 92, 100]\n",
      "82 88\n"
     ]
    }
   ],
   "source": [
    "numbers = [75,82,88,92,78,100]\n",
    "\n",
    "sort = sorted(numbers)\n",
    "number = len(numbers)\n",
    "print(sort)\n",
    "\n",
    "if number % 2 == 1:\n",
    "    median1 = sort[number // 2]\n",
    "    print(median1)\n",
    "else:\n",
    "    median1 = sort[(number // 2 ) - 1]\n",
    "    median2 = sort[number // 2]\n",
    "    \n",
    "    print(str(median1) + ' ' + str(median2))"
   ]
  },
  {
   "cell_type": "markdown",
   "metadata": {},
   "source": [
    "trying out a user input central tendency pero mode na lang kulang aaralin"
   ]
  },
  {
   "cell_type": "code",
   "execution_count": null,
   "metadata": {},
   "outputs": [],
   "source": []
  },
  {
   "cell_type": "code",
   "execution_count": 10,
   "metadata": {},
   "outputs": [
    {
     "name": "stdout",
     "output_type": "stream",
     "text": [
      "The mean is 6.0\n",
      "The median is 4\n"
     ]
    }
   ],
   "source": [
    "user_numbers = []\n",
    "\n",
    "user_input = input('Enter the values you want to use for computing the central tendency(`Use commas to split`)')\n",
    "numbers = [value.strip() for value in user_input.split(',')]\n",
    "user_numbers = user_numbers + numbers\n",
    "\n",
    "\n",
    "def compute_central_tendency():\n",
    "    number_of_items = len(user_numbers)\n",
    "    sorted_numbers = sorted(user_numbers)\n",
    "    \n",
    "    converted_to_int = [int(x) for x in user_numbers]\n",
    "    mean = sum(converted_to_int)/int(number_of_items)\n",
    "    print('The mean is ' + str(mean))\n",
    "    \n",
    "    if number_of_items % 2 == 1:\n",
    "        median = sorted_numbers[number_of_items//2]\n",
    "        print('The median is ' + str(median))\n",
    "    else:\n",
    "        median1 = sorted_numbers[(number_of_items//2) - 1]\n",
    "        median2 = sorted_numbers[number_of_items//2]\n",
    "        print('The median is ' + str(median1) + ' and ' + str(median2))\n",
    "        \n",
    "\n",
    "\n",
    "compute_central_tendency()\n",
    "    \n",
    "    "
   ]
  }
 ],
 "metadata": {
  "kernelspec": {
   "display_name": "DiscordBot",
   "language": "python",
   "name": "python3"
  },
  "language_info": {
   "codemirror_mode": {
    "name": "ipython",
    "version": 3
   },
   "file_extension": ".py",
   "mimetype": "text/x-python",
   "name": "python",
   "nbconvert_exporter": "python",
   "pygments_lexer": "ipython3",
   "version": "3.11.5"
  }
 },
 "nbformat": 4,
 "nbformat_minor": 2
}
