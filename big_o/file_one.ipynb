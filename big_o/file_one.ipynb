{
 "cells": [
  {
   "cell_type": "markdown",
   "metadata": {},
   "source": [
    "O(n)"
   ]
  },
  {
   "cell_type": "code",
   "execution_count": 21,
   "metadata": {},
   "outputs": [
    {
     "name": "stdout",
     "output_type": "stream",
     "text": [
      "0\n",
      "1\n",
      "2\n",
      "3\n",
      "4\n",
      "5\n",
      "6\n",
      "7\n",
      "8\n",
      "9\n",
      "10\n",
      "11\n",
      "12\n",
      "13\n",
      "14\n",
      "15\n",
      "16\n",
      "17\n",
      "18\n",
      "19\n",
      "20\n",
      "21\n",
      "22\n",
      "23\n",
      "24\n",
      "25\n",
      "26\n",
      "27\n",
      "28\n",
      "29\n",
      "30\n",
      "31\n",
      "32\n",
      "33\n",
      "34\n",
      "35\n",
      "36\n",
      "37\n",
      "38\n",
      "39\n",
      "40\n",
      "41\n",
      "42\n",
      "43\n",
      "44\n",
      "45\n",
      "46\n",
      "47\n",
      "48\n",
      "49\n"
     ]
    }
   ],
   "source": [
    "def big_O(num):\n",
    "    for i in range(0,num):\n",
    "        print(i)\n",
    "\n",
    "big_O(50)"
   ]
  },
  {
   "cell_type": "markdown",
   "metadata": {},
   "source": [
    "O(n^2)"
   ]
  },
  {
   "cell_type": "code",
   "execution_count": 1,
   "metadata": {},
   "outputs": [
    {
     "name": "stdout",
     "output_type": "stream",
     "text": [
      "0,1\n",
      "0,2\n",
      "0,3\n",
      "0,4\n",
      "0,5\n",
      "0,6\n",
      "0,7\n",
      "0,8\n",
      "0,9\n",
      "1,1\n",
      "1,2\n",
      "1,3\n",
      "1,4\n",
      "1,5\n",
      "1,6\n",
      "1,7\n",
      "1,8\n",
      "1,9\n",
      "2,1\n",
      "2,2\n",
      "2,3\n",
      "2,4\n",
      "2,5\n",
      "2,6\n",
      "2,7\n",
      "2,8\n",
      "2,9\n",
      "3,1\n",
      "3,2\n",
      "3,3\n",
      "3,4\n",
      "3,5\n",
      "3,6\n",
      "3,7\n",
      "3,8\n",
      "3,9\n",
      "4,1\n",
      "4,2\n",
      "4,3\n",
      "4,4\n",
      "4,5\n",
      "4,6\n",
      "4,7\n",
      "4,8\n",
      "4,9\n",
      "5,1\n",
      "5,2\n",
      "5,3\n",
      "5,4\n",
      "5,5\n",
      "5,6\n",
      "5,7\n",
      "5,8\n",
      "5,9\n",
      "6,1\n",
      "6,2\n",
      "6,3\n",
      "6,4\n",
      "6,5\n",
      "6,6\n",
      "6,7\n",
      "6,8\n",
      "6,9\n",
      "7,1\n",
      "7,2\n",
      "7,3\n",
      "7,4\n",
      "7,5\n",
      "7,6\n",
      "7,7\n",
      "7,8\n",
      "7,9\n",
      "8,1\n",
      "8,2\n",
      "8,3\n",
      "8,4\n",
      "8,5\n",
      "8,6\n",
      "8,7\n",
      "8,8\n",
      "8,9\n",
      "9,1\n",
      "9,2\n",
      "9,3\n",
      "9,4\n",
      "9,5\n",
      "9,6\n",
      "9,7\n",
      "9,8\n",
      "9,9\n"
     ]
    }
   ],
   "source": [
    "def big_O(num):\n",
    "    for i in range(0,num):\n",
    "        for j in range(1,num):\n",
    "            print(str(i) + ',' + str(j))\n",
    "\n",
    "big_O(10)"
   ]
  },
  {
   "cell_type": "markdown",
   "metadata": {},
   "source": [
    "O(n^3)"
   ]
  },
  {
   "cell_type": "code",
   "execution_count": null,
   "metadata": {},
   "outputs": [],
   "source": [
    "def big_O(num):\n",
    "    for i in range(0,num):\n",
    "        for j in range(1,num):\n",
    "            for k in range(1,num):\n",
    "                print(str(i) + ',' + str(j) + ',' + str(k))\n",
    "\n",
    "big_O(4)"
   ]
  },
  {
   "cell_type": "markdown",
   "metadata": {},
   "source": [
    "O(log n) recursive"
   ]
  },
  {
   "cell_type": "code",
   "execution_count": 2,
   "metadata": {},
   "outputs": [
    {
     "data": {
      "text/plain": [
       "'Done'"
      ]
     },
     "execution_count": 2,
     "metadata": {},
     "output_type": "execute_result"
    }
   ],
   "source": [
    "import math\n",
    "\n",
    "def big_O(num):\n",
    "    if num == 1:\n",
    "        return \"Done\"\n",
    "    \n",
    "    #returns big_O(8)\n",
    "    #returns big_O(4)\n",
    "    #returns big_O(2)\n",
    "    #returns big_O(1)  == \"Done\"\n",
    "    #so three steps of floor division to get into the base case  which is 1\n",
    "    num = math.floor(num//2)\n",
    "    return big_O(num)\n",
    "\n",
    "big_O(25)"
   ]
  },
  {
   "cell_type": "markdown",
   "metadata": {},
   "source": [
    "O(log n)iterative"
   ]
  },
  {
   "cell_type": "code",
   "execution_count": 28,
   "metadata": {},
   "outputs": [
    {
     "name": "stdout",
     "output_type": "stream",
     "text": [
      "16\n",
      "8\n",
      "4\n",
      "2\n",
      "1\n",
      "The logarithm is 5\n"
     ]
    }
   ],
   "source": [
    "def big_O(num):\n",
    "    count = 0\n",
    "    \n",
    "    while num  > 1:\n",
    "        num = math.floor(num//2)\n",
    "        count+=1\n",
    "        print(num)\n",
    "    \n",
    "    print('The logarithm is ' + str(count))\n",
    "\n",
    "big_O(32)"
   ]
  },
  {
   "cell_type": "markdown",
   "metadata": {},
   "source": [
    "binary search O(log n) example"
   ]
  },
  {
   "cell_type": "code",
   "execution_count": 12,
   "metadata": {},
   "outputs": [
    {
     "data": {
      "text/plain": [
       "True"
      ]
     },
     "execution_count": 12,
     "metadata": {},
     "output_type": "execute_result"
    }
   ],
   "source": [
    "import math\n",
    "arr = [1,2,3,4,5,6,7,8,9]\n",
    "start = 0\n",
    "end = len(arr) - 1\n",
    "target = 8\n",
    "\n",
    "def binarySearch(arr,start, end, target):\n",
    "    mid = math.floor((start + end)/2)\n",
    "    \n",
    "    if start > end:\n",
    "        return False\n",
    "    \n",
    "    if arr[mid] == target:\n",
    "        return True\n",
    "    \n",
    "    if arr[mid] > target:\n",
    "        mid -=1\n",
    "        return binarySearch(arr, start, mid, target)\n",
    "    \n",
    "    else:\n",
    "        mid+=1\n",
    "        return binarySearch(arr, mid, end, target)\n",
    "    \n",
    "\n",
    "binarySearch(arr,start,end,target)"
   ]
  }
 ],
 "metadata": {
  "kernelspec": {
   "display_name": "Python 3",
   "language": "python",
   "name": "python3"
  },
  "language_info": {
   "codemirror_mode": {
    "name": "ipython",
    "version": 3
   },
   "file_extension": ".py",
   "mimetype": "text/x-python",
   "name": "python",
   "nbconvert_exporter": "python",
   "pygments_lexer": "ipython3",
   "version": "3.11.9"
  }
 },
 "nbformat": 4,
 "nbformat_minor": 2
}
