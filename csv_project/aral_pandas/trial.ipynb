{
 "cells": [
  {
   "cell_type": "code",
   "execution_count": null,
   "metadata": {},
   "outputs": [],
   "source": [
    "print(\"Hello World\")"
   ]
  },
  {
   "cell_type": "markdown",
   "metadata": {},
   "source": [
    "USING MODULE BRO"
   ]
  },
  {
   "cell_type": "code",
   "execution_count": null,
   "metadata": {},
   "outputs": [],
   "source": [
    "import os\n",
    "\n",
    "# getting the current directory man\n",
    "current_directory = os.getcwd()\n",
    "\n",
    "\n",
    "#os.listdir() to get the list of items inside the directory\n",
    "directory_items = os.listdir()\n",
    "\n",
    "#os.makedirs() creates new folder\n",
    "\n",
    "print(current_directory)\n",
    "print(directory_items)"
   ]
  },
  {
   "cell_type": "markdown",
   "metadata": {},
   "source": [
    "INTRO TO PANDAS\n",
    "\n",
    "python pandas can handle complex computations\n",
    "Python doesn't have limitations on size\n",
    "has cross platform capabilities\n",
    "\n",
    "\n",
    "#fundamental data structures in pandas\n",
    "#1d array = series of data\n",
    "#2d array = dataframes\n",
    "\n",
    "#columns are called series = 1d array\n",
    "#intersection of a row with column is called data\n",
    "#column names are called features\n",
    "\n",
    "#you can also use csv files as a dataframe\n"
   ]
  },
  {
   "cell_type": "code",
   "execution_count": null,
   "metadata": {},
   "outputs": [],
   "source": [
    "#you can create data frames using arrays either 1d or 2d\n",
    "import numpy as np\n",
    "import pandas as pd\n",
    "\n",
    "#2d array version using panda\n",
    "dataframe = [[1,2],[3,4],[5,6]]\n",
    "pandaDataFrame = pd.DataFrame(dataframe,index=['row1','row2','row3'], columns=['col1', 'col2'])\n",
    "print(pandaDataFrame)\n",
    "\n",
    "print('')\n",
    "\n",
    "#making 2d array using numpy\n",
    "dataframe2 = np.array([[1,2], [3,4], [5,6]])\n",
    "\n",
    "#making dataframe using pandas\n",
    "#pd.DataFrame(2dArray na ginawa, index=[\"rows\"], columns=['columnName','columnName'])\n",
    "pandaDataFrame2 = pd.DataFrame(dataframe2,index=['row1','row2','row3'], columns=['col1', 'col2'])\n",
    "print(pandaDataFrame2)\n",
    "\n",
    "\n",
    "#dictionaries keys as the column name and the element as the data. a dictionary can be a series\n",
    "dict_dataframe = {'key1': 1, 'key2': 2}\n",
    "\n",
    "#you can also use csv files as a dataframe\n",
    "\n",
    "\n",
    "# making a dataframe from a dictionary bro\n",
    "countries = ['South Korea', 'South Africa', 'Myanmar']\n",
    "population = [51269185, 58558270, 53708320]\n",
    "\n",
    "dataFrame_dict = {'Countries': countries, 'Population': population}\n",
    "pandaDataFrame3 = pd.DataFrame(dataFrame_dict)\n",
    "print()\n",
    "print(pandaDataFrame3)\n",
    "print()\n",
    "\n"
   ]
  },
  {
   "cell_type": "markdown",
   "metadata": {},
   "source": [
    "CREATING DATA FRAME USING CSV FILE\n",
    "\n",
    "use pd.read_csv() to read the whole csv file\n",
    "\n",
    "use the .head() method to get the first 5 rows on the csv"
   ]
  },
  {
   "cell_type": "code",
   "execution_count": null,
   "metadata": {},
   "outputs": [],
   "source": [
    "# import csv\n",
    "# with open('D:\\\\63947\\\\Documents\\GitHub\\\\First-Year-Assignments-Projects\\\\self-learning\\\\csv_project\\\\aral_pandas\\\\python_csv\\\\population_total.csv', 'r', newline='') as csvfile:\n",
    "#         csv_reader = csv.reader(csvfile)\n",
    "\n",
    "\n",
    "\n",
    "csv_file_exams = pd.read_csv('python_csv\\\\StudentsPerformance.csv')\n",
    "\n",
    "csv_file_exams.head()\n",
    "csv_file_exams\n"
   ]
  },
  {
   "cell_type": "markdown",
   "metadata": {},
   "source": [
    "DISPLAYING A DATAFRAME IN PANDAS\n",
    "\n",
    ".head() method to get the first 5 rows, you can also add the number of datasets you would like to put: ie. .head(number of rows you want to show) it is also the same with .tail() method\n",
    "\n",
    ".tail() to get the last 5 rows\n",
    "\n",
    "you will use the .shape attribute to get the total number of rows \n",
    "result :  (rows, columns)\n",
    "\n",
    "display n rows:\n",
    "pd.set_option('display.max_rows', 1000)"
   ]
  },
  {
   "cell_type": "code",
   "execution_count": null,
   "metadata": {},
   "outputs": [],
   "source": [
    "csv_file_exams = pd.read_csv('python_csv\\\\StudentsPerformance.csv')\n",
    "\n",
    "pd.set_option('display.max_rows', 1000)\n",
    "csv_file_exams"
   ]
  },
  {
   "cell_type": "markdown",
   "metadata": {},
   "source": [
    "PANDAS ATTRIBUTES, METHODS, FUNCTIONS\n",
    "\n",
    "Attributes = values associated with an object(for example: variableName.columns)\n",
    "\n",
    "Examples of attribute:\n",
    ".shape\n",
    ".index\n",
    ".column = you get the name of the columns\n",
    ".dtypes = to get the data type of the columns\n",
    "\n",
    "Function = group of related statements that perform a specific task(for example: max(), min(), len()). A function is defined inside a class body"
   ]
  },
  {
   "cell_type": "code",
   "execution_count": 4,
   "metadata": {},
   "outputs": [
    {
     "data": {
      "text/plain": [
       "gender                         object\n",
       "race/ethnicity                 object\n",
       "parental level of education    object\n",
       "lunch                          object\n",
       "test preparation course        object\n",
       "math score                      int64\n",
       "reading score                   int64\n",
       "writing score                   int64\n",
       "dtype: object"
      ]
     },
     "execution_count": 4,
     "metadata": {},
     "output_type": "execute_result"
    }
   ],
   "source": [
    "import pandas as pd\n",
    "csv_file_exams = pd.read_csv('python_csv\\\\StudentsPerformance.csv')\n",
    "\n",
    "csv_file_exams.dtypes\n",
    "\n"
   ]
  }
 ],
 "metadata": {
  "kernelspec": {
   "display_name": "Python 3",
   "language": "python",
   "name": "python3"
  },
  "language_info": {
   "codemirror_mode": {
    "name": "ipython",
    "version": 3
   },
   "file_extension": ".py",
   "mimetype": "text/x-python",
   "name": "python",
   "nbconvert_exporter": "python",
   "pygments_lexer": "ipython3",
   "version": "3.11.7"
  }
 },
 "nbformat": 4,
 "nbformat_minor": 2
}
