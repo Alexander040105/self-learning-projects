{
 "cells": [
  {
   "cell_type": "code",
   "execution_count": null,
   "metadata": {},
   "outputs": [],
   "source": [
    "print(\"Hello World\")"
   ]
  },
  {
   "cell_type": "markdown",
   "metadata": {},
   "source": [
    "USING MODULE BRO"
   ]
  },
  {
   "cell_type": "code",
   "execution_count": null,
   "metadata": {},
   "outputs": [],
   "source": [
    "import os\n",
    "\n",
    "# getting the current directory man\n",
    "current_directory = os.getcwd()\n",
    "\n",
    "\n",
    "#os.listdir() to get the list of items inside the directory\n",
    "directory_items = os.listdir()\n",
    "\n",
    "#os.makedirs() creates new folder\n",
    "\n",
    "print(current_directory)\n",
    "print(directory_items)"
   ]
  },
  {
   "cell_type": "markdown",
   "metadata": {},
   "source": [
    "INTRO TO PANDAS\n",
    "\n",
    "python pandas can handle complex computations\n",
    "Python doesn't have limitations on size\n",
    "has cross platform capabilities\n",
    "\n",
    "\n",
    "#fundamental data structures in pandas\n",
    "#1d array = series of data\n",
    "#2d array = dataframes\n",
    "\n",
    "#columns are called series = 1d array\n",
    "#intersection of a row with column is called data\n",
    "#column names are called features\n",
    "\n",
    "#you can also use csv files as a dataframe\n"
   ]
  },
  {
   "cell_type": "code",
   "execution_count": null,
   "metadata": {},
   "outputs": [],
   "source": [
    "#you can create data frames using arrays either 1d or 2d\n",
    "import numpy as np\n",
    "import pandas as pd\n",
    "\n",
    "#2d array version using panda\n",
    "dataframe = [[1,2],[3,4],[5,6]]\n",
    "pandaDataFrame = pd.DataFrame(dataframe,index=['row1','row2','row3'], columns=['col1', 'col2'])\n",
    "print(pandaDataFrame)\n",
    "\n",
    "print('')\n",
    "\n",
    "#making 2d array using numpy\n",
    "dataframe2 = np.array([[1,2], [3,4], [5,6]])\n",
    "\n",
    "#making dataframe using pandas\n",
    "#pd.DataFrame(2dArray na ginawa, index=[\"rows\"], columns=['columnName','columnName'])\n",
    "pandaDataFrame2 = pd.DataFrame(dataframe2,index=['row1','row2','row3'], columns=['col1', 'col2'])\n",
    "print(pandaDataFrame2)\n",
    "\n",
    "\n",
    "#dictionaries keys as the column name and the element as the data. a dictionary can be a series\n",
    "dict_dataframe = {'key1': 1, 'key2': 2}\n",
    "\n",
    "#you can also use csv files as a dataframe\n",
    "\n",
    "\n",
    "# making a dataframe from a dictionary bro\n",
    "countries = ['South Korea', 'South Africa', 'Myanmar']\n",
    "population = [51269185, 58558270, 53708320]\n",
    "\n",
    "dataFrame_dict = {'Countries': countries, 'Population': population}\n",
    "pandaDataFrame3 = pd.DataFrame(dataFrame_dict)\n",
    "print()\n",
    "print(pandaDataFrame3)\n",
    "print()\n",
    "\n"
   ]
  },
  {
   "cell_type": "markdown",
   "metadata": {},
   "source": [
    "CREATING DATA FRAME USING CSV FILE\n",
    "\n",
    "use pd.read_csv() to read the whole csv file\n",
    "\n",
    "use the .head() method to get the first 5 rows on the csv"
   ]
  },
  {
   "cell_type": "code",
   "execution_count": null,
   "metadata": {},
   "outputs": [],
   "source": [
    "# import csv\n",
    "# with open('D:\\\\63947\\\\Documents\\GitHub\\\\First-Year-Assignments-Projects\\\\self-learning\\\\csv_project\\\\aral_pandas\\\\python_csv\\\\population_total.csv', 'r', newline='') as csvfile:\n",
    "#         csv_reader = csv.reader(csvfile)\n",
    "\n",
    "\n",
    "\n",
    "csv_file_exams = pd.read_csv('python_csv\\\\StudentsPerformance.csv')\n",
    "\n",
    "csv_file_exams.head()\n",
    "csv_file_exams\n"
   ]
  },
  {
   "cell_type": "markdown",
   "metadata": {},
   "source": [
    "DISPLAYING A DATAFRAME IN PANDAS\n",
    "\n",
    ".head() method to get the first 5 rows, you can also add the number of datasets you would like to put: ie. .head(number of rows you want to show) it is also the same with .tail() method\n",
    "\n",
    ".tail() to get the last 5 rows\n",
    "\n",
    "you will use the .shape attribute to get the total number of rows \n",
    "result :  (rows, columns)\n",
    "\n",
    "display n rows:\n",
    "pd.set_option('display.max_rows', 1000)"
   ]
  },
  {
   "cell_type": "code",
   "execution_count": null,
   "metadata": {},
   "outputs": [],
   "source": [
    "csv_file_exams = pd.read_csv('python_csv\\\\StudentsPerformance.csv')\n",
    "\n",
    "pd.set_option('display.max_rows', 1000)\n",
    "csv_file_exams"
   ]
  },
  {
   "cell_type": "markdown",
   "metadata": {},
   "source": [
    "PANDAS ATTRIBUTES, METHODS, FUNCTIONS\n",
    "\n",
    "Attributes = values associated with an object(for example: variableName.columns)\n",
    "\n",
    "Examples of attribute:\n",
    ".shape\n",
    ".index\n",
    ".column = you get the name of the columns\n",
    ".dtypes = to get the data type of the columns\n",
    "\n",
    "Function = group of related statements that perform a specific task(for example: max(), min(), len()). A function is defined inside a class body\n",
    "\n",
    "\n",
    "Methods: .head(), .info() to show the information of the dataframe"
   ]
  },
  {
   "cell_type": "code",
   "execution_count": null,
   "metadata": {},
   "outputs": [],
   "source": [
    "import pandas as pd\n",
    "csv_file_exams = pd.read_csv('python_csv\\\\StudentsPerformance.csv')\n",
    "\n",
    "csv_file_exams.dtypes"
   ]
  },
  {
   "cell_type": "markdown",
   "metadata": {},
   "source": [
    "USING METHODS\n",
    "\n",
    "Methods: .head(), .info() to show the information of the dataframe\n",
    "\n",
    ".describe() for basic statistics of the dataframe"
   ]
  },
  {
   "cell_type": "code",
   "execution_count": null,
   "metadata": {},
   "outputs": [],
   "source": [
    "import pandas as pd\n",
    "csv_file_exams = pd.read_csv('python_csv\\\\StudentsPerformance.csv')\n",
    "\n",
    "csv_file_exams.describe()"
   ]
  },
  {
   "cell_type": "markdown",
   "metadata": {},
   "source": [
    "USING FUNCTIONS\n",
    "\n",
    "max() finding the highest value in the data frame\n",
    "min() opposite of the max()\n",
    "len() finding the total length of the data frame\n",
    "type() obtaining the data type of the elements\n",
    "round() rounding the values of the dataset"
   ]
  },
  {
   "cell_type": "code",
   "execution_count": null,
   "metadata": {},
   "outputs": [],
   "source": [
    "import pandas as pd\n",
    "csv_file_exams = pd.read_csv('python_csv\\\\StudentsPerformance.csv')\n",
    "\n",
    "round(csv_file_exams)"
   ]
  },
  {
   "cell_type": "markdown",
   "metadata": {},
   "source": [
    "SELECTING ONE COLUMN FROM A DATA FRAME\n",
    "\n",
    "Ways:\n",
    "select a column with brackets: example: dataFrameName['columnName']\n",
    "type(dataFrameName['columnName']) to check the data type of the column\n",
    "\n",
    "series: attributes and methods"
   ]
  },
  {
   "cell_type": "code",
   "execution_count": null,
   "metadata": {},
   "outputs": [],
   "source": [
    "import pandas as pd\n",
    "csv_file_exams = pd.read_csv('python_csv\\\\StudentsPerformance.csv')\n",
    "\n",
    "# type(csv_file_exams['math score'])\n",
    "csv_file_exams['math score']"
   ]
  },
  {
   "cell_type": "markdown",
   "metadata": {},
   "source": [
    "selecting a column using .columnName Syntax 2\n"
   ]
  },
  {
   "cell_type": "code",
   "execution_count": null,
   "metadata": {},
   "outputs": [],
   "source": [
    "import pandas as pd\n",
    "csv_file_exams = pd.read_csv('python_csv\\\\StudentsPerformance.csv')\n",
    "\n",
    "csv_file_exams.gender"
   ]
  },
  {
   "cell_type": "markdown",
   "metadata": {},
   "source": [
    "SELECTING TWO OR MORE COLUMNS\n",
    "\n",
    "\n",
    "SELECT 2 COLUMNS USING dataFrameName[['columnName1', 'columnName2']]"
   ]
  },
  {
   "cell_type": "code",
   "execution_count": null,
   "metadata": {},
   "outputs": [],
   "source": [
    "import pandas as pd\n",
    "csv_file_exams = pd.read_csv('python_csv\\\\StudentsPerformance.csv')\n",
    "\n",
    "csv_file_exams[['gender', 'math score', 'reading score', 'writing score']].head(10)"
   ]
  },
  {
   "cell_type": "markdown",
   "metadata": {},
   "source": [
    "INSERTING A NEW COLUMN\n",
    "\n",
    "1.1 ADDING A NEW COLUMN WITH A SCALAR VALUE\n",
    "\n",
    "dataFrameName['newColumnName'] = value\n",
    "\n",
    "1.2 ADDING A NEW COLUMN WITH AN ARRAY USING NUMPY\n",
    "\n",
    "- import numpy\n",
    "- create an array of 1000 elements - np.arange(0, 1000) = (first value, max value)\n",
    "- dataFrameName['newColumnName'] = columnSize\n",
    "\n",
    "- create random int values = np.random.randint(min value, max value, size=number of items)\n",
    "\n",
    "create random float numbers = np.random.uniform(min value, max value, size)\n",
    "\n",
    "- dataFrameName['newColumnName'] = put the random int values\n",
    "\n",
    "- length of the array\n"
   ]
  },
  {
   "cell_type": "code",
   "execution_count": null,
   "metadata": {},
   "outputs": [],
   "source": [
    "import numpy as np\n",
    "import pandas as pd\n",
    "import random\n",
    "\n",
    "csv_file_exams = pd.read_csv('python_csv\\\\StudentsPerformance.csv')\n",
    "\n",
    "language_score = np.arange(0,1000)\n",
    "random_scores = np.random.randint(1,100, size = 1000) \n",
    "csv_file_exams['language score'] = random_scores\n",
    "\n",
    "\n",
    "csv_file_exams"
   ]
  },
  {
   "cell_type": "markdown",
   "metadata": {},
   "source": [
    "OPERATIONS ON DATA FRAMES\n",
    "\n",
    "1.1 Operations in columns\n",
    "\n",
    "select the column by dataFrameName['columnName'].sum() or \n",
    "variableName = sum(dataFrameName['columnName'])\n",
    "\n",
    "count,mean,std,max and min:\n",
    "dataFrameName['columnName'].count() = to know how many data\n",
    "dataFrameName['columnName'].sum() = to add all the data \n",
    "dataFrameName['columnName'].mean() = to know the average value\n",
    "dataFrameName['columnName'].std() = to know the standard deviation\n",
    "dataFrameName['columnName'].max() = to know the maximum value\n",
    "dataFrameName['columnName'].min() = to know the minimum value\n",
    "dataFrameName['columnName'].describe() = to summary for the statistical data\n"
   ]
  },
  {
   "cell_type": "code",
   "execution_count": null,
   "metadata": {},
   "outputs": [],
   "source": [
    "import pandas as pd\n",
    "csv_file_exams = pd.read_csv('python_csv\\\\StudentsPerformance.csv')\n",
    "\n",
    "csv_file_exams.describe()"
   ]
  },
  {
   "cell_type": "markdown",
   "metadata": {},
   "source": [
    "OPERATIONS IN ROWS\n",
    "\n",
    "Calculating the sum in a row:\n",
    "dataFrameName['columnName'] + dataFrameName['columnName'] + dataFrameName['columnName']\n",
    "\n",
    "Calculating the average of 3 columns: \n",
    "csv_file_exams['mean scores']= (csv_file_exams['math score'] + csv_file_exams['reading score'] + csv_file_exams['writing score'])/3\n"
   ]
  },
  {
   "cell_type": "code",
   "execution_count": null,
   "metadata": {},
   "outputs": [],
   "source": [
    "import pandas as pd\n",
    "csv_file_exams = pd.read_csv('python_csv\\\\StudentsPerformance.csv')\n",
    "\n",
    "# csv_file_exams['math score'] + csv_file_exams['reading score'] + csv_file_exams['writing score']\n",
    "csv_file_exams['mean scores']= (csv_file_exams['math score'] + csv_file_exams['reading score'] + csv_file_exams['writing score'])/3\n",
    "\n",
    "csv_file_exams.round(2)"
   ]
  },
  {
   "cell_type": "markdown",
   "metadata": {},
   "source": [
    "VALUE COUNTS METHOD\n",
    "\n",
    "to count by category:\n",
    "dfName['columnName'].value_counts()\n",
    "\n",
    "to count the relative frequency/ percentage:\n",
    "dfName['columnName'].value_counts(normalize=True)"
   ]
  },
  {
   "cell_type": "code",
   "execution_count": null,
   "metadata": {},
   "outputs": [],
   "source": [
    "import pandas as pd\n",
    "csv_file_exams = pd.read_csv('python_csv\\\\StudentsPerformance.csv')\n",
    "\n",
    "csv_file_exams['race/ethnicity'].value_counts(normalize=True)"
   ]
  },
  {
   "cell_type": "markdown",
   "metadata": {},
   "source": [
    "SELF TRIAL\n"
   ]
  },
  {
   "cell_type": "code",
   "execution_count": null,
   "metadata": {},
   "outputs": [],
   "source": [
    "import pandas as pd\n",
    "csv_file = pd.read_csv('python_csv\\\\tallying_research.csv')\n",
    "\n",
    "pd.set_option('display.max_rows', 113)\n",
    "csv_file"
   ]
  },
  {
   "cell_type": "markdown",
   "metadata": {},
   "source": [
    "HOW TO DELETE A COLUMN\n",
    ".drop() method\n",
    ".dropna(inplace=True) method = drops rows that has NaN values in it\n",
    "df.drop(columns=columns_to_delete, inplace=True) = drops a column\n"
   ]
  },
  {
   "cell_type": "code",
   "execution_count": null,
   "metadata": {},
   "outputs": [],
   "source": [
    "import pandas as pd\n",
    "csv_file = pd.read_csv('python_csv\\\\tallying_research.csv')\n",
    "\n",
    "\n",
    "csv_file.drop(columns=['Grade, Strand & Section', 'Timestamp'], inplace=True)\n",
    "csv_file.dropna(inplace=True)\n",
    "csv_file\n",
    "\n",
    "# csv_file"
   ]
  },
  {
   "cell_type": "markdown",
   "metadata": {},
   "source": [
    "OPERATIONS ON DATAFRAMES\n",
    "\n",
    "Select a row and calculate total sum\n",
    "csv_file_exams['ColumnName'].sum()"
   ]
  },
  {
   "cell_type": "code",
   "execution_count": null,
   "metadata": {},
   "outputs": [],
   "source": [
    "import pandas as pd\n",
    "csv_file_exams = pd.read_csv('python_csv\\\\StudentsPerformance.csv')\n",
    "\n",
    "csv_file_exams['math score'].describe()"
   ]
  },
  {
   "cell_type": "markdown",
   "metadata": {},
   "source": [
    "Sort a data frame\n",
    "\n",
    "df.sort_values(by='columnName') = sorts the values in ascending order\n",
    "\n",
    "df.sort_values(by='columnName', ascending = False) = sorts the values in descending order\n",
    "\n",
    "df.sort_values(['columnName1', 'ColumnName2']) = sorts multiple values in ascending order\n",
    "\n",
    "inplace=True => updates the values of the dataframe"
   ]
  },
  {
   "cell_type": "code",
   "execution_count": null,
   "metadata": {},
   "outputs": [],
   "source": [
    "import pandas as pd\n",
    "csv_file_exams = pd.read_csv('python_csv\\\\StudentsPerformance.csv')\n",
    "csv_file_exams.pivot()\n",
    "\n",
    "# csv_file_exams.sort_values(['math score', 'reading score', 'writing score'], ascending=False)"
   ]
  },
  {
   "cell_type": "markdown",
   "metadata": {},
   "source": [
    "How to make PIVOT TABLES\n",
    "\n",
    "import pandas as pd\n",
    "csv_fileou = pd.read_csv('python_csv\\\\gdp.csv', encoding='ISO-8859-1')\n",
    "\n",
    "index = the index of the df\n",
    "columns = the column names\n",
    "values = what u want to see in the dataframe\n",
    "\n",
    "the index,columns and the values you will use should be in your csv\n",
    "\n",
    "csv_fileou.pivot(index='year', columns='country', values=\"gdppc\")"
   ]
  },
  {
   "cell_type": "code",
   "execution_count": null,
   "metadata": {},
   "outputs": [],
   "source": [
    "import pandas as pd\n",
    "csv_fileou = pd.read_csv('python_csv\\\\gdp.csv', encoding='ISO-8859-1')\n",
    "\n",
    "csv_fileou.pivot(index='year', columns='country', values=\"gdppc\")"
   ]
  },
  {
   "cell_type": "markdown",
   "metadata": {},
   "source": [
    "You can easily plot a pie chart using the plot() function of pandas library. You should pass the plot type as 'pie' in the kind argument.\n",
    "\n",
    "library\n",
    "import pandas as pd\n",
    "import matplotlib.pyplot as plt\n",
    " \n",
    "dataset 1: just 4 values for 4 groups:\n",
    "df = pd.DataFrame([8,8,1,2], index=['a', 'b', 'c', 'd'], columns=['x'])\n",
    " \n",
    "make the plot\n",
    "df.plot(kind='pie', subplots=True, figsize=(8, 8))\n",
    "\n",
    "show the plot"
   ]
  },
  {
   "cell_type": "code",
   "execution_count": null,
   "metadata": {},
   "outputs": [],
   "source": [
    "import pandas as pd\n",
    "import matplotlib.pyplot as plt\n",
    "\n",
    "csv_file = pd.read_csv('python_csv\\\\tallying_research.csv')\n",
    "dataCleaned = csv_file['Age'].dropna().apply(lambda x: int(round(x)))\n",
    "counts = dataCleaned.value_counts()\n",
    "counts.plot(kind=\"bar\", figsize=(2,2))\n",
    "\n",
    "pd.set_option('display.max_rows', 100)\n",
    "\n",
    "plt.show()\n",
    "csv_file.dropna(inplace=True)\n",
    "plt.show()\n",
    "csv_file"
   ]
  }
 ],
 "metadata": {
  "kernelspec": {
   "display_name": "Python 3",
   "language": "python",
   "name": "python3"
  },
  "language_info": {
   "codemirror_mode": {
    "name": "ipython",
    "version": 3
   },
   "file_extension": ".py",
   "mimetype": "text/x-python",
   "name": "python",
   "nbconvert_exporter": "python",
   "pygments_lexer": "ipython3",
   "version": "3.11.9"
  }
 },
 "nbformat": 4,
 "nbformat_minor": 2
}
