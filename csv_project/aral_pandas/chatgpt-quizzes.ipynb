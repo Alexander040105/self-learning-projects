{
 "cells": [
  {
   "cell_type": "markdown",
   "metadata": {},
   "source": [
    "Easy mode:\n",
    "\n",
    "Prime Number Check\n",
    "Overview: Your function should check if a number is a prime number.\n",
    "Output: For input 7, the output should be True; for input 8, the output should be False.\n",
    "\n",
    "Reverse a String\n",
    "Overview: Your function should take a string and return it reversed.\n",
    "Output: For input \"hello\", the output should be \"olleh\".\n",
    "\n",
    "Even or Odd\n",
    "Overview: Your function should check if a number is even or odd.\n",
    "Output: For input 4, the output should be \"Even\"; for input 7, the output should be \"Odd\"."
   ]
  },
  {
   "cell_type": "code",
   "execution_count": 1,
   "metadata": {},
   "outputs": [
    {
     "name": "stdout",
     "output_type": "stream",
     "text": [
      "3\n"
     ]
    }
   ],
   "source": [
    "# Sum of Two Numbers\n",
    "# Overview: Your function should take two numbers as inputs and return their sum.\n",
    "# Output: For inputs 3 and 5, the output should be 8.\n",
    "\n",
    "def sumTwoNumber(num1, num2):\n",
    "    \n",
    "    return num1 + num2\n",
    "\n",
    "print(sumTwoNumber(1,2))"
   ]
  },
  {
   "cell_type": "code",
   "execution_count": 2,
   "metadata": {},
   "outputs": [
    {
     "name": "stdout",
     "output_type": "stream",
     "text": [
      "7\n"
     ]
    }
   ],
   "source": [
    "# Maximum of Three Numbers\n",
    "# Overview: Your function should take three numbers and return the largest one.\n",
    "# Output: For inputs 3, 7, and 5, the output should be 7.\n",
    "\n",
    "def largeNumber(num1, num2, num3):\n",
    "    if num1 > num2 and num1 > num3:\n",
    "        return num1\n",
    "    elif num2 > num1 and num2 > num3:\n",
    "        return num2\n",
    "    else:\n",
    "        return num3\n",
    "\n",
    "print(largeNumber(3,7,5))"
   ]
  },
  {
   "cell_type": "code",
   "execution_count": 3,
   "metadata": {},
   "outputs": [
    {
     "name": "stdout",
     "output_type": "stream",
     "text": [
      "15\n"
     ]
    }
   ],
   "source": [
    "# List Sum\n",
    "# Overview: Your function should take a list of numbers and return their sum.\n",
    "# Output: For input [1, 2, 3, 4, 5], the output should be 15.\n",
    "\n",
    "numbers = [1, 2, 3, 4, 5]\n",
    "\n",
    "total = __builtins__.sum(numbers)\n",
    "\n",
    "print(total)"
   ]
  },
  {
   "cell_type": "code",
   "execution_count": 4,
   "metadata": {},
   "outputs": [
    {
     "name": "stdout",
     "output_type": "stream",
     "text": [
      "120\n"
     ]
    }
   ],
   "source": [
    "# Factorial Calculation\n",
    "# Overview: Your function should take a number and return its factorial.\n",
    "# Output: For input 5, the output should be 120.\n",
    "\n",
    "def factorialCalc(num):\n",
    "    if num > 0:\n",
    "        result = num * factorialCalc(num - 1)\n",
    "        return result\n",
    "    else:\n",
    "        return 1\n",
    "\n",
    "print(factorialCalc(5))"
   ]
  },
  {
   "cell_type": "code",
   "execution_count": 5,
   "metadata": {},
   "outputs": [
    {
     "name": "stdout",
     "output_type": "stream",
     "text": [
      "racecar\n",
      "True\n",
      "olleh\n",
      "False\n"
     ]
    }
   ],
   "source": [
    "# Palindrome Check\n",
    "# Overview: Your function should check if a given string reads the same forward and backward.\n",
    "# Output: For input \"racecar\", the output should be True; for input \"hello\", the output should be False.\n",
    "\n",
    "\n",
    "def palindromeCheck(palindromeString):\n",
    "    reversedString = reversed(palindromeString)\n",
    "    newString = \"\".join(reversedString)\n",
    "    print(newString)\n",
    "    \n",
    "    if newString == palindromeString:\n",
    "        return True\n",
    "    else:\n",
    "        return False\n",
    "\n",
    "print(palindromeCheck(\"racecar\"))\n",
    "print(palindromeCheck(\"hello\"))"
   ]
  },
  {
   "cell_type": "code",
   "execution_count": 6,
   "metadata": {},
   "outputs": [
    {
     "name": "stdout",
     "output_type": "stream",
     "text": [
      "fizz\n",
      "52\n",
      "34\n",
      "fizz\n",
      "5\n",
      "7\n",
      "fizz\n",
      "71\n",
      "14\n",
      "59\n"
     ]
    }
   ],
   "source": [
    "# FizzBuzz\n",
    "# Overview: Your function should print numbers from 1 to 100 with special rules for multiples of 3 and 5.\n",
    "# Output: Numbers 1, 2, \"Fizz\", 4, \"Buzz\", \"Fizz\", 7, 8, \"Fizz\", \"Buzz\", ...\n",
    "\n",
    "import random\n",
    "\n",
    "listNum = []\n",
    "\n",
    "for i in range(10):\n",
    "    listNum.append(random.randint(1,100))\n",
    "    \n",
    "\n",
    "\n",
    "def fizzbuzz(number):\n",
    "    if number % 3 == 0:\n",
    "        return \"fizz\"\n",
    "    elif number % 3 == 0:\n",
    "        return \"buzz\"\n",
    "    elif number % 3 == 0 and number % 5 == 0:\n",
    "        return \"fizzbuzz\"\n",
    "    else:\n",
    "        return number\n",
    "\n",
    "\n",
    "for numbers in listNum:\n",
    "    print(fizzbuzz(numbers))\n",
    "\n"
   ]
  },
  {
   "cell_type": "code",
   "execution_count": 7,
   "metadata": {},
   "outputs": [],
   "source": [
    "# Prime Number Check\n",
    "# Overview: Your function should check if a number is a prime number.\n",
    "# Output: For input 7, the output should be True; for input 8, the output should be False.\n",
    "\n"
   ]
  }
 ],
 "metadata": {
  "kernelspec": {
   "display_name": "Python 3",
   "language": "python",
   "name": "python3"
  },
  "language_info": {
   "codemirror_mode": {
    "name": "ipython",
    "version": 3
   },
   "file_extension": ".py",
   "mimetype": "text/x-python",
   "name": "python",
   "nbconvert_exporter": "python",
   "pygments_lexer": "ipython3",
   "version": "3.11.9"
  }
 },
 "nbformat": 4,
 "nbformat_minor": 2
}
