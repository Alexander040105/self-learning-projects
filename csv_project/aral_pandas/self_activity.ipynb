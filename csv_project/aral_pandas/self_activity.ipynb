{
 "cells": [
  {
   "cell_type": "code",
   "execution_count": null,
   "metadata": {},
   "outputs": [],
   "source": [
    "num1 = input(\"Enter the first Number\")\n",
    "num2 = input(\"Enter the second Number\")\n",
    "i = 0\n",
    "for i in range(int(num1)):\n",
    "    i += 1\n",
    "    for j in range(int(num2)):\n",
    "        j +=1\n",
    "        print(i * j)"
   ]
  },
  {
   "cell_type": "markdown",
   "metadata": {},
   "source": [
    "Reversing a string\n"
   ]
  },
  {
   "cell_type": "code",
   "execution_count": null,
   "metadata": {},
   "outputs": [],
   "source": [
    "stringInput = input(\"Enter a string you want to reverse: \")\n",
    "stringToReverse = []\n",
    "\n",
    "for letter in stringInput:\n",
    "    stringToReverse.append(letter)\n",
    "\n",
    "stringToReverse.reverse()\n",
    "print(''.join(stringToReverse)) "
   ]
  },
  {
   "cell_type": "markdown",
   "metadata": {},
   "source": [
    "Patternss"
   ]
  },
  {
   "cell_type": "code",
   "execution_count": null,
   "metadata": {},
   "outputs": [],
   "source": [
    "num1 = input(\"Enter the first number in your pattern: \")\n",
    "num2 = input(\"Enter the second number you want as your increment: \")\n",
    "num3 = input(\"Enter the third number for the nth:\")\n",
    "\n",
    "num1 = 10\n",
    "num2 = 2\n",
    "num3 = 7\n",
    "\n",
    "for element in range(int(num3)):\n",
    "    num1 += int(num2)\n",
    "    num2 += 2 \n",
    "    print(num1)"
   ]
  },
  {
   "cell_type": "markdown",
   "metadata": {},
   "source": [
    "subsets<?>"
   ]
  },
  {
   "cell_type": "code",
   "execution_count": 26,
   "metadata": {},
   "outputs": [
    {
     "name": "stdout",
     "output_type": "stream",
     "text": [
      "union of set R&A\n",
      "[['Tuesday', 'Friday'], ['Thursday']]\n",
      "\n",
      "intersection of set A&T\n",
      "Tuesday\n",
      "\n",
      "R complement\n",
      "['Tuesday', 'Friday']\n",
      "2\n"
     ]
    }
   ],
   "source": [
    "univSet = [\"Monday\", \"Tuesday\", \"Wednesday\", \"Thursday\", \"Friday\", \"Saturday\", \"Sunday\"]\n",
    "G = [univSet[0], univSet[1], univSet[3]]\n",
    "R = [univSet[1], univSet[4]]\n",
    "E = [univSet[1], univSet[2], univSet[3]]\n",
    "A = [univSet[1], univSet[3]]\n",
    "T = [univSet[1], univSet[2]]\n",
    "\n",
    "# print(G)\n",
    "# print(R)\n",
    "# print(E)\n",
    "# print(A)\n",
    "# print(T)\n",
    "\n",
    "union1 = []\n",
    "rComplement= []\n",
    "union1 = [R.copy(), A.copy()]\n",
    "intersection = [T.copy(), A.copy()]\n",
    "\n",
    "#union of set R&A\n",
    "for element in range(len(union1[0])):\n",
    "    if union1[0][element] in union1[1]:\n",
    "        union1[1].remove(union1[0][element])\n",
    "        print(\"union of set R&A\")\n",
    "        print(union1)  \n",
    "        print(\"\")\n",
    "\n",
    "# intersection of set A&T\n",
    "for element in range(len(intersection[0])):\n",
    "    if intersection[0][element] in intersection[1]:\n",
    "        print(\"intersection of set A&T\")\n",
    "        print(intersection[0][element])\n",
    "        print(\"\")\n",
    "# R complement\n",
    "for element in range(len(R)):\n",
    "    if R[element] in univSet:\n",
    "        rComplement.append(R[element])\n",
    "print(\"R complement\")\n",
    "print(rComplement)\n",
    "print(len(rComplement))"
   ]
  }
 ],
 "metadata": {
  "kernelspec": {
   "display_name": "Python 3",
   "language": "python",
   "name": "python3"
  },
  "language_info": {
   "codemirror_mode": {
    "name": "ipython",
    "version": 3
   },
   "file_extension": ".py",
   "mimetype": "text/x-python",
   "name": "python",
   "nbconvert_exporter": "python",
   "pygments_lexer": "ipython3",
   "version": "3.11.9"
  }
 },
 "nbformat": 4,
 "nbformat_minor": 2
}
