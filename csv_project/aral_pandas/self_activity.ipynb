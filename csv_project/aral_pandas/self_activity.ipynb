{
 "cells": [
  {
   "cell_type": "code",
   "execution_count": 2,
   "metadata": {},
   "outputs": [
    {
     "name": "stdout",
     "output_type": "stream",
     "text": [
      "1\n",
      "2\n",
      "3\n",
      "4\n",
      "5\n",
      "6\n",
      "7\n",
      "8\n",
      "9\n",
      "10\n",
      "11\n",
      "12\n",
      "13\n",
      "14\n",
      "15\n",
      "16\n",
      "17\n",
      "18\n",
      "19\n",
      "20\n",
      "21\n",
      "22\n",
      "23\n",
      "24\n",
      "25\n",
      "26\n",
      "27\n",
      "28\n",
      "29\n",
      "30\n",
      "2\n",
      "4\n",
      "6\n",
      "8\n",
      "10\n",
      "12\n",
      "14\n",
      "16\n",
      "18\n",
      "20\n",
      "22\n",
      "24\n",
      "26\n",
      "28\n",
      "30\n",
      "32\n",
      "34\n",
      "36\n",
      "38\n",
      "40\n",
      "42\n",
      "44\n",
      "46\n",
      "48\n",
      "50\n",
      "52\n",
      "54\n",
      "56\n",
      "58\n",
      "60\n",
      "3\n",
      "6\n",
      "9\n",
      "12\n",
      "15\n",
      "18\n",
      "21\n",
      "24\n",
      "27\n",
      "30\n",
      "33\n",
      "36\n",
      "39\n",
      "42\n",
      "45\n",
      "48\n",
      "51\n",
      "54\n",
      "57\n",
      "60\n",
      "63\n",
      "66\n",
      "69\n",
      "72\n",
      "75\n",
      "78\n",
      "81\n",
      "84\n",
      "87\n",
      "90\n",
      "4\n",
      "8\n",
      "12\n",
      "16\n",
      "20\n",
      "24\n",
      "28\n",
      "32\n",
      "36\n",
      "40\n",
      "44\n",
      "48\n",
      "52\n",
      "56\n",
      "60\n",
      "64\n",
      "68\n",
      "72\n",
      "76\n",
      "80\n",
      "84\n",
      "88\n",
      "92\n",
      "96\n",
      "100\n",
      "104\n",
      "108\n",
      "112\n",
      "116\n",
      "120\n",
      "5\n",
      "10\n",
      "15\n",
      "20\n",
      "25\n",
      "30\n",
      "35\n",
      "40\n",
      "45\n",
      "50\n",
      "55\n",
      "60\n",
      "65\n",
      "70\n",
      "75\n",
      "80\n",
      "85\n",
      "90\n",
      "95\n",
      "100\n",
      "105\n",
      "110\n",
      "115\n",
      "120\n",
      "125\n",
      "130\n",
      "135\n",
      "140\n",
      "145\n",
      "150\n",
      "6\n",
      "12\n",
      "18\n",
      "24\n",
      "30\n",
      "36\n",
      "42\n",
      "48\n",
      "54\n",
      "60\n",
      "66\n",
      "72\n",
      "78\n",
      "84\n",
      "90\n",
      "96\n",
      "102\n",
      "108\n",
      "114\n",
      "120\n",
      "126\n",
      "132\n",
      "138\n",
      "144\n",
      "150\n",
      "156\n",
      "162\n",
      "168\n",
      "174\n",
      "180\n",
      "7\n",
      "14\n",
      "21\n",
      "28\n",
      "35\n",
      "42\n",
      "49\n",
      "56\n",
      "63\n",
      "70\n",
      "77\n",
      "84\n",
      "91\n",
      "98\n",
      "105\n",
      "112\n",
      "119\n",
      "126\n",
      "133\n",
      "140\n",
      "147\n",
      "154\n",
      "161\n",
      "168\n",
      "175\n",
      "182\n",
      "189\n",
      "196\n",
      "203\n",
      "210\n",
      "8\n",
      "16\n",
      "24\n",
      "32\n",
      "40\n",
      "48\n",
      "56\n",
      "64\n",
      "72\n",
      "80\n",
      "88\n",
      "96\n",
      "104\n",
      "112\n",
      "120\n",
      "128\n",
      "136\n",
      "144\n",
      "152\n",
      "160\n",
      "168\n",
      "176\n",
      "184\n",
      "192\n",
      "200\n",
      "208\n",
      "216\n",
      "224\n",
      "232\n",
      "240\n",
      "9\n",
      "18\n",
      "27\n",
      "36\n",
      "45\n",
      "54\n",
      "63\n",
      "72\n",
      "81\n",
      "90\n",
      "99\n",
      "108\n",
      "117\n",
      "126\n",
      "135\n",
      "144\n",
      "153\n",
      "162\n",
      "171\n",
      "180\n",
      "189\n",
      "198\n",
      "207\n",
      "216\n",
      "225\n",
      "234\n",
      "243\n",
      "252\n",
      "261\n",
      "270\n",
      "10\n",
      "20\n",
      "30\n",
      "40\n",
      "50\n",
      "60\n",
      "70\n",
      "80\n",
      "90\n",
      "100\n",
      "110\n",
      "120\n",
      "130\n",
      "140\n",
      "150\n",
      "160\n",
      "170\n",
      "180\n",
      "190\n",
      "200\n",
      "210\n",
      "220\n",
      "230\n",
      "240\n",
      "250\n",
      "260\n",
      "270\n",
      "280\n",
      "290\n",
      "300\n",
      "11\n",
      "22\n",
      "33\n",
      "44\n",
      "55\n",
      "66\n",
      "77\n",
      "88\n",
      "99\n",
      "110\n",
      "121\n",
      "132\n",
      "143\n",
      "154\n",
      "165\n",
      "176\n",
      "187\n",
      "198\n",
      "209\n",
      "220\n",
      "231\n",
      "242\n",
      "253\n",
      "264\n",
      "275\n",
      "286\n",
      "297\n",
      "308\n",
      "319\n",
      "330\n",
      "12\n",
      "24\n",
      "36\n",
      "48\n",
      "60\n",
      "72\n",
      "84\n",
      "96\n",
      "108\n",
      "120\n",
      "132\n",
      "144\n",
      "156\n",
      "168\n",
      "180\n",
      "192\n",
      "204\n",
      "216\n",
      "228\n",
      "240\n",
      "252\n",
      "264\n",
      "276\n",
      "288\n",
      "300\n",
      "312\n",
      "324\n",
      "336\n",
      "348\n",
      "360\n",
      "13\n",
      "26\n",
      "39\n",
      "52\n",
      "65\n",
      "78\n",
      "91\n",
      "104\n",
      "117\n",
      "130\n",
      "143\n",
      "156\n",
      "169\n",
      "182\n",
      "195\n",
      "208\n",
      "221\n",
      "234\n",
      "247\n",
      "260\n",
      "273\n",
      "286\n",
      "299\n",
      "312\n",
      "325\n",
      "338\n",
      "351\n",
      "364\n",
      "377\n",
      "390\n",
      "14\n",
      "28\n",
      "42\n",
      "56\n",
      "70\n",
      "84\n",
      "98\n",
      "112\n",
      "126\n",
      "140\n",
      "154\n",
      "168\n",
      "182\n",
      "196\n",
      "210\n",
      "224\n",
      "238\n",
      "252\n",
      "266\n",
      "280\n",
      "294\n",
      "308\n",
      "322\n",
      "336\n",
      "350\n",
      "364\n",
      "378\n",
      "392\n",
      "406\n",
      "420\n",
      "15\n",
      "30\n",
      "45\n",
      "60\n",
      "75\n",
      "90\n",
      "105\n",
      "120\n",
      "135\n",
      "150\n",
      "165\n",
      "180\n",
      "195\n",
      "210\n",
      "225\n",
      "240\n",
      "255\n",
      "270\n",
      "285\n",
      "300\n",
      "315\n",
      "330\n",
      "345\n",
      "360\n",
      "375\n",
      "390\n",
      "405\n",
      "420\n",
      "435\n",
      "450\n",
      "16\n",
      "32\n",
      "48\n",
      "64\n",
      "80\n",
      "96\n",
      "112\n",
      "128\n",
      "144\n",
      "160\n",
      "176\n",
      "192\n",
      "208\n",
      "224\n",
      "240\n",
      "256\n",
      "272\n",
      "288\n",
      "304\n",
      "320\n",
      "336\n",
      "352\n",
      "368\n",
      "384\n",
      "400\n",
      "416\n",
      "432\n",
      "448\n",
      "464\n",
      "480\n",
      "17\n",
      "34\n",
      "51\n",
      "68\n",
      "85\n",
      "102\n",
      "119\n",
      "136\n",
      "153\n",
      "170\n",
      "187\n",
      "204\n",
      "221\n",
      "238\n",
      "255\n",
      "272\n",
      "289\n",
      "306\n",
      "323\n",
      "340\n",
      "357\n",
      "374\n",
      "391\n",
      "408\n",
      "425\n",
      "442\n",
      "459\n",
      "476\n",
      "493\n",
      "510\n",
      "18\n",
      "36\n",
      "54\n",
      "72\n",
      "90\n",
      "108\n",
      "126\n",
      "144\n",
      "162\n",
      "180\n",
      "198\n",
      "216\n",
      "234\n",
      "252\n",
      "270\n",
      "288\n",
      "306\n",
      "324\n",
      "342\n",
      "360\n",
      "378\n",
      "396\n",
      "414\n",
      "432\n",
      "450\n",
      "468\n",
      "486\n",
      "504\n",
      "522\n",
      "540\n",
      "19\n",
      "38\n",
      "57\n",
      "76\n",
      "95\n",
      "114\n",
      "133\n",
      "152\n",
      "171\n",
      "190\n",
      "209\n",
      "228\n",
      "247\n",
      "266\n",
      "285\n",
      "304\n",
      "323\n",
      "342\n",
      "361\n",
      "380\n",
      "399\n",
      "418\n",
      "437\n",
      "456\n",
      "475\n",
      "494\n",
      "513\n",
      "532\n",
      "551\n",
      "570\n",
      "20\n",
      "40\n",
      "60\n",
      "80\n",
      "100\n",
      "120\n",
      "140\n",
      "160\n",
      "180\n",
      "200\n",
      "220\n",
      "240\n",
      "260\n",
      "280\n",
      "300\n",
      "320\n",
      "340\n",
      "360\n",
      "380\n",
      "400\n",
      "420\n",
      "440\n",
      "460\n",
      "480\n",
      "500\n",
      "520\n",
      "540\n",
      "560\n",
      "580\n",
      "600\n",
      "21\n",
      "42\n",
      "63\n",
      "84\n",
      "105\n",
      "126\n",
      "147\n",
      "168\n",
      "189\n",
      "210\n",
      "231\n",
      "252\n",
      "273\n",
      "294\n",
      "315\n",
      "336\n",
      "357\n",
      "378\n",
      "399\n",
      "420\n",
      "441\n",
      "462\n",
      "483\n",
      "504\n",
      "525\n",
      "546\n",
      "567\n",
      "588\n",
      "609\n",
      "630\n",
      "22\n",
      "44\n",
      "66\n",
      "88\n",
      "110\n",
      "132\n",
      "154\n",
      "176\n",
      "198\n",
      "220\n",
      "242\n",
      "264\n",
      "286\n",
      "308\n",
      "330\n",
      "352\n",
      "374\n",
      "396\n",
      "418\n",
      "440\n",
      "462\n",
      "484\n",
      "506\n",
      "528\n",
      "550\n",
      "572\n",
      "594\n",
      "616\n",
      "638\n",
      "660\n",
      "23\n",
      "46\n",
      "69\n",
      "92\n",
      "115\n",
      "138\n",
      "161\n",
      "184\n",
      "207\n",
      "230\n",
      "253\n",
      "276\n",
      "299\n",
      "322\n",
      "345\n",
      "368\n",
      "391\n",
      "414\n",
      "437\n",
      "460\n",
      "483\n",
      "506\n",
      "529\n",
      "552\n",
      "575\n",
      "598\n",
      "621\n",
      "644\n",
      "667\n",
      "690\n",
      "24\n",
      "48\n",
      "72\n",
      "96\n",
      "120\n",
      "144\n",
      "168\n",
      "192\n",
      "216\n",
      "240\n",
      "264\n",
      "288\n",
      "312\n",
      "336\n",
      "360\n",
      "384\n",
      "408\n",
      "432\n",
      "456\n",
      "480\n",
      "504\n",
      "528\n",
      "552\n",
      "576\n",
      "600\n",
      "624\n",
      "648\n",
      "672\n",
      "696\n",
      "720\n",
      "25\n",
      "50\n",
      "75\n",
      "100\n",
      "125\n",
      "150\n",
      "175\n",
      "200\n",
      "225\n",
      "250\n",
      "275\n",
      "300\n",
      "325\n",
      "350\n",
      "375\n",
      "400\n",
      "425\n",
      "450\n",
      "475\n",
      "500\n",
      "525\n",
      "550\n",
      "575\n",
      "600\n",
      "625\n",
      "650\n",
      "675\n",
      "700\n",
      "725\n",
      "750\n"
     ]
    }
   ],
   "source": [
    "num1 = input(\"Enter the first Number\")\n",
    "num2 = input(\"Enter the second Number\")\n",
    "i = 0\n",
    "for i in range(int(num1)):\n",
    "    i += 1\n",
    "    for j in range(int(num2)):\n",
    "        j +=1\n",
    "        print(i * j)"
   ]
  },
  {
   "cell_type": "code",
   "execution_count": null,
   "metadata": {},
   "outputs": [],
   "source": []
  },
  {
   "cell_type": "markdown",
   "metadata": {},
   "source": [
    "Reversing a string\n"
   ]
  },
  {
   "cell_type": "code",
   "execution_count": 3,
   "metadata": {},
   "outputs": [
    {
     "name": "stdout",
     "output_type": "stream",
     "text": [
      "recar\n"
     ]
    }
   ],
   "source": [
    "stringInput = input(\"Enter a string you want to reverse: \")\n",
    "stringToReverse = []\n",
    "\n",
    "for letter in stringInput:\n",
    "    stringToReverse.append(letter)\n",
    "\n",
    "stringToReverse.reverse()\n",
    "print(''.join(stringToReverse)) "
   ]
  },
  {
   "cell_type": "markdown",
   "metadata": {},
   "source": [
    "Patternss"
   ]
  },
  {
   "cell_type": "code",
   "execution_count": 4,
   "metadata": {},
   "outputs": [
    {
     "name": "stdout",
     "output_type": "stream",
     "text": [
      "12\n",
      "16\n",
      "22\n",
      "30\n",
      "40\n",
      "52\n",
      "66\n"
     ]
    }
   ],
   "source": [
    "num1 = input(\"Enter the first number in your pattern: \")\n",
    "num2 = input(\"Enter the second number you want as your increment: \")\n",
    "num3 = input(\"Enter the third number for the nth:\")\n",
    "\n",
    "# num1 = 10\n",
    "# num2 = 2\n",
    "# num3 = 7\n",
    "\n",
    "for element in range(int(num3)):\n",
    "    num1 += int(num2)\n",
    "    num2 += 2 \n",
    "    print(num1)"
   ]
  },
  {
   "cell_type": "markdown",
   "metadata": {},
   "source": [
    "subsets<?>"
   ]
  },
  {
   "cell_type": "code",
   "execution_count": 5,
   "metadata": {},
   "outputs": [
    {
     "name": "stdout",
     "output_type": "stream",
     "text": [
      "union of set R&A\n",
      "[['Tuesday', 'Friday'], ['Thursday']]\n",
      "\n",
      "intersection of set A&T\n",
      "Tuesday\n",
      "\n",
      "R complement\n",
      "['Tuesday', 'Friday']\n",
      "2\n"
     ]
    }
   ],
   "source": [
    "univSet = [\"Monday\", \"Tuesday\", \"Wednesday\", \"Thursday\", \"Friday\", \"Saturday\", \"Sunday\"]\n",
    "G = [univSet[0], univSet[1], univSet[3]]\n",
    "R = [univSet[1], univSet[4]]\n",
    "E = [univSet[1], univSet[2], univSet[3]]\n",
    "A = [univSet[1], univSet[3]]\n",
    "T = [univSet[1], univSet[2]]\n",
    "\n",
    "# print(G)\n",
    "# print(R)\n",
    "# print(E)\n",
    "# print(A)\n",
    "# print(T)\n",
    "\n",
    "union1 = []\n",
    "rComplement= []\n",
    "union1 = [R.copy(), A.copy()]\n",
    "intersection = [T.copy(), A.copy()]\n",
    "\n",
    "#union of set R&A\n",
    "for element in range(len(union1[0])):\n",
    "    if union1[0][element] in union1[1]:\n",
    "        union1[1].remove(union1[0][element])\n",
    "        print(\"union of set R&A\")\n",
    "        print(union1)  \n",
    "        print(\"\")\n",
    "\n",
    "# intersection of set A&T\n",
    "for element in range(len(intersection[0])):\n",
    "    if intersection[0][element] in intersection[1]:\n",
    "        print(\"intersection of set A&T\")\n",
    "        print(intersection[0][element])\n",
    "        print(\"\")\n",
    "# R complement\n",
    "for element in range(len(R)):\n",
    "    if R[element] in univSet:\n",
    "        rComplement.append(R[element])\n",
    "print(\"R complement\")\n",
    "print(rComplement)\n",
    "print(len(rComplement))"
   ]
  },
  {
   "cell_type": "markdown",
   "metadata": {},
   "source": [
    "binary tree\n"
   ]
  },
  {
   "cell_type": "code",
   "execution_count": 6,
   "metadata": {},
   "outputs": [
    {
     "name": "stdout",
     "output_type": "stream",
     "text": [
      "Inorder traversal: [1, 3, 4, 5, 7]\n"
     ]
    }
   ],
   "source": [
    "class TreeNode:\n",
    "    def __init__(self, key):\n",
    "        self.val = key\n",
    "        self.left = None\n",
    "        self.right = None\n",
    "\n",
    "class BinaryTree:\n",
    "    def __init__(self):\n",
    "        self.root = None\n",
    "\n",
    "    def insert(self, key):\n",
    "        if not self.root:\n",
    "            self.root = TreeNode(key)\n",
    "        else:\n",
    "            self._insert_recursively(self.root, key)\n",
    "\n",
    "    def _insert_recursively(self, node, key):\n",
    "        if key < node.val:\n",
    "            if node.left is None:\n",
    "                node.left = TreeNode(key)\n",
    "            else:\n",
    "                self._insert_recursively(node.left, key)\n",
    "        else:\n",
    "            if node.right is None:\n",
    "                node.right = TreeNode(key)\n",
    "            else:\n",
    "                self._insert_recursively(node.right, key)\n",
    "\n",
    "    def inorder_traversal(self):\n",
    "        result = []\n",
    "        self._inorder_traversal_recursive(self.root, result)\n",
    "        return result\n",
    "\n",
    "    def _inorder_traversal_recursive(self, node, result):\n",
    "        if node:\n",
    "            self._inorder_traversal_recursive(node.left, result)\n",
    "            result.append(node.val)\n",
    "            self._inorder_traversal_recursive(node.right, result)\n",
    "\n",
    "# Example usage:\n",
    "tree = BinaryTree()\n",
    "tree.insert(5)\n",
    "tree.insert(3)\n",
    "tree.insert(7)\n",
    "tree.insert(1)\n",
    "tree.insert(4)\n",
    "\n",
    "print(\"Inorder traversal:\", tree.inorder_traversal())  # Output: [1, 3, 4, 5, 7]\n"
   ]
  },
  {
   "cell_type": "markdown",
   "metadata": {},
   "source": [
    "Python Pandas Trial\n"
   ]
  },
  {
   "cell_type": "code",
   "execution_count": 7,
   "metadata": {},
   "outputs": [
    {
     "data": {
      "image/png": "[encoded data removed]",
      "text/plain": [
       "<Figure size 2000x500 with 1 Axes>"
      ]
     },
     "metadata": {},
     "output_type": "display_data"
    }
   ],
   "source": [
    "import pandas as pd\n",
    "import matplotlib.pyplot as plt\n",
    "\n",
    "csv_file = pd.read_csv('python_csv\\\\carbonEmission.csv')\n",
    "counts = csv_file.value_counts()\n",
    "csv_file['CO2(kg)'].astype('int32')\n",
    "csv_file\n",
    "\n",
    "colors=['blue', 'green', 'red', 'orange','yellow','magenta','green','brown','pink','indigo','violet']\n",
    "\n",
    "plt.figure(figsize=(20, 5))\n",
    "plt.bar(csv_file['Name'].head(10), csv_file['CO2(kg)'].head(10), color=colors)\n",
    "plt.xlabel('Names of Personalities')\n",
    "plt.ylabel('Carbon Emmissions')\n",
    "plt.title('CO2(kg) emissions')\n",
    "    \n",
    "plt.show()"
   ]
  },
  {
   "cell_type": "markdown",
   "metadata": {},
   "source": [
    "Creating a addition of a 3x3 matrix\n"
   ]
  },
  {
   "cell_type": "code",
   "execution_count": 8,
   "metadata": {},
   "outputs": [
    {
     "name": "stdout",
     "output_type": "stream",
     "text": [
      "[[10, 10, 10], [10, 10, 10], [10, 10, 10]]\n"
     ]
    }
   ],
   "source": [
    "import numpy as np\n",
    "matrix1 = [[1,2,3],[4,5,6],[7,8,9]]\n",
    "matrix2 = [[9,8,7],[6,5,4],[3,2,1]]\n",
    "\n",
    "sumMatrix = [[0 for elements in range(len(matrix1[0]))] for element in range(len(matrix1))]\n",
    "\n",
    "for i in range(len(matrix1)):\n",
    "    for j in range(len(matrix1[0])):\n",
    "        sumMatrix[i][j] = np.add(matrix1[i][j],matrix2[i][j])\n",
    "\n",
    "print(sumMatrix)"
   ]
  },
  {
   "cell_type": "markdown",
   "metadata": {},
   "source": [
    "Using stock market api(?)"
   ]
  },
  {
   "cell_type": "code",
   "execution_count": 9,
   "metadata": {},
   "outputs": [
    {
     "name": "stdout",
     "output_type": "stream",
     "text": [
      "{'meta': {'version': 'v1.0', 'status': 200, 'copywrite': 'https://apicalls.io', 'totalrecords': 7007, 'headers': {'symbol': 'Symbol', 'name': 'Name', 'lastsale': 'Last Sale', 'netchange': 'Net Change', 'pctchange': '% Change', 'marketCap': 'Market Cap'}}, 'body': [{'symbol': 'ASML', 'name': 'ASML Holding N.V. New York Registry Shares', 'lastsale': '$883.71', 'netchange': '-52.99', 'pctchange': '-5.657%', 'marketCap': '347,670,709,065'}, {'symbol': 'ABBV', 'name': 'AbbVie Inc. Common Stock', 'lastsale': '$189.71', 'netchange': '4.39', 'pctchange': '2.369%', 'marketCap': '335,002,776,734'}, {'symbol': 'BAC', 'name': 'Bank of America Corporation Common Stock', 'lastsale': '$39.50', 'netchange': '-0.81', 'pctchange': '-2.009%', 'marketCap': '306,503,307,814'}, {'symbol': 'KO', 'name': 'Coca-Cola Company (The) Common Stock', 'lastsale': '$67.96', 'netchange': '1.22', 'pctchange': '1.828%', 'marketCap': '292,898,639,474'}, {'symbol': 'MRK', 'name': 'Merck & Company, Inc. Common Stock (new)', 'lastsale': '$113.82', 'netchange': '0.69', 'pctchange': '0.61%', 'marketCap': '288,284,013,863'}, {'symbol': 'CVX', 'name': 'Chevron Corporation Common Stock', 'lastsale': '$152.62', 'netchange': '-7.85', 'pctchange': '-4.892%', 'marketCap': '281,890,518,616'}, {'symbol': 'NFLX', 'name': 'Netflix, Inc. Common Stock', 'lastsale': '$624.85', 'netchange': '-3.50', 'pctchange': '-0.557%', 'marketCap': '268,163,509,683'}, {'symbol': 'AZN', 'name': 'AstraZeneca PLC American Depositary Shares', 'lastsale': '$81.20', 'netchange': '2.05', 'pctchange': '2.59%', 'marketCap': '251,763,535,380'}, {'symbol': 'CRM', 'name': 'Salesforce, Inc. Common Stock', 'lastsale': '$253.06', 'netchange': '-5.74', 'pctchange': '-2.218%', 'marketCap': '245,215,140,000'}, {'symbol': 'ADBE', 'name': 'Adobe Inc. Common Stock', 'lastsale': '$546.41', 'netchange': '-5.24', 'pctchange': '-0.95%', 'marketCap': '242,278,194,000'}, {'symbol': 'TM', 'name': 'Toyota Motor Corporation Common Stock', 'lastsale': '$179.07', 'netchange': '-14.48', 'pctchange': '-7.481%', 'marketCap': '241,281,998,541'}, {'symbol': 'PEP', 'name': 'PepsiCo, Inc. Common Stock', 'lastsale': '$174.96', 'netchange': '2.29', 'pctchange': '1.326%', 'marketCap': '240,320,227,104'}, {'symbol': 'SAP', 'name': 'SAP  SE ADS', 'lastsale': '$205.56', 'netchange': '-6.04', 'pctchange': '-2.854%', 'marketCap': '239,935,604,751'}, {'symbol': 'TMO', 'name': 'Thermo Fisher Scientific Inc Common Stock', 'lastsale': '$621.77', 'netchange': '8.43', 'pctchange': '1.374%', 'marketCap': '237,339,758,152'}, {'symbol': 'SHEL', 'name': 'Shell PLC American Depositary Shares (each representing two (2) Ordinary Shares) ', 'lastsale': '$72.94', 'netchange': '-0.28', 'pctchange': '-0.382%', 'marketCap': '229,495,449,895'}, {'symbol': 'NVS', 'name': 'Novartis AG Common Stock', 'lastsale': '$112.10', 'netchange': '0.62', 'pctchange': '0.556%', 'marketCap': '229,136,209,831'}, {'symbol': 'CCZ', 'name': 'Comcast Holdings ZONES', 'lastsale': '$57.00', 'netchange': '0.24', 'pctchange': '0.423%', 'marketCap': '220,732,592,511'}, {'symbol': 'TMUS', 'name': 'T-Mobile US, Inc. Common Stock', 'lastsale': '$187.07', 'netchange': '4.79', 'pctchange': '2.628%', 'marketCap': '218,270,289,053'}, {'symbol': 'LIN', 'name': 'Linde plc Ordinary Shares', 'lastsale': '$453.34', 'netchange': '-0.16', 'pctchange': '-0.035%', 'marketCap': '217,909,785,229'}, {'symbol': 'AMD', 'name': 'Advanced Micro Devices, Inc. Common Stock', 'lastsale': '$132.54', 'netchange': '-11.94', 'pctchange': '-8.264%', 'marketCap': '214,513,583,736'}, {'symbol': 'ACN', 'name': 'Accenture plc Class A Ordinary Shares (Ireland)', 'lastsale': '$328.08', 'netchange': '-2.54', 'pctchange': '-0.768%', 'marketCap': '205,605,493,573'}, {'symbol': 'DHR', 'name': 'Danaher Corporation Common Stock', 'lastsale': '$280.76', 'netchange': '3.68', 'pctchange': '1.328%', 'marketCap': '202,768,544,622'}, {'symbol': 'WFC', 'name': 'Wells Fargo & Company Common Stock', 'lastsale': '$56.88', 'netchange': '-2.46', 'pctchange': '-4.146%', 'marketCap': '198,301,617,563'}, {'symbol': 'MCD', 'name': \"McDonald's Corporation Common Stock\", 'lastsale': '$268.75', 'netchange': '3.35', 'pctchange': '1.262%', 'marketCap': '193,683,195,050'}, {'symbol': 'ABT', 'name': 'Abbott Laboratories Common Stock', 'lastsale': '$110.15', 'netchange': '4.21', 'pctchange': '3.974%', 'marketCap': '191,649,654,991'}]}\n"
     ]
    },
    {
     "data": {
      "image/png": "[encoded data removed]",
      "text/plain": [
       "<Figure size 2000x1000 with 1 Axes>"
      ]
     },
     "metadata": {},
     "output_type": "display_data"
    }
   ],
   "source": [
    "import requests\n",
    "import pandas as pd\n",
    "import matplotlib.pyplot as plt\n",
    "import locale\n",
    "import os\n",
    "from dotenv import load_dotenv, dotenv_values \n",
    "load_dotenv() \n",
    "API_KEY = os.getenv('STOCK_KEY')\n",
    "\n",
    "url = \"https://yahoo-finance15.p.rapidapi.com/api/v2/markets/tickers\"\n",
    "\n",
    "querystring = {\"type\": \"STOCKS\", \"page\": \"1\"}\n",
    "\n",
    "headers = {\n",
    "    \"X-RapidAPI-Key\": API_KEY,\n",
    "    \"X-RapidAPI-Host\": \"yahoo-finance15.p.rapidapi.com\"\n",
    "}\n",
    "\n",
    "response = requests.get(url, headers=headers, params=querystring)\n",
    "\n",
    "# Check if response was successful\n",
    "if response.status_code == 200:\n",
    "    data = response.json()\n",
    "    print(data)\n",
    "    \n",
    "    # Find Oracle and Adobe data\n",
    "    # oracle = next((item for item in data['body'] if item['name'] == \"Oracle Corporation Common Stock\"), None)\n",
    "    # adobe = next((item for item in data['body'] if item['name'] == \"Adobe Inc. Common Stock\"), None)\n",
    "    \n",
    "    symbols = []\n",
    "    names = []\n",
    "    marketCap = []\n",
    "    colors=['blue', 'green', 'red', 'orange','yellow','magenta','green','brown','pink','indigo','violet']\n",
    "    \n",
    "    # accessing the data and putting it on the list\n",
    "    for datas in data['body']:\n",
    "        symbols.append(datas['symbol'])\n",
    "        names.append(datas['name'])\n",
    "        marketCap.append(int(datas['marketCap'].replace(',', '')))\n",
    "    \n",
    "    # making the data frame of the stock market cap\n",
    "    dataFrame = {'Names': symbols, 'Market Cap': marketCap}\n",
    "    stockDataFrame = pd.DataFrame(dataFrame)\n",
    "    \n",
    "    # plotting the data from the data frame\n",
    "    plt.figure(figsize=(20, 10))\n",
    "    plt.bar(stockDataFrame['Names'].head(10), stockDataFrame['Market Cap'].head(10), color=colors)\n",
    "    plt.xlabel('Stock Market Symbols')\n",
    "    plt.ylabel('Market Cap')\n",
    "    plt.title('Market Cap Differences')\n",
    "    \n",
    "    \n",
    "    ax = plt.gca()  # Get current axis\n",
    "    # ax.yaxis.set_major_formatter(ScalarFormatter())\n",
    "    ax.yaxis.set_major_formatter(plt.FuncFormatter(lambda x, _: f'{x:,.0f}'))\n",
    "    \n",
    "    plt.show()\n",
    "    \n",
    "else:\n",
    "    print(\"Failed to fetch data. Status code:\", response.status_code)\n",
    "    \n",
    "\n",
    "# experiment code\n",
    "    \n",
    "    # oracleMarketCap = int(oracle['marketCap'].replace(',', '')) if oracle else None\n",
    "    # adobeMarketCap = int(adobe['marketCap'].replace(',', '')) if adobe else None\n",
    "    \n",
    "\n",
    "    \n",
    "    # if oracleMarketCap:\n",
    "    #     symbols.append(oracle['symbol'])\n",
    "    #     marketCap.append(oracleMarketCap)\n",
    "    # if adobeMarketCap:\n",
    "    #     symbols.append(adobe['symbol'])\n",
    "    #     marketCap.append(adobeMarketCap)\n",
    "    \n",
    "    \n",
    "# Check if request was successful\n",
    "# if response.status_code == 200:\n",
    "#     data = response.json()\n",
    "    \n",
    "#     oracle = next(item for item in data['body'] if item['name'] == \"Oracle Corporation Common Stock\")\n",
    "#     adobe = next(item for item in data['body'] if item['name'] == \"Adobe Inc. Common Stock\")\n",
    "    \n",
    "#     oracleMarketCap = oracle['marketCap']\n",
    "#     adobeMarketCap = adobe['marketCap']\n",
    "#     symbols = [adobe['symbol'],oracle['symbol']]\n",
    "#     marketCap = [adobe['marketCap'],oracle['marketCap']]\n",
    "#     # for datas in data['body']:\n",
    "#     #     symbols.append(datas['symbol'])\n",
    "#     #     marketCap.append(int(datas['marketCap'].replace(',', '')))\n",
    "        \n",
    "#     # print(symbols)\n",
    "    \n",
    "#     plt.figure(figsize=(20, 20))\n",
    "#     plt.bar(symbols, marketCap)\n",
    "#     plt.xlabel('Stock Market Symbols')\n",
    "#     plt.ylabel('Market Cap')\n",
    "#     plt.title('Market Cap differences')\n",
    "    \n",
    "#     plt.show()\n",
    "# else:\n",
    "#     print(\"Failed to fetch data. Status code:\", response.status_code)\n"
   ]
  },
  {
   "cell_type": "code",
   "execution_count": 10,
   "metadata": {},
   "outputs": [
    {
     "data": {
      "image/png": "[encoded data removed]",
      "text/plain": [
       "<Figure size 1000x600 with 1 Axes>"
      ]
     },
     "metadata": {},
     "output_type": "display_data"
    }
   ],
   "source": [
    "import matplotlib.pyplot as plt\n",
    "from matplotlib.ticker import ScalarFormatter\n",
    "\n",
    "# Sample data\n",
    "stocks = [\"Oracle\", \"Merck\", \"Chevron\", \"Bank of America\"]\n",
    "market_caps = [332212887180, 325870859459, 302189147889, 301006053039]\n",
    "\n",
    "# Plotting the bar graph\n",
    "plt.figure(figsize=(10, 6))\n",
    "plt.bar(stocks, market_caps, color=['blue', 'green', 'red', 'orange'])\n",
    "\n",
    "# Adding labels and title\n",
    "plt.xlabel('Stocks')\n",
    "plt.ylabel('Market Capitalization')\n",
    "plt.title('Market Capitalization of Different Stocks')\n",
    "\n",
    "\n",
    "#turning the scientific notations into integers using ScalarFormatter()\n",
    "ax = plt.gca()  # Get current axis\n",
    "ax.yaxis.set_major_formatter(ScalarFormatter())\n",
    "ax.yaxis.set_major_formatter(plt.FuncFormatter(lambda x, _: f'{x:,.0f}'))\n",
    "\n",
    "# Display the plot\n",
    "plt.show()\n"
   ]
  },
  {
   "cell_type": "markdown",
   "metadata": {},
   "source": [
    "Testing the code from the matplotlib cheatsheet"
   ]
  },
  {
   "cell_type": "code",
   "execution_count": 11,
   "metadata": {},
   "outputs": [
    {
     "data": {
      "image/png": "[encoded data removed]",
      "text/plain": [
       "<Figure size 640x480 with 1 Axes>"
      ]
     },
     "metadata": {},
     "output_type": "display_data"
    }
   ],
   "source": [
    "import matplotlib.pyplot as plt\n",
    "import numpy as np\n",
    "\n",
    "X = np.random.uniform(0, 1, 100)\n",
    "Y = np.random.uniform(0, 1, 100)\n",
    "plt.scatter(X, Y)\n",
    "plt.show()\n",
    "\n"
   ]
  },
  {
   "cell_type": "markdown",
   "metadata": {},
   "source": [
    "Explanation of X, Y1, and Y2:\n",
    "X:\n",
    "\n",
    "X = np.linspace(0, 10, 100) generates an array of 100 evenly spaced values between 0 and 10. This array represents the x-coordinates for the plot.\n",
    "Y1:\n",
    "\n",
    "Y1 = np.sin(X) computes the sine of each value in the X array. This results in an array of the same length as X, where each element is the sine of the corresponding element in X.\n",
    "The sine function np.sin returns values between -1 and 1, corresponding to the sine wave oscillation.\n",
    "Y2:\n",
    "\n",
    "Y2 = np.cos(X) computes the cosine of each value in the X array. Similar to Y1, this results in an array of the same length as X, where each element is the cosine of the corresponding element in X.\n",
    "The cosine function np.cos also returns values between -1 and 1, corresponding to the cosine wave oscillation.\n",
    "Plotting:\n",
    "ax.plot(X, Y1, X, Y2) plots two lines on the same axes:\n",
    "The first line uses X as the x-coordinates and Y1 as the y-coordinates, resulting in a sine wave.\n",
    "The second line also uses X as the x-coordinates and Y2 as the y-coordinates, resulting in a cosine wave.\n",
    "Both sine and cosine functions are periodic with a period of \n",
    "2\n",
    "𝜋\n",
    "2π. Given that X ranges from 0 to 10, the plot will display slightly more than one and a half periods of the sine and cosine waves."
   ]
  },
  {
   "cell_type": "code",
   "execution_count": 12,
   "metadata": {},
   "outputs": [
    {
     "name": "stderr",
     "output_type": "stream",
     "text": [
      "No artists with labels found to put in legend.  Note that artists whose label start with an underscore are ignored when legend() is called with no argument.\n"
     ]
    },
    {
     "data": {
      "image/png": "[encoded data removed]",
      "text/plain": [
       "<Figure size 640x480 with 1 Axes>"
      ]
     },
     "metadata": {},
     "output_type": "display_data"
    }
   ],
   "source": [
    "import numpy as np\n",
    "import matplotlib.pyplot as plt\n",
    "\n",
    "# Generating data\n",
    "X = np.linspace(0, 10, 100)\n",
    "Y1 = np.sin(X)\n",
    "Y2 = np.cos(X)\n",
    "\n",
    "# Creating the figure and axis\n",
    "fig, ax = plt.subplots()\n",
    "\n",
    "# Plotting the sine and cosine waves\n",
    "# ax.plot(X, Y1, label='sin(X)')\n",
    "# ax.plot(X, Y2, label='cos(X)')\n",
    "\n",
    "ax.plot(X, Y1, X, Y2)\n",
    "\n",
    "# Adding labels, title, and legend\n",
    "ax.set_xlabel('X')\n",
    "ax.set_ylabel('Y')\n",
    "ax.set_title('Sine and Cosine Waves')\n",
    "ax.legend()\n",
    "\n",
    "# Displaying the plot\n",
    "plt.show()\n"
   ]
  },
  {
   "cell_type": "markdown",
   "metadata": {},
   "source": [
    "Last sale and percentage change?"
   ]
  },
  {
   "cell_type": "code",
   "execution_count": 13,
   "metadata": {},
   "outputs": [
    {
     "name": "stdout",
     "output_type": "stream",
     "text": [
      "{'meta': {'version': 'v1.0', 'status': 200, 'copywrite': 'https://apicalls.io', 'totalrecords': 7007, 'headers': {'symbol': 'Symbol', 'name': 'Name', 'lastsale': 'Last Sale', 'netchange': 'Net Change', 'pctchange': '% Change', 'marketCap': 'Market Cap'}}, 'body': [{'symbol': 'ASML', 'name': 'ASML Holding N.V. New York Registry Shares', 'lastsale': '$883.71', 'netchange': '-52.99', 'pctchange': '-5.657%', 'marketCap': '347,670,709,065'}, {'symbol': 'ABBV', 'name': 'AbbVie Inc. Common Stock', 'lastsale': '$189.71', 'netchange': '4.39', 'pctchange': '2.369%', 'marketCap': '335,002,776,734'}, {'symbol': 'BAC', 'name': 'Bank of America Corporation Common Stock', 'lastsale': '$39.50', 'netchange': '-0.81', 'pctchange': '-2.009%', 'marketCap': '306,503,307,814'}, {'symbol': 'KO', 'name': 'Coca-Cola Company (The) Common Stock', 'lastsale': '$67.96', 'netchange': '1.22', 'pctchange': '1.828%', 'marketCap': '292,898,639,474'}, {'symbol': 'MRK', 'name': 'Merck & Company, Inc. Common Stock (new)', 'lastsale': '$113.82', 'netchange': '0.69', 'pctchange': '0.61%', 'marketCap': '288,284,013,863'}, {'symbol': 'CVX', 'name': 'Chevron Corporation Common Stock', 'lastsale': '$152.62', 'netchange': '-7.85', 'pctchange': '-4.892%', 'marketCap': '281,890,518,616'}, {'symbol': 'NFLX', 'name': 'Netflix, Inc. Common Stock', 'lastsale': '$624.85', 'netchange': '-3.50', 'pctchange': '-0.557%', 'marketCap': '268,163,509,683'}, {'symbol': 'AZN', 'name': 'AstraZeneca PLC American Depositary Shares', 'lastsale': '$81.20', 'netchange': '2.05', 'pctchange': '2.59%', 'marketCap': '251,763,535,380'}, {'symbol': 'CRM', 'name': 'Salesforce, Inc. Common Stock', 'lastsale': '$253.06', 'netchange': '-5.74', 'pctchange': '-2.218%', 'marketCap': '245,215,140,000'}, {'symbol': 'ADBE', 'name': 'Adobe Inc. Common Stock', 'lastsale': '$546.41', 'netchange': '-5.24', 'pctchange': '-0.95%', 'marketCap': '242,278,194,000'}, {'symbol': 'TM', 'name': 'Toyota Motor Corporation Common Stock', 'lastsale': '$179.07', 'netchange': '-14.48', 'pctchange': '-7.481%', 'marketCap': '241,281,998,541'}, {'symbol': 'PEP', 'name': 'PepsiCo, Inc. Common Stock', 'lastsale': '$174.96', 'netchange': '2.29', 'pctchange': '1.326%', 'marketCap': '240,320,227,104'}, {'symbol': 'SAP', 'name': 'SAP  SE ADS', 'lastsale': '$205.56', 'netchange': '-6.04', 'pctchange': '-2.854%', 'marketCap': '239,935,604,751'}, {'symbol': 'TMO', 'name': 'Thermo Fisher Scientific Inc Common Stock', 'lastsale': '$621.77', 'netchange': '8.43', 'pctchange': '1.374%', 'marketCap': '237,339,758,152'}, {'symbol': 'SHEL', 'name': 'Shell PLC American Depositary Shares (each representing two (2) Ordinary Shares) ', 'lastsale': '$72.94', 'netchange': '-0.28', 'pctchange': '-0.382%', 'marketCap': '229,495,449,895'}, {'symbol': 'NVS', 'name': 'Novartis AG Common Stock', 'lastsale': '$112.10', 'netchange': '0.62', 'pctchange': '0.556%', 'marketCap': '229,136,209,831'}, {'symbol': 'CCZ', 'name': 'Comcast Holdings ZONES', 'lastsale': '$57.00', 'netchange': '0.24', 'pctchange': '0.423%', 'marketCap': '220,732,592,511'}, {'symbol': 'TMUS', 'name': 'T-Mobile US, Inc. Common Stock', 'lastsale': '$187.07', 'netchange': '4.79', 'pctchange': '2.628%', 'marketCap': '218,270,289,053'}, {'symbol': 'LIN', 'name': 'Linde plc Ordinary Shares', 'lastsale': '$453.34', 'netchange': '-0.16', 'pctchange': '-0.035%', 'marketCap': '217,909,785,229'}, {'symbol': 'AMD', 'name': 'Advanced Micro Devices, Inc. Common Stock', 'lastsale': '$132.54', 'netchange': '-11.94', 'pctchange': '-8.264%', 'marketCap': '214,513,583,736'}, {'symbol': 'ACN', 'name': 'Accenture plc Class A Ordinary Shares (Ireland)', 'lastsale': '$328.08', 'netchange': '-2.54', 'pctchange': '-0.768%', 'marketCap': '205,605,493,573'}, {'symbol': 'DHR', 'name': 'Danaher Corporation Common Stock', 'lastsale': '$280.76', 'netchange': '3.68', 'pctchange': '1.328%', 'marketCap': '202,768,544,622'}, {'symbol': 'WFC', 'name': 'Wells Fargo & Company Common Stock', 'lastsale': '$56.88', 'netchange': '-2.46', 'pctchange': '-4.146%', 'marketCap': '198,301,617,563'}, {'symbol': 'MCD', 'name': \"McDonald's Corporation Common Stock\", 'lastsale': '$268.75', 'netchange': '3.35', 'pctchange': '1.262%', 'marketCap': '193,683,195,050'}, {'symbol': 'ABT', 'name': 'Abbott Laboratories Common Stock', 'lastsale': '$110.15', 'netchange': '4.21', 'pctchange': '3.974%', 'marketCap': '191,649,654,991'}]}\n"
     ]
    },
    {
     "data": {
      "image/png": "[encoded data removed]",
      "text/plain": [
       "<Figure size 2000x1000 with 1 Axes>"
      ]
     },
     "metadata": {},
     "output_type": "display_data"
    }
   ],
   "source": [
    "import requests\n",
    "import pandas as pd\n",
    "import matplotlib.pyplot as plt\n",
    "from matplotlib.ticker import ScalarFormatter\n",
    "import os\n",
    "from dotenv import load_dotenv, dotenv_values \n",
    "load_dotenv() \n",
    "API_KEY = os.getenv('STOCK_KEY')\n",
    "# Fetching data\n",
    "url = \"https://yahoo-finance15.p.rapidapi.com/api/v2/markets/tickers\"\n",
    "querystring = {\"type\": \"STOCKS\", \"page\": \"1\"}\n",
    "headers = {\n",
    "    \"X-RapidAPI-Key\": API_KEY,\n",
    "    \"X-RapidAPI-Host\": \"yahoo-finance15.p.rapidapi.com\"\n",
    "}\n",
    "\n",
    "try:\n",
    "    response = requests.get(url, headers=headers, params=querystring)\n",
    "    response.raise_for_status()  # Raise an exception for HTTP errors\n",
    "\n",
    "    data = response.json()\n",
    "    print(data)\n",
    "    # Ensure 'body' key exists in the JSON response\n",
    "    if 'body' in data and isinstance(data['body'], list):\n",
    "        symbols = []\n",
    "        names = []\n",
    "        pctChange = []\n",
    "        netChange = []\n",
    "        colors = ['blue', 'green', 'red', 'orange', 'yellow', 'magenta', 'green', 'brown', 'pink', 'indigo', 'violet']\n",
    "        \n",
    "        # Accessing the data and putting it into lists\n",
    "        for datas in data['body']:\n",
    "            symbols.append(datas['symbol'])\n",
    "            names.append(datas['name'])\n",
    "            try:\n",
    "                netChange.append(float(datas['netchange'].replace(',', '')))\n",
    "                pctChange.append(float(datas['pctchange'].replace(',', '').replace('%', '')))\n",
    "            except ValueError:\n",
    "                netChange.append(0.0)\n",
    "                pctChange.append(0.0)\n",
    "        \n",
    "        # Creating the DataFrame\n",
    "        dataFrame = {'Names': symbols, 'Percent Change': pctChange, 'Net Change': netChange}\n",
    "        stockDataFrame = pd.DataFrame(dataFrame)\n",
    "        \n",
    "        # Plotting the data from the DataFrame\n",
    "        fig, ax = plt.subplots(figsize=(20, 10))\n",
    "        \n",
    "        # Plotting Net Change\n",
    "        bars = ax.bar(stockDataFrame['Names'].head(10), stockDataFrame['Net Change'].head(10), color=colors[:10])\n",
    "        \n",
    "        # Adding labels and title\n",
    "        plt.xlabel('Stock Market Symbols')\n",
    "        plt.ylabel('Percentage Change (in USD)')\n",
    "        plt.title('Percentage Change of different stocks')\n",
    "        \n",
    "        # Formatting y-axis\n",
    "        ax.yaxis.set_major_formatter(ScalarFormatter())\n",
    "        ax.yaxis.set_major_formatter(plt.FuncFormatter(lambda x, _: f'{x:,.2f}'))\n",
    "        \n",
    "        # Adding percentage change as text on the bars\n",
    "        for bar, pct in zip(bars, stockDataFrame['Percent Change'].head(10)):\n",
    "            height = bar.get_height()\n",
    "            ax.annotate(f'{pct:.2f}%', \n",
    "                        xy=(bar.get_x() + bar.get_width() / 2, height),\n",
    "                        xytext=(0, 3),  # 3 points vertical offset\n",
    "                        textcoords=\"offset points\",\n",
    "                        ha='center', va='bottom')\n",
    "        \n",
    "        plt.show()\n",
    "    else:\n",
    "        print(\"No data found in response body.\")\n",
    "\n",
    "except requests.exceptions.RequestException as e:\n",
    "    print(f\"Failed to fetch data: {e}\")\n"
   ]
  },
  {
   "cell_type": "markdown",
   "metadata": {},
   "source": [
    "Air Quality API will be used to compare the air quality index of random cities I chose\n"
   ]
  },
  {
   "cell_type": "code",
   "execution_count": 14,
   "metadata": {},
   "outputs": [
    {
     "name": "stdout",
     "output_type": "stream",
     "text": [
      "london\n",
      "{'CO': {'concentration': 240.33, 'aqi': 2}, 'NO2': {'concentration': 5.66, 'aqi': 7}, 'O3': {'concentration': 124.45, 'aqi': 203}, 'SO2': {'concentration': 5.54, 'aqi': 8}, 'PM2.5': {'concentration': 6.41, 'aqi': 20}, 'PM10': {'concentration': 6.91, 'aqi': 6}, 'overall_aqi': 203}\n",
      "203\n",
      "[203]\n",
      "manila\n",
      "{'CO': {'concentration': 1268.39, 'aqi': 14}, 'NO2': {'concentration': 22.28, 'aqi': 27}, 'O3': {'concentration': 94.41, 'aqi': 148}, 'SO2': {'concentration': 17.41, 'aqi': 25}, 'PM2.5': {'concentration': 86.25, 'aqi': 162}, 'PM10': {'concentration': 109.58, 'aqi': 77}, 'overall_aqi': 162}\n",
      "162\n",
      "[203, 162]\n",
      "tokyo\n",
      "{'CO': {'concentration': 337.12, 'aqi': 3}, 'NO2': {'concentration': 52.09, 'aqi': 65}, 'O3': {'concentration': 43.27, 'aqi': 36}, 'SO2': {'concentration': 31.47, 'aqi': 46}, 'PM2.5': {'concentration': 10.48, 'aqi': 34}, 'PM10': {'concentration': 19.19, 'aqi': 17}, 'overall_aqi': 65}\n",
      "65\n",
      "[203, 162, 65]\n",
      "jakarta\n",
      "{'CO': {'concentration': 947.95, 'aqi': 10}, 'NO2': {'concentration': 27.76, 'aqi': 34}, 'O3': {'concentration': 39.7, 'aqi': 33}, 'SO2': {'concentration': 25.03, 'aqi': 36}, 'PM2.5': {'concentration': 23.43, 'aqi': 66}, 'PM10': {'concentration': 67.93, 'aqi': 56}, 'overall_aqi': 66}\n",
      "66\n",
      "[203, 162, 65, 66]\n",
      "seoul\n",
      "{'CO': {'concentration': 520.71, 'aqi': 5}, 'NO2': {'concentration': 39.41, 'aqi': 49}, 'O3': {'concentration': 92.98, 'aqi': 144}, 'SO2': {'concentration': 10.97, 'aqi': 16}, 'PM2.5': {'concentration': 90.72, 'aqi': 164}, 'PM10': {'concentration': 99.98, 'aqi': 72}, 'overall_aqi': 164}\n",
      "164\n",
      "[203, 162, 65, 66, 164]\n",
      "new york\n",
      "{'CO': {'concentration': 801.09, 'aqi': 9}, 'NO2': {'concentration': 33.24, 'aqi': 41}, 'O3': {'concentration': 0.66, 'aqi': 0}, 'SO2': {'concentration': 6.68, 'aqi': 9}, 'PM2.5': {'concentration': 18.91, 'aqi': 57}, 'PM10': {'concentration': 27.49, 'aqi': 25}, 'overall_aqi': 57}\n",
      "57\n",
      "[203, 162, 65, 66, 164, 57]\n"
     ]
    },
    {
     "data": {
      "image/png": "[encoded data removed]",
      "text/plain": [
       "<Figure size 1000x600 with 1 Axes>"
      ]
     },
     "metadata": {},
     "output_type": "display_data"
    }
   ],
   "source": [
    "import requests\n",
    "import pandas as pd\n",
    "import matplotlib.pyplot as plt\n",
    "from matplotlib.ticker import ScalarFormatter, MultipleLocator\n",
    "import os\n",
    "from dotenv import load_dotenv, dotenv_values \n",
    "load_dotenv() \n",
    "API_KEY = os.getenv('AQI_KEY')\n",
    "\n",
    "cities = ['london', 'manila', 'tokyo', 'jakarta', 'seoul', 'new york']\n",
    "overallAqi = []\n",
    "city = 'london'\n",
    "\n",
    "#getting the overall AQIs for each city in the cities list\n",
    "for cityNames in cities:\n",
    "    api_url = 'https://api.api-ninjas.com/v1/airquality?city={}'.format(cityNames)\n",
    "    response = requests.get(api_url, headers={'X-Api-Key': API_KEY})\n",
    "    if response.status_code == requests.codes.ok:\n",
    "        data = response.json()\n",
    "        print(cityNames)\n",
    "        print(data)\n",
    "        print(data['overall_aqi'])\n",
    "        overallAqi.append(data['overall_aqi'])\n",
    "        print(overallAqi)\n",
    "    else:\n",
    "        print(\"Error:\", response.status_code, response.text)\n",
    "\n",
    "\n",
    "\n",
    "# Plotting the data\n",
    "plt.figure(figsize=(10, 6))\n",
    "plt.bar(cities, overallAqi, color=['blue', 'orange', 'green', 'red'])\n",
    "plt.xlabel('Cities')\n",
    "plt.ylabel('Overall AQI')\n",
    "plt.title('Overall AQI of Different Cities')\n",
    "\n",
    "# Set y-axis to be in increments of 100\n",
    "ax = plt.gca()\n",
    "ax.yaxis.set_major_locator(MultipleLocator(100))\n",
    "ax.yaxis.set_major_formatter(ScalarFormatter())\n",
    "\n",
    "plt.show()"
   ]
  },
  {
   "cell_type": "code",
   "execution_count": 15,
   "metadata": {},
   "outputs": [
    {
     "name": "stdout",
     "output_type": "stream",
     "text": [
      "london\n",
      "203\n",
      "[203]\n",
      "CO AQI: [2]\n",
      "CO Concentration of each countries: [240.33]\n",
      "manila\n",
      "162\n",
      "[203, 162]\n",
      "CO AQI: [2, 14]\n",
      "CO Concentration of each countries: [240.33, 1268.39]\n",
      "tokyo\n",
      "65\n",
      "[203, 162, 65]\n",
      "CO AQI: [2, 14, 3]\n",
      "CO Concentration of each countries: [240.33, 1268.39, 337.12]\n",
      "jakarta\n",
      "66\n",
      "[203, 162, 65, 66]\n",
      "CO AQI: [2, 14, 3, 10]\n",
      "CO Concentration of each countries: [240.33, 1268.39, 337.12, 947.95]\n",
      "seoul\n",
      "164\n",
      "[203, 162, 65, 66, 164]\n",
      "CO AQI: [2, 14, 3, 10, 5]\n",
      "CO Concentration of each countries: [240.33, 1268.39, 337.12, 947.95, 520.71]\n",
      "new york\n",
      "57\n",
      "[203, 162, 65, 66, 164, 57]\n",
      "CO AQI: [2, 14, 3, 10, 5, 9]\n",
      "CO Concentration of each countries: [240.33, 1268.39, 337.12, 947.95, 520.71, 801.09]\n"
     ]
    },
    {
     "data": {
      "image/png": "[encoded data removed]",
      "text/plain": [
       "<Figure size 1000x600 with 1 Axes>"
      ]
     },
     "metadata": {},
     "output_type": "display_data"
    }
   ],
   "source": [
    "import requests\n",
    "import pandas as pd\n",
    "import matplotlib.pyplot as plt\n",
    "from matplotlib.ticker import ScalarFormatter, MultipleLocator\n",
    "import os\n",
    "from dotenv import load_dotenv, dotenv_values \n",
    "load_dotenv() \n",
    "API_KEY = os.getenv('AQI_KEY')\n",
    "\n",
    "cities = ['london', 'manila', 'tokyo', 'jakarta', 'seoul', 'new york']\n",
    "overallAqi = []\n",
    "city = 'london'\n",
    "coConcentration = []\n",
    "pollutantAqi = []\n",
    "\n",
    "#getting the overall AQIs for each city in the cities list\n",
    "for cityNames in cities:\n",
    "    api_url = 'https://api.api-ninjas.com/v1/airquality?city={}'.format(cityNames)\n",
    "    response = requests.get(api_url, headers={'X-Api-Key': API_KEY})\n",
    "    if response.status_code == requests.codes.ok:\n",
    "        data = response.json()\n",
    "        print(cityNames)\n",
    "        # print(data)\n",
    "        print(data['overall_aqi'])\n",
    "        overallAqi.append(data['overall_aqi'])\n",
    "        coConcentration.append(data['CO']['concentration'])\n",
    "        pollutantAqi.append(data['CO']['aqi'])\n",
    "        print(overallAqi)\n",
    "        print(\"CO AQI: \" + str(pollutantAqi))\n",
    "        print(\"CO Concentration of each countries: \" + str(coConcentration))\n",
    "    else:\n",
    "        print(\"Error:\", response.status_code, response.text)\n",
    "\n",
    "\n",
    "\n",
    "# Plotting the data\n",
    "plt.figure(figsize=(10, 6))\n",
    "plt.bar(cities, overallAqi, color=['blue', 'orange', 'green', 'red'])\n",
    "plt.xlabel('Cities')\n",
    "plt.ylabel('Overall AQI')\n",
    "plt.title('Overall AQI of Different Cities')\n",
    "\n",
    "# Set y-axis to be in increments of 100\n",
    "ax = plt.gca()\n",
    "ax.yaxis.set_major_locator(MultipleLocator(100))\n",
    "ax.yaxis.set_major_formatter(ScalarFormatter())\n",
    "\n",
    "plt.show()"
   ]
  },
  {
   "cell_type": "markdown",
   "metadata": {},
   "source": [
    "Try to plot the data for only one country\n"
   ]
  },
  {
   "cell_type": "code",
   "execution_count": 16,
   "metadata": {},
   "outputs": [
    {
     "name": "stdout",
     "output_type": "stream",
     "text": [
      "{'CO': {'concentration': 1268.39, 'aqi': 14}, 'NO2': {'concentration': 22.28, 'aqi': 27}, 'O3': {'concentration': 94.41, 'aqi': 148}, 'SO2': {'concentration': 17.41, 'aqi': 25}, 'PM2.5': {'concentration': 86.25, 'aqi': 162}, 'PM10': {'concentration': 109.58, 'aqi': 77}, 'overall_aqi': 162}\n",
      "[14, 27, 148, 25, 162, 77]\n",
      "[1268, 22, 94, 17, 86, 109]\n",
      "['CO', 'NO2', 'O3', 'SO2', 'PM2.5', 'PM10']\n"
     ]
    },
    {
     "data": {
      "image/png": "[encoded data removed]",
      "text/plain": [
       "<Figure size 1200x600 with 2 Axes>"
      ]
     },
     "metadata": {},
     "output_type": "display_data"
    }
   ],
   "source": [
    "import requests\n",
    "import pandas as pd\n",
    "import matplotlib.pyplot as plt\n",
    "from matplotlib.ticker import ScalarFormatter, MultipleLocator\n",
    "import os\n",
    "from dotenv import load_dotenv, dotenv_values \n",
    "load_dotenv() \n",
    "API_KEY = os.getenv('AQI_KEY')\n",
    "\n",
    "cities = ['london', 'manila', 'tokyo', 'jakarta', 'seoul', 'new york']\n",
    "pollutants = []\n",
    "elementsAqi = []\n",
    "elementsConcentration = []\n",
    "city = 'manila'\n",
    "\n",
    "\n",
    "api_url = 'https://api.api-ninjas.com/v1/airquality?city={}'.format(city)\n",
    "response = requests.get(api_url, headers={'X-Api-Key': API_KEY})\n",
    "if response.status_code == requests.codes.ok:\n",
    "    data = response.json()\n",
    "    print(data)\n",
    "    \n",
    "    for elements in data:\n",
    "        if isinstance(data[elements], dict) and 'aqi' in data[elements]:\n",
    "            elementsAqi.append(int(data[elements]['aqi']))\n",
    "            elementsConcentration.append(int(data[elements]['concentration']))\n",
    "            pollutants.append(elements)\n",
    "    \n",
    "    print(elementsAqi)\n",
    "    print(elementsConcentration)\n",
    "    print(pollutants)\n",
    "    \n",
    "    \n",
    "    dataFrame = {'Pollutants': pollutants, 'Pollutants Concentration': elementsConcentration, 'Pollutants Aqi': elementsAqi}\n",
    "    pollutantsDataFrame = pd.DataFrame(dataFrame)\n",
    "    \n",
    "    # overallAqi.append(data['overall_aqi'])\n",
    "    # print(overallAqi)\n",
    "else:\n",
    "    print(\"Error:\", response.status_code, response.text)\n",
    "\n",
    "# # Plotting the data\n",
    "# plt.figure(figsize=(10, 6))\n",
    "# plt.bar(cities, overallAqi, color=['blue', 'orange', 'green', 'red'])\n",
    "# plt.xlabel('Cities')\n",
    "# plt.ylabel('Overall AQI')\n",
    "# plt.title('Overall AQI of Different Cities')\n",
    "\n",
    "\n",
    "# Plotting the data\n",
    "# plt.figure(figsize=(10, 6))\n",
    "\n",
    "#     # Plotting AQI\n",
    "# plt.bar(pollutantsDataFrame['Pollutants'], pollutantsDataFrame['Pollutants Aqi'], color='blue', label='Pollutants AQI')\n",
    "\n",
    "#     # Plotting Concentration\n",
    "# plt.bar(pollutantsDataFrame['Pollutants'], pollutantsDataFrame['Pollutants Concentration'], color='red', label='Pollutants Concentration')\n",
    "\n",
    "# plt.title('Air Pollutants in ' + city)\n",
    "# plt.xlabel('Pollutants')\n",
    "# plt.ylabel('Values')\n",
    "# plt.legend()\n",
    "\n",
    "# plt.tight_layout()\n",
    "\n",
    "fig, (ax1, ax2) = plt.subplots(1,2, figsize=(12,6))\n",
    "\n",
    "#concentration\n",
    "ax1.bar(pollutantsDataFrame['Pollutants'], pollutantsDataFrame['Pollutants Concentration'], color='red', label='Pollutants Concentration')\n",
    "ax1.set_title('Concentration of Air Pollutants in ' + city)\n",
    "ax1.set_xlabel('Pollutants')\n",
    "ax1.set_ylabel('Values')\n",
    "ax1.legend()\n",
    "\n",
    "\n",
    "#aqi\n",
    "ax2.bar(pollutantsDataFrame['Pollutants'], pollutantsDataFrame['Pollutants Aqi'], color='blue', label='Pollutants AQI')\n",
    "ax2.set_title('AQI of Air Pollutants in ' + city)\n",
    "ax2.set_xlabel('Pollutants')\n",
    "ax2.set_ylabel('Values')\n",
    "ax2.legend()\n",
    "\n",
    "plt.xlabel('Pollutants')\n",
    "plt.ylabel('Values')\n",
    "plt.legend()\n",
    "plt.tight_layout()\n",
    "plt.show()\n",
    "\n",
    "# plt.show()\n",
    "# Set y-axis to be in increments of 100\n",
    "# ax = plt.gca()\n",
    "# ax.yaxis.set_major_locator(MultipleLocator(100))\n",
    "# ax.yaxis.set_major_formatter(ScalarFormatter())\n",
    "\n",
    "# plt.show()"
   ]
  },
  {
   "cell_type": "markdown",
   "metadata": {},
   "source": [
    "Trial for the electric bill/water bill practice analytics that will be put in flask\n"
   ]
  },
  {
   "cell_type": "code",
   "execution_count": 17,
   "metadata": {},
   "outputs": [
    {
     "data": {
      "image/png": "[encoded data removed]",
      "text/plain": [
       "<Figure size 1200x600 with 1 Axes>"
      ]
     },
     "metadata": {},
     "output_type": "display_data"
    },
    {
     "data": {
      "text/html": [
       "<div>\n",
       "<style scoped>\n",
       "    .dataframe tbody tr th:only-of-type {\n",
       "        vertical-align: middle;\n",
       "    }\n",
       "\n",
       "    .dataframe tbody tr th {\n",
       "        vertical-align: top;\n",
       "    }\n",
       "\n",
       "    .dataframe thead th {\n",
       "        text-align: right;\n",
       "    }\n",
       "</style>\n",
       "<table border=\"1\" class=\"dataframe\">\n",
       "  <thead>\n",
       "    <tr style=\"text-align: right;\">\n",
       "      <th></th>\n",
       "      <th>monthYear</th>\n",
       "      <th>monthlyBill</th>\n",
       "    </tr>\n",
       "  </thead>\n",
       "  <tbody>\n",
       "    <tr>\n",
       "      <th>0</th>\n",
       "      <td>2024-04-24</td>\n",
       "      <td>3525.0</td>\n",
       "    </tr>\n",
       "    <tr>\n",
       "      <th>1</th>\n",
       "      <td>2024-05-24</td>\n",
       "      <td>3000.0</td>\n",
       "    </tr>\n",
       "    <tr>\n",
       "      <th>2</th>\n",
       "      <td>2024-06-24</td>\n",
       "      <td>4000.0</td>\n",
       "    </tr>\n",
       "    <tr>\n",
       "      <th>3</th>\n",
       "      <td>2024-07-24</td>\n",
       "      <td>2800.0</td>\n",
       "    </tr>\n",
       "    <tr>\n",
       "      <th>4</th>\n",
       "      <td>2024-08-24</td>\n",
       "      <td>3890.0</td>\n",
       "    </tr>\n",
       "    <tr>\n",
       "      <th>5</th>\n",
       "      <td>2024-09-24</td>\n",
       "      <td>4150.0</td>\n",
       "    </tr>\n",
       "    <tr>\n",
       "      <th>6</th>\n",
       "      <td>2024-10-24</td>\n",
       "      <td>4500.0</td>\n",
       "    </tr>\n",
       "    <tr>\n",
       "      <th>7</th>\n",
       "      <td>2024-11-24</td>\n",
       "      <td>3780.0</td>\n",
       "    </tr>\n",
       "    <tr>\n",
       "      <th>8</th>\n",
       "      <td>2024-12-24</td>\n",
       "      <td>3800.0</td>\n",
       "    </tr>\n",
       "  </tbody>\n",
       "</table>\n",
       "</div>"
      ],
      "text/plain": [
       "    monthYear  monthlyBill\n",
       "0  2024-04-24       3525.0\n",
       "1  2024-05-24       3000.0\n",
       "2  2024-06-24       4000.0\n",
       "3  2024-07-24       2800.0\n",
       "4  2024-08-24       3890.0\n",
       "5  2024-09-24       4150.0\n",
       "6  2024-10-24       4500.0\n",
       "7  2024-11-24       3780.0\n",
       "8  2024-12-24       3800.0"
      ]
     },
     "execution_count": 17,
     "metadata": {},
     "output_type": "execute_result"
    }
   ],
   "source": [
    "import numpy as np\n",
    "import pandas as pd\n",
    "import matplotlib.pyplot as plt\n",
    "from matplotlib.ticker import ScalarFormatter, MultipleLocator\n",
    "\n",
    "data_file = pd.read_csv('python_csv\\\\practice_data.csv')\n",
    "\n",
    "# Remove the 'PHP' prefix and convert 'monthlyBill' to float\n",
    "data_file['monthlyBill'] = data_file['monthlyBill'].str.replace('PHP', '').str.replace(',', '').astype(float)\n",
    "\n",
    "\n",
    "# Plotting the bar chart with sorted data\n",
    "plt.figure(figsize=(12,6))\n",
    "plt.plot(data_file['monthYear'], data_file['monthlyBill'], color='blue', label='Monthly Bills')\n",
    "\n",
    "# get current axes\n",
    "ax = plt.gca()\n",
    "ax.yaxis.set_major_locator(MultipleLocator(100))\n",
    "ax.yaxis.set_major_formatter(ScalarFormatter())\n",
    "plt.show()\n",
    "\n",
    "data_file\n"
   ]
  },
  {
   "cell_type": "markdown",
   "metadata": {},
   "source": [
    "PLOTLY VER."
   ]
  },
  {
   "cell_type": "code",
   "execution_count": 18,
   "metadata": {},
   "outputs": [
    {
     "data": {
      "application/vnd.plotly.v1+json": {
       "config": {
        "plotlyServerURL": "https://plot.ly"
       },
       "data": [
        {
         "hovertemplate": "<b>%{hovertext}</b><br><br>monthYear=%{x}<br>monthlyBill=%{y}<extra></extra>",
         "hovertext": [
          3525,
          3000,
          4000,
          2800,
          3890,
          4150,
          4500,
          3780,
          3800
         ],
         "legendgroup": "",
         "line": {
          "color": "blue",
          "dash": "solid",
          "shape": "linear"
         },
         "marker": {
          "symbol": "circle"
         },
         "mode": "lines",
         "name": "",
         "orientation": "v",
         "showlegend": false,
         "type": "scatter",
         "x": [
          "2024-04-24",
          "2024-05-24",
          "2024-06-24",
          "2024-07-24",
          "2024-08-24",
          "2024-09-24",
          "2024-10-24",
          "2024-11-24",
          "2024-12-24"
         ],
         "xaxis": "x",
         "y": [
          3525,
          3000,
          4000,
          2800,
          3890,
          4150,
          4500,
          3780,
          3800
         ],
         "yaxis": "y"
        }
       ],
       "layout": {
        "legend": {
         "tracegroupgap": 0
        },
        "margin": {
         "t": 60
        },
        "template": {
         "data": {
          "bar": [
           {
            "error_x": {
             "color": "#2a3f5f"
            },
            "error_y": {
             "color": "#2a3f5f"
            },
            "marker": {
             "line": {
              "color": "#E5ECF6",
              "width": 0.5
             },
             "pattern": {
              "fillmode": "overlay",
              "size": 10,
              "solidity": 0.2
             }
            },
            "type": "bar"
           }
          ],
          "barpolar": [
           {
            "marker": {
             "line": {
              "color": "#E5ECF6",
              "width": 0.5
             },
             "pattern": {
              "fillmode": "overlay",
              "size": 10,
              "solidity": 0.2
             }
            },
            "type": "barpolar"
           }
          ],
          "carpet": [
           {
            "aaxis": {
             "endlinecolor": "#2a3f5f",
             "gridcolor": "white",
             "linecolor": "white",
             "minorgridcolor": "white",
             "startlinecolor": "#2a3f5f"
            },
            "baxis": {
             "endlinecolor": "#2a3f5f",
             "gridcolor": "white",
             "linecolor": "white",
             "minorgridcolor": "white",
             "startlinecolor": "#2a3f5f"
            },
            "type": "carpet"
           }
          ],
          "choropleth": [
           {
            "colorbar": {
             "outlinewidth": 0,
             "ticks": ""
            },
            "type": "choropleth"
           }
          ],
          "contour": [
           {
            "colorbar": {
             "outlinewidth": 0,
             "ticks": ""
            },
            "colorscale": [
             [
              0,
              "#0d0887"
             ],
             [
              0.1111111111111111,
              "#46039f"
             ],
             [
              0.2222222222222222,
              "#7201a8"
             ],
             [
              0.3333333333333333,
              "#9c179e"
             ],
             [
              0.4444444444444444,
              "#bd3786"
             ],
             [
              0.5555555555555556,
              "#d8576b"
             ],
             [
              0.6666666666666666,
              "#ed7953"
             ],
             [
              0.7777777777777778,
              "#fb9f3a"
             ],
             [
              0.8888888888888888,
              "#fdca26"
             ],
             [
              1,
              "#f0f921"
             ]
            ],
            "type": "contour"
           }
          ],
          "contourcarpet": [
           {
            "colorbar": {
             "outlinewidth": 0,
             "ticks": ""
            },
            "type": "contourcarpet"
           }
          ],
          "heatmap": [
           {
            "colorbar": {
             "outlinewidth": 0,
             "ticks": ""
            },
            "colorscale": [
             [
              0,
              "#0d0887"
             ],
             [
              0.1111111111111111,
              "#46039f"
             ],
             [
              0.2222222222222222,
              "#7201a8"
             ],
             [
              0.3333333333333333,
              "#9c179e"
             ],
             [
              0.4444444444444444,
              "#bd3786"
             ],
             [
              0.5555555555555556,
              "#d8576b"
             ],
             [
              0.6666666666666666,
              "#ed7953"
             ],
             [
              0.7777777777777778,
              "#fb9f3a"
             ],
             [
              0.8888888888888888,
              "#fdca26"
             ],
             [
              1,
              "#f0f921"
             ]
            ],
            "type": "heatmap"
           }
          ],
          "heatmapgl": [
           {
            "colorbar": {
             "outlinewidth": 0,
             "ticks": ""
            },
            "colorscale": [
             [
              0,
              "#0d0887"
             ],
             [
              0.1111111111111111,
              "#46039f"
             ],
             [
              0.2222222222222222,
              "#7201a8"
             ],
             [
              0.3333333333333333,
              "#9c179e"
             ],
             [
              0.4444444444444444,
              "#bd3786"
             ],
             [
              0.5555555555555556,
              "#d8576b"
             ],
             [
              0.6666666666666666,
              "#ed7953"
             ],
             [
              0.7777777777777778,
              "#fb9f3a"
             ],
             [
              0.8888888888888888,
              "#fdca26"
             ],
             [
              1,
              "#f0f921"
             ]
            ],
            "type": "heatmapgl"
           }
          ],
          "histogram": [
           {
            "marker": {
             "pattern": {
              "fillmode": "overlay",
              "size": 10,
              "solidity": 0.2
             }
            },
            "type": "histogram"
           }
          ],
          "histogram2d": [
           {
            "colorbar": {
             "outlinewidth": 0,
             "ticks": ""
            },
            "colorscale": [
             [
              0,
              "#0d0887"
             ],
             [
              0.1111111111111111,
              "#46039f"
             ],
             [
              0.2222222222222222,
              "#7201a8"
             ],
             [
              0.3333333333333333,
              "#9c179e"
             ],
             [
              0.4444444444444444,
              "#bd3786"
             ],
             [
              0.5555555555555556,
              "#d8576b"
             ],
             [
              0.6666666666666666,
              "#ed7953"
             ],
             [
              0.7777777777777778,
              "#fb9f3a"
             ],
             [
              0.8888888888888888,
              "#fdca26"
             ],
             [
              1,
              "#f0f921"
             ]
            ],
            "type": "histogram2d"
           }
          ],
          "histogram2dcontour": [
           {
            "colorbar": {
             "outlinewidth": 0,
             "ticks": ""
            },
            "colorscale": [
             [
              0,
              "#0d0887"
             ],
             [
              0.1111111111111111,
              "#46039f"
             ],
             [
              0.2222222222222222,
              "#7201a8"
             ],
             [
              0.3333333333333333,
              "#9c179e"
             ],
             [
              0.4444444444444444,
              "#bd3786"
             ],
             [
              0.5555555555555556,
              "#d8576b"
             ],
             [
              0.6666666666666666,
              "#ed7953"
             ],
             [
              0.7777777777777778,
              "#fb9f3a"
             ],
             [
              0.8888888888888888,
              "#fdca26"
             ],
             [
              1,
              "#f0f921"
             ]
            ],
            "type": "histogram2dcontour"
           }
          ],
          "mesh3d": [
           {
            "colorbar": {
             "outlinewidth": 0,
             "ticks": ""
            },
            "type": "mesh3d"
           }
          ],
          "parcoords": [
           {
            "line": {
             "colorbar": {
              "outlinewidth": 0,
              "ticks": ""
             }
            },
            "type": "parcoords"
           }
          ],
          "pie": [
           {
            "automargin": true,
            "type": "pie"
           }
          ],
          "scatter": [
           {
            "fillpattern": {
             "fillmode": "overlay",
             "size": 10,
             "solidity": 0.2
            },
            "type": "scatter"
           }
          ],
          "scatter3d": [
           {
            "line": {
             "colorbar": {
              "outlinewidth": 0,
              "ticks": ""
             }
            },
            "marker": {
             "colorbar": {
              "outlinewidth": 0,
              "ticks": ""
             }
            },
            "type": "scatter3d"
           }
          ],
          "scattercarpet": [
           {
            "marker": {
             "colorbar": {
              "outlinewidth": 0,
              "ticks": ""
             }
            },
            "type": "scattercarpet"
           }
          ],
          "scattergeo": [
           {
            "marker": {
             "colorbar": {
              "outlinewidth": 0,
              "ticks": ""
             }
            },
            "type": "scattergeo"
           }
          ],
          "scattergl": [
           {
            "marker": {
             "colorbar": {
              "outlinewidth": 0,
              "ticks": ""
             }
            },
            "type": "scattergl"
           }
          ],
          "scattermapbox": [
           {
            "marker": {
             "colorbar": {
              "outlinewidth": 0,
              "ticks": ""
             }
            },
            "type": "scattermapbox"
           }
          ],
          "scatterpolar": [
           {
            "marker": {
             "colorbar": {
              "outlinewidth": 0,
              "ticks": ""
             }
            },
            "type": "scatterpolar"
           }
          ],
          "scatterpolargl": [
           {
            "marker": {
             "colorbar": {
              "outlinewidth": 0,
              "ticks": ""
             }
            },
            "type": "scatterpolargl"
           }
          ],
          "scatterternary": [
           {
            "marker": {
             "colorbar": {
              "outlinewidth": 0,
              "ticks": ""
             }
            },
            "type": "scatterternary"
           }
          ],
          "surface": [
           {
            "colorbar": {
             "outlinewidth": 0,
             "ticks": ""
            },
            "colorscale": [
             [
              0,
              "#0d0887"
             ],
             [
              0.1111111111111111,
              "#46039f"
             ],
             [
              0.2222222222222222,
              "#7201a8"
             ],
             [
              0.3333333333333333,
              "#9c179e"
             ],
             [
              0.4444444444444444,
              "#bd3786"
             ],
             [
              0.5555555555555556,
              "#d8576b"
             ],
             [
              0.6666666666666666,
              "#ed7953"
             ],
             [
              0.7777777777777778,
              "#fb9f3a"
             ],
             [
              0.8888888888888888,
              "#fdca26"
             ],
             [
              1,
              "#f0f921"
             ]
            ],
            "type": "surface"
           }
          ],
          "table": [
           {
            "cells": {
             "fill": {
              "color": "#EBF0F8"
             },
             "line": {
              "color": "white"
             }
            },
            "header": {
             "fill": {
              "color": "#C8D4E3"
             },
             "line": {
              "color": "white"
             }
            },
            "type": "table"
           }
          ]
         },
         "layout": {
          "annotationdefaults": {
           "arrowcolor": "#2a3f5f",
           "arrowhead": 0,
           "arrowwidth": 1
          },
          "autotypenumbers": "strict",
          "coloraxis": {
           "colorbar": {
            "outlinewidth": 0,
            "ticks": ""
           }
          },
          "colorscale": {
           "diverging": [
            [
             0,
             "#8e0152"
            ],
            [
             0.1,
             "#c51b7d"
            ],
            [
             0.2,
             "#de77ae"
            ],
            [
             0.3,
             "#f1b6da"
            ],
            [
             0.4,
             "#fde0ef"
            ],
            [
             0.5,
             "#f7f7f7"
            ],
            [
             0.6,
             "#e6f5d0"
            ],
            [
             0.7,
             "#b8e186"
            ],
            [
             0.8,
             "#7fbc41"
            ],
            [
             0.9,
             "#4d9221"
            ],
            [
             1,
             "#276419"
            ]
           ],
           "sequential": [
            [
             0,
             "#0d0887"
            ],
            [
             0.1111111111111111,
             "#46039f"
            ],
            [
             0.2222222222222222,
             "#7201a8"
            ],
            [
             0.3333333333333333,
             "#9c179e"
            ],
            [
             0.4444444444444444,
             "#bd3786"
            ],
            [
             0.5555555555555556,
             "#d8576b"
            ],
            [
             0.6666666666666666,
             "#ed7953"
            ],
            [
             0.7777777777777778,
             "#fb9f3a"
            ],
            [
             0.8888888888888888,
             "#fdca26"
            ],
            [
             1,
             "#f0f921"
            ]
           ],
           "sequentialminus": [
            [
             0,
             "#0d0887"
            ],
            [
             0.1111111111111111,
             "#46039f"
            ],
            [
             0.2222222222222222,
             "#7201a8"
            ],
            [
             0.3333333333333333,
             "#9c179e"
            ],
            [
             0.4444444444444444,
             "#bd3786"
            ],
            [
             0.5555555555555556,
             "#d8576b"
            ],
            [
             0.6666666666666666,
             "#ed7953"
            ],
            [
             0.7777777777777778,
             "#fb9f3a"
            ],
            [
             0.8888888888888888,
             "#fdca26"
            ],
            [
             1,
             "#f0f921"
            ]
           ]
          },
          "colorway": [
           "#636efa",
           "#EF553B",
           "#00cc96",
           "#ab63fa",
           "#FFA15A",
           "#19d3f3",
           "#FF6692",
           "#B6E880",
           "#FF97FF",
           "#FECB52"
          ],
          "font": {
           "color": "#2a3f5f"
          },
          "geo": {
           "bgcolor": "white",
           "lakecolor": "white",
           "landcolor": "#E5ECF6",
           "showlakes": true,
           "showland": true,
           "subunitcolor": "white"
          },
          "hoverlabel": {
           "align": "left"
          },
          "hovermode": "closest",
          "mapbox": {
           "style": "light"
          },
          "paper_bgcolor": "white",
          "plot_bgcolor": "#E5ECF6",
          "polar": {
           "angularaxis": {
            "gridcolor": "white",
            "linecolor": "white",
            "ticks": ""
           },
           "bgcolor": "#E5ECF6",
           "radialaxis": {
            "gridcolor": "white",
            "linecolor": "white",
            "ticks": ""
           }
          },
          "scene": {
           "xaxis": {
            "backgroundcolor": "#E5ECF6",
            "gridcolor": "white",
            "gridwidth": 2,
            "linecolor": "white",
            "showbackground": true,
            "ticks": "",
            "zerolinecolor": "white"
           },
           "yaxis": {
            "backgroundcolor": "#E5ECF6",
            "gridcolor": "white",
            "gridwidth": 2,
            "linecolor": "white",
            "showbackground": true,
            "ticks": "",
            "zerolinecolor": "white"
           },
           "zaxis": {
            "backgroundcolor": "#E5ECF6",
            "gridcolor": "white",
            "gridwidth": 2,
            "linecolor": "white",
            "showbackground": true,
            "ticks": "",
            "zerolinecolor": "white"
           }
          },
          "shapedefaults": {
           "line": {
            "color": "#2a3f5f"
           }
          },
          "ternary": {
           "aaxis": {
            "gridcolor": "white",
            "linecolor": "white",
            "ticks": ""
           },
           "baxis": {
            "gridcolor": "white",
            "linecolor": "white",
            "ticks": ""
           },
           "bgcolor": "#E5ECF6",
           "caxis": {
            "gridcolor": "white",
            "linecolor": "white",
            "ticks": ""
           }
          },
          "title": {
           "x": 0.05
          },
          "xaxis": {
           "automargin": true,
           "gridcolor": "white",
           "linecolor": "white",
           "ticks": "",
           "title": {
            "standoff": 15
           },
           "zerolinecolor": "white",
           "zerolinewidth": 2
          },
          "yaxis": {
           "automargin": true,
           "gridcolor": "white",
           "linecolor": "white",
           "ticks": "",
           "title": {
            "standoff": 15
           },
           "zerolinecolor": "white",
           "zerolinewidth": 2
          }
         }
        },
        "xaxis": {
         "anchor": "y",
         "domain": [
          0,
          1
         ],
         "title": {
          "text": "monthYear"
         }
        },
        "yaxis": {
         "anchor": "x",
         "domain": [
          0,
          1
         ],
         "title": {
          "text": "monthlyBill"
         }
        }
       }
      }
     },
     "metadata": {},
     "output_type": "display_data"
    },
    {
     "data": {
      "text/html": [
       "<div>\n",
       "<style scoped>\n",
       "    .dataframe tbody tr th:only-of-type {\n",
       "        vertical-align: middle;\n",
       "    }\n",
       "\n",
       "    .dataframe tbody tr th {\n",
       "        vertical-align: top;\n",
       "    }\n",
       "\n",
       "    .dataframe thead th {\n",
       "        text-align: right;\n",
       "    }\n",
       "</style>\n",
       "<table border=\"1\" class=\"dataframe\">\n",
       "  <thead>\n",
       "    <tr style=\"text-align: right;\">\n",
       "      <th></th>\n",
       "      <th>monthYear</th>\n",
       "      <th>monthlyBill</th>\n",
       "    </tr>\n",
       "  </thead>\n",
       "  <tbody>\n",
       "    <tr>\n",
       "      <th>0</th>\n",
       "      <td>2024-04-24</td>\n",
       "      <td>3525.0</td>\n",
       "    </tr>\n",
       "    <tr>\n",
       "      <th>1</th>\n",
       "      <td>2024-05-24</td>\n",
       "      <td>3000.0</td>\n",
       "    </tr>\n",
       "    <tr>\n",
       "      <th>2</th>\n",
       "      <td>2024-06-24</td>\n",
       "      <td>4000.0</td>\n",
       "    </tr>\n",
       "    <tr>\n",
       "      <th>3</th>\n",
       "      <td>2024-07-24</td>\n",
       "      <td>2800.0</td>\n",
       "    </tr>\n",
       "    <tr>\n",
       "      <th>4</th>\n",
       "      <td>2024-08-24</td>\n",
       "      <td>3890.0</td>\n",
       "    </tr>\n",
       "    <tr>\n",
       "      <th>5</th>\n",
       "      <td>2024-09-24</td>\n",
       "      <td>4150.0</td>\n",
       "    </tr>\n",
       "    <tr>\n",
       "      <th>6</th>\n",
       "      <td>2024-10-24</td>\n",
       "      <td>4500.0</td>\n",
       "    </tr>\n",
       "    <tr>\n",
       "      <th>7</th>\n",
       "      <td>2024-11-24</td>\n",
       "      <td>3780.0</td>\n",
       "    </tr>\n",
       "    <tr>\n",
       "      <th>8</th>\n",
       "      <td>2024-12-24</td>\n",
       "      <td>3800.0</td>\n",
       "    </tr>\n",
       "  </tbody>\n",
       "</table>\n",
       "</div>"
      ],
      "text/plain": [
       "    monthYear  monthlyBill\n",
       "0  2024-04-24       3525.0\n",
       "1  2024-05-24       3000.0\n",
       "2  2024-06-24       4000.0\n",
       "3  2024-07-24       2800.0\n",
       "4  2024-08-24       3890.0\n",
       "5  2024-09-24       4150.0\n",
       "6  2024-10-24       4500.0\n",
       "7  2024-11-24       3780.0\n",
       "8  2024-12-24       3800.0"
      ]
     },
     "execution_count": 18,
     "metadata": {},
     "output_type": "execute_result"
    }
   ],
   "source": [
    "import numpy as np\n",
    "import pandas as pd\n",
    "import matplotlib.pyplot as plt\n",
    "from matplotlib.ticker import ScalarFormatter, MultipleLocator\n",
    "import plotly.express as px\n",
    "\n",
    "data_file = pd.read_csv('python_csv\\\\practice_data.csv')\n",
    "\n",
    "# Remove the 'PHP' prefix and convert 'monthlyBill' to float\n",
    "data_file['monthlyBill'] = data_file['monthlyBill'].str.replace('PHP', '').str.replace(',', '').astype(float)\n",
    "\n",
    "figure = px.line(\n",
    "    data_file, \n",
    "    x=\"monthYear\", \n",
    "    y=\"monthlyBill\", \n",
    "    hover_name='monthlyBill', \n",
    "    line_shape='linear', \n",
    "    render_mode='svg',\n",
    "    color_discrete_sequence=['blue']  # Setting the line color to blue\n",
    ")\n",
    "\n",
    "\n",
    "figure.write_json(\"figure.json\")\n",
    "figure.show()\n",
    "\n",
    "\n",
    "# Plotting the line graph with sorted data\n",
    "# plt.figure(figsize=(12,6))\n",
    "# plt.plot(data_file['monthYear'], data_file['monthlyBill'], color='blue', label='Monthly Bills')\n",
    "\n",
    "# # get current axes\n",
    "# ax = plt.gca()\n",
    "# ax.yaxis.set_major_locator(MultipleLocator(100))\n",
    "# ax.yaxis.set_major_formatter(ScalarFormatter())\n",
    "# plt.show()\n",
    "\n",
    "data_file\n"
   ]
  },
  {
   "cell_type": "markdown",
   "metadata": {},
   "source": [
    "Using gspread to retrieve the data from a google spreadsheet\n"
   ]
  },
  {
   "cell_type": "code",
   "execution_count": 19,
   "metadata": {},
   "outputs": [
    {
     "name": "stdout",
     "output_type": "stream",
     "text": [
      "6\n"
     ]
    }
   ],
   "source": [
    "import gspread\n",
    "import os.path\n",
    "from google.auth.transport.requests import Request\n",
    "from google.oauth2.credentials import Credentials\n",
    "from google.oauth2.service_account import Credentials\n",
    "from google_auth_oauthlib.flow import InstalledAppFlow\n",
    "from googleapiclient.discovery import build\n",
    "from googleapiclient.errors import HttpError\n",
    "import datetime\n",
    "import pandas as pd\n",
    "\n",
    "scopes = [\n",
    "    \"https://www.googleapis.com/auth/spreadsheets\"\n",
    "]\n",
    "\n",
    "credential = Credentials.from_service_account_file(\"credentials.json\", scopes=scopes)\n",
    "client = gspread.authorize(credential)\n",
    "\n",
    "spreadsheet_id = \"1Q_7ZcMpJeyHMhlhcFL3xvh3JpnSTZL12otyvzzZ9108\"\n",
    "workbook = client.open_by_key(spreadsheet_id)\n",
    "\n",
    "sheet1 = workbook.worksheet(\"Sheet1\")\n",
    "\n",
    "#worksheet data frame\n",
    "dataframe = pd.DataFrame(sheet1.get_all_records())\n",
    "\n",
    "# dataframe[['Entry Date','Client Name', 'Client Bill']]\n",
    "\n",
    "servicesFromSpreadsheet = {'cleaning': dataframe['Cleaning'], 'check-up': dataframe['Check-up'], \n",
    "                        'dismantle': dataframe['Dismantle'], 'relocation': dataframe['Relocation'], \n",
    "                        'installation': dataframe['Installation']}\n",
    "\n",
    "servicesAvailed = {'cleaning': 0, 'check-up': 0, 'dismantle': 0, 'relocation': 0, 'installation': 0}\n",
    "\n",
    "for customers in servicesFromSpreadsheet['cleaning']:\n",
    "    if 'Availed' in customers:\n",
    "        servicesAvailed['cleaning'] += 1\n",
    "\n",
    "print(servicesAvailed['cleaning'])\n"
   ]
  },
  {
   "cell_type": "markdown",
   "metadata": {},
   "source": [
    "The code from above but I plotted it na\n"
   ]
  },
  {
   "cell_type": "code",
   "execution_count": 1,
   "metadata": {},
   "outputs": [
    {
     "name": "stdout",
     "output_type": "stream",
     "text": [
      "['CLEANING', 'CHECK-UP', 'DISMANTLE', 'RELOCATION', 'INSTALLATION']\n",
      "[2, 1, 1, 1, 1]\n"
     ]
    },
    {
     "data": {
      "application/vnd.plotly.v1+json": {
       "config": {
        "plotlyServerURL": "https://plot.ly"
       },
       "data": [
        {
         "alignmentgroup": "True",
         "hovertemplate": "Service Type=%{x}<br>Number of Times Availed=%{y}<extra></extra>",
         "legendgroup": "CLEANING",
         "marker": {
          "color": "#636efa",
          "pattern": {
           "shape": ""
          }
         },
         "name": "CLEANING",
         "offsetgroup": "CLEANING",
         "orientation": "v",
         "showlegend": true,
         "textposition": "auto",
         "type": "bar",
         "x": [
          "CLEANING"
         ],
         "xaxis": "x",
         "y": [
          2
         ],
         "yaxis": "y"
        },
        {
         "alignmentgroup": "True",
         "hovertemplate": "Service Type=%{x}<br>Number of Times Availed=%{y}<extra></extra>",
         "legendgroup": "CHECK-UP",
         "marker": {
          "color": "#EF553B",
          "pattern": {
           "shape": ""
          }
         },
         "name": "CHECK-UP",
         "offsetgroup": "CHECK-UP",
         "orientation": "v",
         "showlegend": true,
         "textposition": "auto",
         "type": "bar",
         "x": [
          "CHECK-UP"
         ],
         "xaxis": "x",
         "y": [
          1
         ],
         "yaxis": "y"
        },
        {
         "alignmentgroup": "True",
         "hovertemplate": "Service Type=%{x}<br>Number of Times Availed=%{y}<extra></extra>",
         "legendgroup": "DISMANTLE",
         "marker": {
          "color": "#00cc96",
          "pattern": {
           "shape": ""
          }
         },
         "name": "DISMANTLE",
         "offsetgroup": "DISMANTLE",
         "orientation": "v",
         "showlegend": true,
         "textposition": "auto",
         "type": "bar",
         "x": [
          "DISMANTLE"
         ],
         "xaxis": "x",
         "y": [
          1
         ],
         "yaxis": "y"
        },
        {
         "alignmentgroup": "True",
         "hovertemplate": "Service Type=%{x}<br>Number of Times Availed=%{y}<extra></extra>",
         "legendgroup": "RELOCATION",
         "marker": {
          "color": "#ab63fa",
          "pattern": {
           "shape": ""
          }
         },
         "name": "RELOCATION",
         "offsetgroup": "RELOCATION",
         "orientation": "v",
         "showlegend": true,
         "textposition": "auto",
         "type": "bar",
         "x": [
          "RELOCATION"
         ],
         "xaxis": "x",
         "y": [
          1
         ],
         "yaxis": "y"
        },
        {
         "alignmentgroup": "True",
         "hovertemplate": "Service Type=%{x}<br>Number of Times Availed=%{y}<extra></extra>",
         "legendgroup": "INSTALLATION",
         "marker": {
          "color": "#FFA15A",
          "pattern": {
           "shape": ""
          }
         },
         "name": "INSTALLATION",
         "offsetgroup": "INSTALLATION",
         "orientation": "v",
         "showlegend": true,
         "textposition": "auto",
         "type": "bar",
         "x": [
          "INSTALLATION"
         ],
         "xaxis": "x",
         "y": [
          1
         ],
         "yaxis": "y"
        }
       ],
       "layout": {
        "barmode": "relative",
        "legend": {
         "title": {
          "text": "Service Type"
         },
         "tracegroupgap": 0
        },
        "template": {
         "data": {
          "bar": [
           {
            "error_x": {
             "color": "#2a3f5f"
            },
            "error_y": {
             "color": "#2a3f5f"
            },
            "marker": {
             "line": {
              "color": "#E5ECF6",
              "width": 0.5
             },
             "pattern": {
              "fillmode": "overlay",
              "size": 10,
              "solidity": 0.2
             }
            },
            "type": "bar"
           }
          ],
          "barpolar": [
           {
            "marker": {
             "line": {
              "color": "#E5ECF6",
              "width": 0.5
             },
             "pattern": {
              "fillmode": "overlay",
              "size": 10,
              "solidity": 0.2
             }
            },
            "type": "barpolar"
           }
          ],
          "carpet": [
           {
            "aaxis": {
             "endlinecolor": "#2a3f5f",
             "gridcolor": "white",
             "linecolor": "white",
             "minorgridcolor": "white",
             "startlinecolor": "#2a3f5f"
            },
            "baxis": {
             "endlinecolor": "#2a3f5f",
             "gridcolor": "white",
             "linecolor": "white",
             "minorgridcolor": "white",
             "startlinecolor": "#2a3f5f"
            },
            "type": "carpet"
           }
          ],
          "choropleth": [
           {
            "colorbar": {
             "outlinewidth": 0,
             "ticks": ""
            },
            "type": "choropleth"
           }
          ],
          "contour": [
           {
            "colorbar": {
             "outlinewidth": 0,
             "ticks": ""
            },
            "colorscale": [
             [
              0,
              "#0d0887"
             ],
             [
              0.1111111111111111,
              "#46039f"
             ],
             [
              0.2222222222222222,
              "#7201a8"
             ],
             [
              0.3333333333333333,
              "#9c179e"
             ],
             [
              0.4444444444444444,
              "#bd3786"
             ],
             [
              0.5555555555555556,
              "#d8576b"
             ],
             [
              0.6666666666666666,
              "#ed7953"
             ],
             [
              0.7777777777777778,
              "#fb9f3a"
             ],
             [
              0.8888888888888888,
              "#fdca26"
             ],
             [
              1,
              "#f0f921"
             ]
            ],
            "type": "contour"
           }
          ],
          "contourcarpet": [
           {
            "colorbar": {
             "outlinewidth": 0,
             "ticks": ""
            },
            "type": "contourcarpet"
           }
          ],
          "heatmap": [
           {
            "colorbar": {
             "outlinewidth": 0,
             "ticks": ""
            },
            "colorscale": [
             [
              0,
              "#0d0887"
             ],
             [
              0.1111111111111111,
              "#46039f"
             ],
             [
              0.2222222222222222,
              "#7201a8"
             ],
             [
              0.3333333333333333,
              "#9c179e"
             ],
             [
              0.4444444444444444,
              "#bd3786"
             ],
             [
              0.5555555555555556,
              "#d8576b"
             ],
             [
              0.6666666666666666,
              "#ed7953"
             ],
             [
              0.7777777777777778,
              "#fb9f3a"
             ],
             [
              0.8888888888888888,
              "#fdca26"
             ],
             [
              1,
              "#f0f921"
             ]
            ],
            "type": "heatmap"
           }
          ],
          "heatmapgl": [
           {
            "colorbar": {
             "outlinewidth": 0,
             "ticks": ""
            },
            "colorscale": [
             [
              0,
              "#0d0887"
             ],
             [
              0.1111111111111111,
              "#46039f"
             ],
             [
              0.2222222222222222,
              "#7201a8"
             ],
             [
              0.3333333333333333,
              "#9c179e"
             ],
             [
              0.4444444444444444,
              "#bd3786"
             ],
             [
              0.5555555555555556,
              "#d8576b"
             ],
             [
              0.6666666666666666,
              "#ed7953"
             ],
             [
              0.7777777777777778,
              "#fb9f3a"
             ],
             [
              0.8888888888888888,
              "#fdca26"
             ],
             [
              1,
              "#f0f921"
             ]
            ],
            "type": "heatmapgl"
           }
          ],
          "histogram": [
           {
            "marker": {
             "pattern": {
              "fillmode": "overlay",
              "size": 10,
              "solidity": 0.2
             }
            },
            "type": "histogram"
           }
          ],
          "histogram2d": [
           {
            "colorbar": {
             "outlinewidth": 0,
             "ticks": ""
            },
            "colorscale": [
             [
              0,
              "#0d0887"
             ],
             [
              0.1111111111111111,
              "#46039f"
             ],
             [
              0.2222222222222222,
              "#7201a8"
             ],
             [
              0.3333333333333333,
              "#9c179e"
             ],
             [
              0.4444444444444444,
              "#bd3786"
             ],
             [
              0.5555555555555556,
              "#d8576b"
             ],
             [
              0.6666666666666666,
              "#ed7953"
             ],
             [
              0.7777777777777778,
              "#fb9f3a"
             ],
             [
              0.8888888888888888,
              "#fdca26"
             ],
             [
              1,
              "#f0f921"
             ]
            ],
            "type": "histogram2d"
           }
          ],
          "histogram2dcontour": [
           {
            "colorbar": {
             "outlinewidth": 0,
             "ticks": ""
            },
            "colorscale": [
             [
              0,
              "#0d0887"
             ],
             [
              0.1111111111111111,
              "#46039f"
             ],
             [
              0.2222222222222222,
              "#7201a8"
             ],
             [
              0.3333333333333333,
              "#9c179e"
             ],
             [
              0.4444444444444444,
              "#bd3786"
             ],
             [
              0.5555555555555556,
              "#d8576b"
             ],
             [
              0.6666666666666666,
              "#ed7953"
             ],
             [
              0.7777777777777778,
              "#fb9f3a"
             ],
             [
              0.8888888888888888,
              "#fdca26"
             ],
             [
              1,
              "#f0f921"
             ]
            ],
            "type": "histogram2dcontour"
           }
          ],
          "mesh3d": [
           {
            "colorbar": {
             "outlinewidth": 0,
             "ticks": ""
            },
            "type": "mesh3d"
           }
          ],
          "parcoords": [
           {
            "line": {
             "colorbar": {
              "outlinewidth": 0,
              "ticks": ""
             }
            },
            "type": "parcoords"
           }
          ],
          "pie": [
           {
            "automargin": true,
            "type": "pie"
           }
          ],
          "scatter": [
           {
            "fillpattern": {
             "fillmode": "overlay",
             "size": 10,
             "solidity": 0.2
            },
            "type": "scatter"
           }
          ],
          "scatter3d": [
           {
            "line": {
             "colorbar": {
              "outlinewidth": 0,
              "ticks": ""
             }
            },
            "marker": {
             "colorbar": {
              "outlinewidth": 0,
              "ticks": ""
             }
            },
            "type": "scatter3d"
           }
          ],
          "scattercarpet": [
           {
            "marker": {
             "colorbar": {
              "outlinewidth": 0,
              "ticks": ""
             }
            },
            "type": "scattercarpet"
           }
          ],
          "scattergeo": [
           {
            "marker": {
             "colorbar": {
              "outlinewidth": 0,
              "ticks": ""
             }
            },
            "type": "scattergeo"
           }
          ],
          "scattergl": [
           {
            "marker": {
             "colorbar": {
              "outlinewidth": 0,
              "ticks": ""
             }
            },
            "type": "scattergl"
           }
          ],
          "scattermapbox": [
           {
            "marker": {
             "colorbar": {
              "outlinewidth": 0,
              "ticks": ""
             }
            },
            "type": "scattermapbox"
           }
          ],
          "scatterpolar": [
           {
            "marker": {
             "colorbar": {
              "outlinewidth": 0,
              "ticks": ""
             }
            },
            "type": "scatterpolar"
           }
          ],
          "scatterpolargl": [
           {
            "marker": {
             "colorbar": {
              "outlinewidth": 0,
              "ticks": ""
             }
            },
            "type": "scatterpolargl"
           }
          ],
          "scatterternary": [
           {
            "marker": {
             "colorbar": {
              "outlinewidth": 0,
              "ticks": ""
             }
            },
            "type": "scatterternary"
           }
          ],
          "surface": [
           {
            "colorbar": {
             "outlinewidth": 0,
             "ticks": ""
            },
            "colorscale": [
             [
              0,
              "#0d0887"
             ],
             [
              0.1111111111111111,
              "#46039f"
             ],
             [
              0.2222222222222222,
              "#7201a8"
             ],
             [
              0.3333333333333333,
              "#9c179e"
             ],
             [
              0.4444444444444444,
              "#bd3786"
             ],
             [
              0.5555555555555556,
              "#d8576b"
             ],
             [
              0.6666666666666666,
              "#ed7953"
             ],
             [
              0.7777777777777778,
              "#fb9f3a"
             ],
             [
              0.8888888888888888,
              "#fdca26"
             ],
             [
              1,
              "#f0f921"
             ]
            ],
            "type": "surface"
           }
          ],
          "table": [
           {
            "cells": {
             "fill": {
              "color": "#EBF0F8"
             },
             "line": {
              "color": "white"
             }
            },
            "header": {
             "fill": {
              "color": "#C8D4E3"
             },
             "line": {
              "color": "white"
             }
            },
            "type": "table"
           }
          ]
         },
         "layout": {
          "annotationdefaults": {
           "arrowcolor": "#2a3f5f",
           "arrowhead": 0,
           "arrowwidth": 1
          },
          "autotypenumbers": "strict",
          "coloraxis": {
           "colorbar": {
            "outlinewidth": 0,
            "ticks": ""
           }
          },
          "colorscale": {
           "diverging": [
            [
             0,
             "#8e0152"
            ],
            [
             0.1,
             "#c51b7d"
            ],
            [
             0.2,
             "#de77ae"
            ],
            [
             0.3,
             "#f1b6da"
            ],
            [
             0.4,
             "#fde0ef"
            ],
            [
             0.5,
             "#f7f7f7"
            ],
            [
             0.6,
             "#e6f5d0"
            ],
            [
             0.7,
             "#b8e186"
            ],
            [
             0.8,
             "#7fbc41"
            ],
            [
             0.9,
             "#4d9221"
            ],
            [
             1,
             "#276419"
            ]
           ],
           "sequential": [
            [
             0,
             "#0d0887"
            ],
            [
             0.1111111111111111,
             "#46039f"
            ],
            [
             0.2222222222222222,
             "#7201a8"
            ],
            [
             0.3333333333333333,
             "#9c179e"
            ],
            [
             0.4444444444444444,
             "#bd3786"
            ],
            [
             0.5555555555555556,
             "#d8576b"
            ],
            [
             0.6666666666666666,
             "#ed7953"
            ],
            [
             0.7777777777777778,
             "#fb9f3a"
            ],
            [
             0.8888888888888888,
             "#fdca26"
            ],
            [
             1,
             "#f0f921"
            ]
           ],
           "sequentialminus": [
            [
             0,
             "#0d0887"
            ],
            [
             0.1111111111111111,
             "#46039f"
            ],
            [
             0.2222222222222222,
             "#7201a8"
            ],
            [
             0.3333333333333333,
             "#9c179e"
            ],
            [
             0.4444444444444444,
             "#bd3786"
            ],
            [
             0.5555555555555556,
             "#d8576b"
            ],
            [
             0.6666666666666666,
             "#ed7953"
            ],
            [
             0.7777777777777778,
             "#fb9f3a"
            ],
            [
             0.8888888888888888,
             "#fdca26"
            ],
            [
             1,
             "#f0f921"
            ]
           ]
          },
          "colorway": [
           "#636efa",
           "#EF553B",
           "#00cc96",
           "#ab63fa",
           "#FFA15A",
           "#19d3f3",
           "#FF6692",
           "#B6E880",
           "#FF97FF",
           "#FECB52"
          ],
          "font": {
           "color": "#2a3f5f"
          },
          "geo": {
           "bgcolor": "white",
           "lakecolor": "white",
           "landcolor": "#E5ECF6",
           "showlakes": true,
           "showland": true,
           "subunitcolor": "white"
          },
          "hoverlabel": {
           "align": "left"
          },
          "hovermode": "closest",
          "mapbox": {
           "style": "light"
          },
          "paper_bgcolor": "white",
          "plot_bgcolor": "#E5ECF6",
          "polar": {
           "angularaxis": {
            "gridcolor": "white",
            "linecolor": "white",
            "ticks": ""
           },
           "bgcolor": "#E5ECF6",
           "radialaxis": {
            "gridcolor": "white",
            "linecolor": "white",
            "ticks": ""
           }
          },
          "scene": {
           "xaxis": {
            "backgroundcolor": "#E5ECF6",
            "gridcolor": "white",
            "gridwidth": 2,
            "linecolor": "white",
            "showbackground": true,
            "ticks": "",
            "zerolinecolor": "white"
           },
           "yaxis": {
            "backgroundcolor": "#E5ECF6",
            "gridcolor": "white",
            "gridwidth": 2,
            "linecolor": "white",
            "showbackground": true,
            "ticks": "",
            "zerolinecolor": "white"
           },
           "zaxis": {
            "backgroundcolor": "#E5ECF6",
            "gridcolor": "white",
            "gridwidth": 2,
            "linecolor": "white",
            "showbackground": true,
            "ticks": "",
            "zerolinecolor": "white"
           }
          },
          "shapedefaults": {
           "line": {
            "color": "#2a3f5f"
           }
          },
          "ternary": {
           "aaxis": {
            "gridcolor": "white",
            "linecolor": "white",
            "ticks": ""
           },
           "baxis": {
            "gridcolor": "white",
            "linecolor": "white",
            "ticks": ""
           },
           "bgcolor": "#E5ECF6",
           "caxis": {
            "gridcolor": "white",
            "linecolor": "white",
            "ticks": ""
           }
          },
          "title": {
           "x": 0.05
          },
          "xaxis": {
           "automargin": true,
           "gridcolor": "white",
           "linecolor": "white",
           "ticks": "",
           "title": {
            "standoff": 15
           },
           "zerolinecolor": "white",
           "zerolinewidth": 2
          },
          "yaxis": {
           "automargin": true,
           "gridcolor": "white",
           "linecolor": "white",
           "ticks": "",
           "title": {
            "standoff": 15
           },
           "zerolinecolor": "white",
           "zerolinewidth": 2
          }
         }
        },
        "title": {
         "text": "Number of Availed Services for the Month of August"
        },
        "xaxis": {
         "anchor": "y",
         "categoryarray": [
          "CLEANING",
          "CHECK-UP",
          "DISMANTLE",
          "RELOCATION",
          "INSTALLATION"
         ],
         "categoryorder": "array",
         "domain": [
          0,
          1
         ],
         "title": {
          "text": "Service Type"
         }
        },
        "yaxis": {
         "anchor": "x",
         "domain": [
          0,
          1
         ],
         "title": {
          "text": "Number of Times Availed"
         }
        }
       }
      }
     },
     "metadata": {},
     "output_type": "display_data"
    },
    {
     "data": {
      "text/html": [
       "<div>\n",
       "<style scoped>\n",
       "    .dataframe tbody tr th:only-of-type {\n",
       "        vertical-align: middle;\n",
       "    }\n",
       "\n",
       "    .dataframe tbody tr th {\n",
       "        vertical-align: top;\n",
       "    }\n",
       "\n",
       "    .dataframe thead th {\n",
       "        text-align: right;\n",
       "    }\n",
       "</style>\n",
       "<table border=\"1\" class=\"dataframe\">\n",
       "  <thead>\n",
       "    <tr style=\"text-align: right;\">\n",
       "      <th></th>\n",
       "      <th>Names</th>\n",
       "      <th>Number of Availed</th>\n",
       "    </tr>\n",
       "  </thead>\n",
       "  <tbody>\n",
       "    <tr>\n",
       "      <th>0</th>\n",
       "      <td>CLEANING</td>\n",
       "      <td>2</td>\n",
       "    </tr>\n",
       "    <tr>\n",
       "      <th>1</th>\n",
       "      <td>CHECK-UP</td>\n",
       "      <td>1</td>\n",
       "    </tr>\n",
       "    <tr>\n",
       "      <th>2</th>\n",
       "      <td>DISMANTLE</td>\n",
       "      <td>1</td>\n",
       "    </tr>\n",
       "    <tr>\n",
       "      <th>3</th>\n",
       "      <td>RELOCATION</td>\n",
       "      <td>1</td>\n",
       "    </tr>\n",
       "    <tr>\n",
       "      <th>4</th>\n",
       "      <td>INSTALLATION</td>\n",
       "      <td>1</td>\n",
       "    </tr>\n",
       "  </tbody>\n",
       "</table>\n",
       "</div>"
      ],
      "text/plain": [
       "          Names  Number of Availed\n",
       "0      CLEANING                  2\n",
       "1      CHECK-UP                  1\n",
       "2     DISMANTLE                  1\n",
       "3    RELOCATION                  1\n",
       "4  INSTALLATION                  1"
      ]
     },
     "execution_count": 1,
     "metadata": {},
     "output_type": "execute_result"
    }
   ],
   "source": [
    "import gspread\n",
    "from google.auth.transport.requests import Request\n",
    "from google.oauth2.credentials import Credentials\n",
    "from google.oauth2.service_account import Credentials\n",
    "import datetime\n",
    "import datetime\n",
    "import numpy as np\n",
    "import pandas as pd\n",
    "import matplotlib.pyplot as plt\n",
    "from matplotlib.ticker import ScalarFormatter, MultipleLocator\n",
    "import plotly.express as px\n",
    "\n",
    "\n",
    "scopes = [\"https://www.googleapis.com/auth/spreadsheets\"]\n",
    "credential = Credentials.from_service_account_file(\"credentials.json\", scopes=scopes)\n",
    "client = gspread.authorize(credential)\n",
    "\n",
    "\n",
    "spreadsheet_id = \"1Q_7ZcMpJeyHMhlhcFL3xvh3JpnSTZL12otyvzzZ9108\"\n",
    "workbook = client.open_by_key(spreadsheet_id)\n",
    "sheet1 = workbook.worksheet(\"Sheet1\")\n",
    "\n",
    "dataframe = pd.DataFrame(sheet1.get_all_records())\n",
    "\n",
    "# Convert the 'Entry Date' column to datetime format\n",
    "dataframe['Entry Date'] = pd.to_datetime(dataframe['Entry Date'], format='%m/ %d/ %Y %H:%M:%S')\n",
    "\n",
    "\n",
    "current_date = datetime.datetime.now()\n",
    "current_month = current_date.month\n",
    "current_year = current_date.year\n",
    "current_month_fullname = current_date.strftime('%B')\n",
    "\n",
    "filtered_dataframe = dataframe[\n",
    "    (dataframe['Entry Date'].dt.month == current_month) & \n",
    "    (dataframe['Entry Date'].dt.year == current_year)\n",
    "]\n",
    "\n",
    "\n",
    "services_from_spreadsheet = {\n",
    "    'cleaning': filtered_dataframe['Cleaning'],\n",
    "    'check-up': filtered_dataframe['Check-up'],\n",
    "    'dismantle': filtered_dataframe['Dismantle'],\n",
    "    'relocation': filtered_dataframe['Relocation'],\n",
    "    'installation': filtered_dataframe['Installation']\n",
    "}\n",
    "\n",
    "\n",
    "services_availed = {\n",
    "    'cleaning': 0,\n",
    "    'check-up': 0,\n",
    "    'dismantle': 0,\n",
    "    'relocation': 0,\n",
    "    'installation': 0\n",
    "}\n",
    "\n",
    "servicesNames = []\n",
    "numberAvailed = []\n",
    "\n",
    "for customers in services_from_spreadsheet['cleaning']:\n",
    "    if 'Availed' in customers:\n",
    "        services_availed['cleaning'] += 1\n",
    "        \n",
    "for customers in services_from_spreadsheet['check-up']:\n",
    "    if 'Availed' in customers:\n",
    "        services_availed['check-up'] += 1\n",
    "        \n",
    "for customers in services_from_spreadsheet['dismantle']:\n",
    "    if 'Availed' in customers:\n",
    "        services_availed['dismantle'] += 1\n",
    "        \n",
    "for customers in services_from_spreadsheet['relocation']:\n",
    "    if 'Availed' in customers:\n",
    "        services_availed['relocation'] += 1\n",
    "        \n",
    "for customers in services_from_spreadsheet['installation']:\n",
    "    if 'Availed' in customers:\n",
    "        services_availed['installation'] += 1\n",
    "        \n",
    "for keys in services_availed:\n",
    "    servicesNames.append(keys.upper())\n",
    "    numberAvailed.append(services_availed[keys])\n",
    "    \n",
    "print(servicesNames)\n",
    "print(numberAvailed)\n",
    "servicesDataFrame = {'Names': servicesNames, 'Number of Availed': numberAvailed}\n",
    "finalDataFrame = pd.DataFrame(servicesDataFrame)\n",
    "\n",
    "\n",
    "\n",
    "fig = px.bar(\n",
    "    finalDataFrame,\n",
    "    x='Names',\n",
    "    y='Number of Availed',\n",
    "    title=f'Number of Availed Services for the Month of {current_month_fullname}',\n",
    "    labels={'Names': 'Service Type', 'Number of Availed': 'Number of Times Availed'},\n",
    "    color='Names'\n",
    ")\n",
    "\n",
    "# Show the plot\n",
    "fig.show()\n",
    "finalDataFrame\n"
   ]
  },
  {
   "cell_type": "markdown",
   "metadata": {},
   "source": [
    "More revised \"clean code\" from gpt based on the code I did from above\n",
    "\n"
   ]
  },
  {
   "cell_type": "code",
   "execution_count": 1,
   "metadata": {},
   "outputs": [
    {
     "data": {
      "application/vnd.plotly.v1+json": {
       "config": {
        "plotlyServerURL": "https://plot.ly"
       },
       "data": [
        {
         "alignmentgroup": "True",
         "hovertemplate": "Service Type=%{x}<br>Number of Times Availed=%{y}<extra></extra>",
         "legendgroup": "CLEANING",
         "marker": {
          "color": "#636efa",
          "pattern": {
           "shape": ""
          }
         },
         "name": "CLEANING",
         "offsetgroup": "CLEANING",
         "orientation": "v",
         "showlegend": true,
         "textposition": "auto",
         "type": "bar",
         "x": [
          "CLEANING"
         ],
         "xaxis": "x",
         "y": [
          0
         ],
         "yaxis": "y"
        },
        {
         "alignmentgroup": "True",
         "hovertemplate": "Service Type=%{x}<br>Number of Times Availed=%{y}<extra></extra>",
         "legendgroup": "CHECK-UP",
         "marker": {
          "color": "#EF553B",
          "pattern": {
           "shape": ""
          }
         },
         "name": "CHECK-UP",
         "offsetgroup": "CHECK-UP",
         "orientation": "v",
         "showlegend": true,
         "textposition": "auto",
         "type": "bar",
         "x": [
          "CHECK-UP"
         ],
         "xaxis": "x",
         "y": [
          0
         ],
         "yaxis": "y"
        },
        {
         "alignmentgroup": "True",
         "hovertemplate": "Service Type=%{x}<br>Number of Times Availed=%{y}<extra></extra>",
         "legendgroup": "DISMANTLE",
         "marker": {
          "color": "#00cc96",
          "pattern": {
           "shape": ""
          }
         },
         "name": "DISMANTLE",
         "offsetgroup": "DISMANTLE",
         "orientation": "v",
         "showlegend": true,
         "textposition": "auto",
         "type": "bar",
         "x": [
          "DISMANTLE"
         ],
         "xaxis": "x",
         "y": [
          0
         ],
         "yaxis": "y"
        },
        {
         "alignmentgroup": "True",
         "hovertemplate": "Service Type=%{x}<br>Number of Times Availed=%{y}<extra></extra>",
         "legendgroup": "RELOCATION",
         "marker": {
          "color": "#ab63fa",
          "pattern": {
           "shape": ""
          }
         },
         "name": "RELOCATION",
         "offsetgroup": "RELOCATION",
         "orientation": "v",
         "showlegend": true,
         "textposition": "auto",
         "type": "bar",
         "x": [
          "RELOCATION"
         ],
         "xaxis": "x",
         "y": [
          0
         ],
         "yaxis": "y"
        },
        {
         "alignmentgroup": "True",
         "hovertemplate": "Service Type=%{x}<br>Number of Times Availed=%{y}<extra></extra>",
         "legendgroup": "INSTALLATION",
         "marker": {
          "color": "#FFA15A",
          "pattern": {
           "shape": ""
          }
         },
         "name": "INSTALLATION",
         "offsetgroup": "INSTALLATION",
         "orientation": "v",
         "showlegend": true,
         "textposition": "auto",
         "type": "bar",
         "x": [
          "INSTALLATION"
         ],
         "xaxis": "x",
         "y": [
          0
         ],
         "yaxis": "y"
        }
       ],
       "layout": {
        "barmode": "relative",
        "legend": {
         "title": {
          "text": "Service Type"
         },
         "tracegroupgap": 0
        },
        "template": {
         "data": {
          "bar": [
           {
            "error_x": {
             "color": "#2a3f5f"
            },
            "error_y": {
             "color": "#2a3f5f"
            },
            "marker": {
             "line": {
              "color": "#E5ECF6",
              "width": 0.5
             },
             "pattern": {
              "fillmode": "overlay",
              "size": 10,
              "solidity": 0.2
             }
            },
            "type": "bar"
           }
          ],
          "barpolar": [
           {
            "marker": {
             "line": {
              "color": "#E5ECF6",
              "width": 0.5
             },
             "pattern": {
              "fillmode": "overlay",
              "size": 10,
              "solidity": 0.2
             }
            },
            "type": "barpolar"
           }
          ],
          "carpet": [
           {
            "aaxis": {
             "endlinecolor": "#2a3f5f",
             "gridcolor": "white",
             "linecolor": "white",
             "minorgridcolor": "white",
             "startlinecolor": "#2a3f5f"
            },
            "baxis": {
             "endlinecolor": "#2a3f5f",
             "gridcolor": "white",
             "linecolor": "white",
             "minorgridcolor": "white",
             "startlinecolor": "#2a3f5f"
            },
            "type": "carpet"
           }
          ],
          "choropleth": [
           {
            "colorbar": {
             "outlinewidth": 0,
             "ticks": ""
            },
            "type": "choropleth"
           }
          ],
          "contour": [
           {
            "colorbar": {
             "outlinewidth": 0,
             "ticks": ""
            },
            "colorscale": [
             [
              0,
              "#0d0887"
             ],
             [
              0.1111111111111111,
              "#46039f"
             ],
             [
              0.2222222222222222,
              "#7201a8"
             ],
             [
              0.3333333333333333,
              "#9c179e"
             ],
             [
              0.4444444444444444,
              "#bd3786"
             ],
             [
              0.5555555555555556,
              "#d8576b"
             ],
             [
              0.6666666666666666,
              "#ed7953"
             ],
             [
              0.7777777777777778,
              "#fb9f3a"
             ],
             [
              0.8888888888888888,
              "#fdca26"
             ],
             [
              1,
              "#f0f921"
             ]
            ],
            "type": "contour"
           }
          ],
          "contourcarpet": [
           {
            "colorbar": {
             "outlinewidth": 0,
             "ticks": ""
            },
            "type": "contourcarpet"
           }
          ],
          "heatmap": [
           {
            "colorbar": {
             "outlinewidth": 0,
             "ticks": ""
            },
            "colorscale": [
             [
              0,
              "#0d0887"
             ],
             [
              0.1111111111111111,
              "#46039f"
             ],
             [
              0.2222222222222222,
              "#7201a8"
             ],
             [
              0.3333333333333333,
              "#9c179e"
             ],
             [
              0.4444444444444444,
              "#bd3786"
             ],
             [
              0.5555555555555556,
              "#d8576b"
             ],
             [
              0.6666666666666666,
              "#ed7953"
             ],
             [
              0.7777777777777778,
              "#fb9f3a"
             ],
             [
              0.8888888888888888,
              "#fdca26"
             ],
             [
              1,
              "#f0f921"
             ]
            ],
            "type": "heatmap"
           }
          ],
          "heatmapgl": [
           {
            "colorbar": {
             "outlinewidth": 0,
             "ticks": ""
            },
            "colorscale": [
             [
              0,
              "#0d0887"
             ],
             [
              0.1111111111111111,
              "#46039f"
             ],
             [
              0.2222222222222222,
              "#7201a8"
             ],
             [
              0.3333333333333333,
              "#9c179e"
             ],
             [
              0.4444444444444444,
              "#bd3786"
             ],
             [
              0.5555555555555556,
              "#d8576b"
             ],
             [
              0.6666666666666666,
              "#ed7953"
             ],
             [
              0.7777777777777778,
              "#fb9f3a"
             ],
             [
              0.8888888888888888,
              "#fdca26"
             ],
             [
              1,
              "#f0f921"
             ]
            ],
            "type": "heatmapgl"
           }
          ],
          "histogram": [
           {
            "marker": {
             "pattern": {
              "fillmode": "overlay",
              "size": 10,
              "solidity": 0.2
             }
            },
            "type": "histogram"
           }
          ],
          "histogram2d": [
           {
            "colorbar": {
             "outlinewidth": 0,
             "ticks": ""
            },
            "colorscale": [
             [
              0,
              "#0d0887"
             ],
             [
              0.1111111111111111,
              "#46039f"
             ],
             [
              0.2222222222222222,
              "#7201a8"
             ],
             [
              0.3333333333333333,
              "#9c179e"
             ],
             [
              0.4444444444444444,
              "#bd3786"
             ],
             [
              0.5555555555555556,
              "#d8576b"
             ],
             [
              0.6666666666666666,
              "#ed7953"
             ],
             [
              0.7777777777777778,
              "#fb9f3a"
             ],
             [
              0.8888888888888888,
              "#fdca26"
             ],
             [
              1,
              "#f0f921"
             ]
            ],
            "type": "histogram2d"
           }
          ],
          "histogram2dcontour": [
           {
            "colorbar": {
             "outlinewidth": 0,
             "ticks": ""
            },
            "colorscale": [
             [
              0,
              "#0d0887"
             ],
             [
              0.1111111111111111,
              "#46039f"
             ],
             [
              0.2222222222222222,
              "#7201a8"
             ],
             [
              0.3333333333333333,
              "#9c179e"
             ],
             [
              0.4444444444444444,
              "#bd3786"
             ],
             [
              0.5555555555555556,
              "#d8576b"
             ],
             [
              0.6666666666666666,
              "#ed7953"
             ],
             [
              0.7777777777777778,
              "#fb9f3a"
             ],
             [
              0.8888888888888888,
              "#fdca26"
             ],
             [
              1,
              "#f0f921"
             ]
            ],
            "type": "histogram2dcontour"
           }
          ],
          "mesh3d": [
           {
            "colorbar": {
             "outlinewidth": 0,
             "ticks": ""
            },
            "type": "mesh3d"
           }
          ],
          "parcoords": [
           {
            "line": {
             "colorbar": {
              "outlinewidth": 0,
              "ticks": ""
             }
            },
            "type": "parcoords"
           }
          ],
          "pie": [
           {
            "automargin": true,
            "type": "pie"
           }
          ],
          "scatter": [
           {
            "fillpattern": {
             "fillmode": "overlay",
             "size": 10,
             "solidity": 0.2
            },
            "type": "scatter"
           }
          ],
          "scatter3d": [
           {
            "line": {
             "colorbar": {
              "outlinewidth": 0,
              "ticks": ""
             }
            },
            "marker": {
             "colorbar": {
              "outlinewidth": 0,
              "ticks": ""
             }
            },
            "type": "scatter3d"
           }
          ],
          "scattercarpet": [
           {
            "marker": {
             "colorbar": {
              "outlinewidth": 0,
              "ticks": ""
             }
            },
            "type": "scattercarpet"
           }
          ],
          "scattergeo": [
           {
            "marker": {
             "colorbar": {
              "outlinewidth": 0,
              "ticks": ""
             }
            },
            "type": "scattergeo"
           }
          ],
          "scattergl": [
           {
            "marker": {
             "colorbar": {
              "outlinewidth": 0,
              "ticks": ""
             }
            },
            "type": "scattergl"
           }
          ],
          "scattermapbox": [
           {
            "marker": {
             "colorbar": {
              "outlinewidth": 0,
              "ticks": ""
             }
            },
            "type": "scattermapbox"
           }
          ],
          "scatterpolar": [
           {
            "marker": {
             "colorbar": {
              "outlinewidth": 0,
              "ticks": ""
             }
            },
            "type": "scatterpolar"
           }
          ],
          "scatterpolargl": [
           {
            "marker": {
             "colorbar": {
              "outlinewidth": 0,
              "ticks": ""
             }
            },
            "type": "scatterpolargl"
           }
          ],
          "scatterternary": [
           {
            "marker": {
             "colorbar": {
              "outlinewidth": 0,
              "ticks": ""
             }
            },
            "type": "scatterternary"
           }
          ],
          "surface": [
           {
            "colorbar": {
             "outlinewidth": 0,
             "ticks": ""
            },
            "colorscale": [
             [
              0,
              "#0d0887"
             ],
             [
              0.1111111111111111,
              "#46039f"
             ],
             [
              0.2222222222222222,
              "#7201a8"
             ],
             [
              0.3333333333333333,
              "#9c179e"
             ],
             [
              0.4444444444444444,
              "#bd3786"
             ],
             [
              0.5555555555555556,
              "#d8576b"
             ],
             [
              0.6666666666666666,
              "#ed7953"
             ],
             [
              0.7777777777777778,
              "#fb9f3a"
             ],
             [
              0.8888888888888888,
              "#fdca26"
             ],
             [
              1,
              "#f0f921"
             ]
            ],
            "type": "surface"
           }
          ],
          "table": [
           {
            "cells": {
             "fill": {
              "color": "#EBF0F8"
             },
             "line": {
              "color": "white"
             }
            },
            "header": {
             "fill": {
              "color": "#C8D4E3"
             },
             "line": {
              "color": "white"
             }
            },
            "type": "table"
           }
          ]
         },
         "layout": {
          "annotationdefaults": {
           "arrowcolor": "#2a3f5f",
           "arrowhead": 0,
           "arrowwidth": 1
          },
          "autotypenumbers": "strict",
          "coloraxis": {
           "colorbar": {
            "outlinewidth": 0,
            "ticks": ""
           }
          },
          "colorscale": {
           "diverging": [
            [
             0,
             "#8e0152"
            ],
            [
             0.1,
             "#c51b7d"
            ],
            [
             0.2,
             "#de77ae"
            ],
            [
             0.3,
             "#f1b6da"
            ],
            [
             0.4,
             "#fde0ef"
            ],
            [
             0.5,
             "#f7f7f7"
            ],
            [
             0.6,
             "#e6f5d0"
            ],
            [
             0.7,
             "#b8e186"
            ],
            [
             0.8,
             "#7fbc41"
            ],
            [
             0.9,
             "#4d9221"
            ],
            [
             1,
             "#276419"
            ]
           ],
           "sequential": [
            [
             0,
             "#0d0887"
            ],
            [
             0.1111111111111111,
             "#46039f"
            ],
            [
             0.2222222222222222,
             "#7201a8"
            ],
            [
             0.3333333333333333,
             "#9c179e"
            ],
            [
             0.4444444444444444,
             "#bd3786"
            ],
            [
             0.5555555555555556,
             "#d8576b"
            ],
            [
             0.6666666666666666,
             "#ed7953"
            ],
            [
             0.7777777777777778,
             "#fb9f3a"
            ],
            [
             0.8888888888888888,
             "#fdca26"
            ],
            [
             1,
             "#f0f921"
            ]
           ],
           "sequentialminus": [
            [
             0,
             "#0d0887"
            ],
            [
             0.1111111111111111,
             "#46039f"
            ],
            [
             0.2222222222222222,
             "#7201a8"
            ],
            [
             0.3333333333333333,
             "#9c179e"
            ],
            [
             0.4444444444444444,
             "#bd3786"
            ],
            [
             0.5555555555555556,
             "#d8576b"
            ],
            [
             0.6666666666666666,
             "#ed7953"
            ],
            [
             0.7777777777777778,
             "#fb9f3a"
            ],
            [
             0.8888888888888888,
             "#fdca26"
            ],
            [
             1,
             "#f0f921"
            ]
           ]
          },
          "colorway": [
           "#636efa",
           "#EF553B",
           "#00cc96",
           "#ab63fa",
           "#FFA15A",
           "#19d3f3",
           "#FF6692",
           "#B6E880",
           "#FF97FF",
           "#FECB52"
          ],
          "font": {
           "color": "#2a3f5f"
          },
          "geo": {
           "bgcolor": "white",
           "lakecolor": "white",
           "landcolor": "#E5ECF6",
           "showlakes": true,
           "showland": true,
           "subunitcolor": "white"
          },
          "hoverlabel": {
           "align": "left"
          },
          "hovermode": "closest",
          "mapbox": {
           "style": "light"
          },
          "paper_bgcolor": "white",
          "plot_bgcolor": "#E5ECF6",
          "polar": {
           "angularaxis": {
            "gridcolor": "white",
            "linecolor": "white",
            "ticks": ""
           },
           "bgcolor": "#E5ECF6",
           "radialaxis": {
            "gridcolor": "white",
            "linecolor": "white",
            "ticks": ""
           }
          },
          "scene": {
           "xaxis": {
            "backgroundcolor": "#E5ECF6",
            "gridcolor": "white",
            "gridwidth": 2,
            "linecolor": "white",
            "showbackground": true,
            "ticks": "",
            "zerolinecolor": "white"
           },
           "yaxis": {
            "backgroundcolor": "#E5ECF6",
            "gridcolor": "white",
            "gridwidth": 2,
            "linecolor": "white",
            "showbackground": true,
            "ticks": "",
            "zerolinecolor": "white"
           },
           "zaxis": {
            "backgroundcolor": "#E5ECF6",
            "gridcolor": "white",
            "gridwidth": 2,
            "linecolor": "white",
            "showbackground": true,
            "ticks": "",
            "zerolinecolor": "white"
           }
          },
          "shapedefaults": {
           "line": {
            "color": "#2a3f5f"
           }
          },
          "ternary": {
           "aaxis": {
            "gridcolor": "white",
            "linecolor": "white",
            "ticks": ""
           },
           "baxis": {
            "gridcolor": "white",
            "linecolor": "white",
            "ticks": ""
           },
           "bgcolor": "#E5ECF6",
           "caxis": {
            "gridcolor": "white",
            "linecolor": "white",
            "ticks": ""
           }
          },
          "title": {
           "x": 0.05
          },
          "xaxis": {
           "automargin": true,
           "gridcolor": "white",
           "linecolor": "white",
           "ticks": "",
           "title": {
            "standoff": 15
           },
           "zerolinecolor": "white",
           "zerolinewidth": 2
          },
          "yaxis": {
           "automargin": true,
           "gridcolor": "white",
           "linecolor": "white",
           "ticks": "",
           "title": {
            "standoff": 15
           },
           "zerolinecolor": "white",
           "zerolinewidth": 2
          }
         }
        },
        "title": {
         "text": "Number of Availed Services for the Month of August"
        },
        "xaxis": {
         "anchor": "y",
         "categoryarray": [
          "CLEANING",
          "CHECK-UP",
          "DISMANTLE",
          "RELOCATION",
          "INSTALLATION"
         ],
         "categoryorder": "array",
         "domain": [
          0,
          1
         ],
         "title": {
          "text": "Service Type"
         }
        },
        "yaxis": {
         "anchor": "x",
         "domain": [
          0,
          1
         ],
         "title": {
          "text": "Number of Times Availed"
         }
        }
       }
      }
     },
     "metadata": {},
     "output_type": "display_data"
    }
   ],
   "source": [
    "import gspread\n",
    "from google.auth.transport.requests import Request\n",
    "from google.oauth2.credentials import Credentials\n",
    "from google.oauth2.service_account import Credentials\n",
    "import datetime\n",
    "import pandas as pd\n",
    "import plotly.express as px\n",
    "\n",
    "# Define the scopes and authenticate\n",
    "scopes = [\"https://www.googleapis.com/auth/spreadsheets\"]\n",
    "credential = Credentials.from_service_account_file(\"credentials.json\", scopes=scopes)\n",
    "client = gspread.authorize(credential)\n",
    "\n",
    "# Open the spreadsheet and select the worksheet\n",
    "spreadsheet_id = \"1Q_7ZcMpJeyHMhlhcFL3xvh3JpnSTZL12otyvzzZ9108\"\n",
    "workbook = client.open_by_key(spreadsheet_id)\n",
    "sheet1 = workbook.worksheet(\"Sheet1\")\n",
    "\n",
    "# Load the worksheet data into a DataFrame\n",
    "dataframe = pd.DataFrame(sheet1.get_all_records())\n",
    "\n",
    "# Convert the 'Entry Date' column to datetime format\n",
    "dataframe['Entry Date'] = pd.to_datetime(dataframe['Entry Date'], format='%m/ %d/ %Y %H:%M:%S')\n",
    "\n",
    "# Get the current month and year\n",
    "current_date = datetime.datetime.now()\n",
    "current_month = current_date.month\n",
    "current_year = current_date.year\n",
    "current_month_fullname = current_date.strftime('%B')\n",
    "\n",
    "# Filter the dataframe to include only rows with the current month and year\n",
    "filtered_dataframe = dataframe[\n",
    "    (dataframe['Entry Date'].dt.month == current_month) & \n",
    "    (dataframe['Entry Date'].dt.year == current_year)\n",
    "]\n",
    "\n",
    "# Extract the services data\n",
    "services_from_spreadsheet = {\n",
    "    'cleaning': filtered_dataframe['Cleaning'],\n",
    "    'check-up': filtered_dataframe['Check-up'],\n",
    "    'dismantle': filtered_dataframe['Dismantle'],\n",
    "    'relocation': filtered_dataframe['Relocation'],\n",
    "    'installation': filtered_dataframe['Installation']\n",
    "}\n",
    "\n",
    "# Initialize the services_availed dictionary\n",
    "services_availed = {service: 0 for service in services_from_spreadsheet}\n",
    "\n",
    "# Count the number of times each service was availed\n",
    "for service, customers in services_from_spreadsheet.items():\n",
    "    services_availed[service] = sum('Availed' in customer for customer in customers)\n",
    "\n",
    "# Prepare data for the plot\n",
    "services_names = [key.upper() for key in services_availed.keys()]\n",
    "number_availed = [services_availed[key] for key in services_availed.keys()]\n",
    "\n",
    "# Create a DataFrame for the plot\n",
    "services_data_frame = {'Names': services_names, 'Number of Availed': number_availed}\n",
    "final_data_frame = pd.DataFrame(services_data_frame)\n",
    "\n",
    "# Create the bar plot using Plotly Express\n",
    "fig = px.bar(\n",
    "    final_data_frame,\n",
    "    x='Names',\n",
    "    y='Number of Availed',\n",
    "    title=f'Number of Availed Services for the Month of {current_month_fullname}',\n",
    "    labels={'Names': 'Service Type', 'Number of Availed': 'Number of Times Availed'},\n",
    "    color='Names'\n",
    ")\n",
    "\n",
    "# Show the plot\n",
    "fig.show()\n"
   ]
  },
  {
   "cell_type": "markdown",
   "metadata": {},
   "source": [
    "Example of a table coming from great_tables"
   ]
  },
  {
   "cell_type": "code",
   "execution_count": 1,
   "metadata": {},
   "outputs": [
    {
     "data": {
      "text/html": [
       "<div id=\"wvcgwfcbge\" style=\"padding-left:0px;padding-right:0px;padding-top:10px;padding-bottom:10px;overflow-x:auto;overflow-y:auto;width:auto;height:auto;\">\n",
       "<style>\n",
       "#wvcgwfcbge table {\n",
       "          font-family: -apple-system, BlinkMacSystemFont, 'Segoe UI', Roboto, Oxygen, Ubuntu, Cantarell, 'Helvetica Neue', 'Fira Sans', 'Droid Sans', Arial, sans-serif;\n",
       "          -webkit-font-smoothing: antialiased;\n",
       "          -moz-osx-font-smoothing: grayscale;\n",
       "        }\n",
       "\n",
       "#wvcgwfcbge thead, tbody, tfoot, tr, td, th { border-style: none !important; }\n",
       " tr { background-color: transparent !important; }\n",
       "#wvcgwfcbge p { margin: 0 !important; padding: 0 !important; }\n",
       " #wvcgwfcbge .gt_table { display: table !important; border-collapse: collapse !important; line-height: normal !important; margin-left: auto !important; margin-right: auto !important; color: #333333 !important; font-size: 16px !important; font-weight: normal !important; font-style: normal !important; background-color: #FFFFFF !important; width: auto !important; border-top-style: solid !important; border-top-width: 2px !important; border-top-color: #A8A8A8 !important; border-right-style: none !important; border-right-width: 2px !important; border-right-color: #D3D3D3 !important; border-bottom-style: solid !important; border-bottom-width: 2px !important; border-bottom-color: #A8A8A8 !important; border-left-style: none !important; border-left-width: 2px !important; border-left-color: #D3D3D3 !important; }\n",
       " #wvcgwfcbge .gt_caption { padding-top: 4px !important; padding-bottom: 4px !important; }\n",
       " #wvcgwfcbge .gt_title { color: #333333 !important; font-size: 125% !important; font-weight: initial !important; padding-top: 4px !important; padding-bottom: 4px !important; padding-left: 5px !important; padding-right: 5px !important; border-bottom-color: #FFFFFF !important; border-bottom-width: 0 !important; }\n",
       " #wvcgwfcbge .gt_subtitle { color: #333333 !important; font-size: 85% !important; font-weight: initial !important; padding-top: 3px !important; padding-bottom: 5px !important; padding-left: 5px !important; padding-right: 5px !important; border-top-color: #FFFFFF !important; border-top-width: 0 !important; }\n",
       " #wvcgwfcbge .gt_heading { background-color: #FFFFFF !important; text-align: center !important; border-bottom-color: #FFFFFF !important; border-left-style: none !important; border-left-width: 1px !important; border-left-color: #D3D3D3 !important; border-right-style: none !important; border-right-width: 1px !important; border-right-color: #D3D3D3 !important; }\n",
       " #wvcgwfcbge .gt_bottom_border { border-bottom-style: solid !important; border-bottom-width: 2px !important; border-bottom-color: #D3D3D3 !important; }\n",
       " #wvcgwfcbge .gt_col_headings { border-top-style: solid !important; border-top-width: 2px !important; border-top-color: #D3D3D3 !important; border-bottom-style: solid !important; border-bottom-width: 2px !important; border-bottom-color: #D3D3D3 !important; border-left-style: none !important; border-left-width: 1px !important; border-left-color: #D3D3D3 !important; border-right-style: none !important; border-right-width: 1px !important; border-right-color: #D3D3D3 !important; }\n",
       " #wvcgwfcbge .gt_col_heading { color: #333333 !important; background-color: #FFFFFF !important; font-size: 100% !important; font-weight: normal !important; text-transform: inherit !important; border-left-style: none !important; border-left-width: 1px !important; border-left-color: #D3D3D3 !important; border-right-style: none !important; border-right-width: 1px !important; border-right-color: #D3D3D3 !important; vertical-align: bottom !important; padding-top: 5px !important; padding-bottom: 5px !important; padding-left: 5px !important; padding-right: 5px !important; overflow-x: hidden !important; }\n",
       " #wvcgwfcbge .gt_column_spanner_outer { color: #333333 !important; background-color: #FFFFFF !important; font-size: 100% !important; font-weight: normal !important; text-transform: inherit !important; padding-top: 0 !important; padding-bottom: 0 !important; padding-left: 4px !important; padding-right: 4px !important; }\n",
       " #wvcgwfcbge .gt_column_spanner_outer:first-child { padding-left: 0 !important; }\n",
       " #wvcgwfcbge .gt_column_spanner_outer:last-child { padding-right: 0 !important; }\n",
       " #wvcgwfcbge .gt_column_spanner { border-bottom-style: solid !important; border-bottom-width: 2px !important; border-bottom-color: #D3D3D3 !important; vertical-align: bottom !important; padding-top: 5px !important; padding-bottom: 5px !important; overflow-x: hidden !important; display: inline-block !important; width: 100% !important; }\n",
       " #wvcgwfcbge .gt_spanner_row { border-bottom-style: hidden !important; }\n",
       " #wvcgwfcbge .gt_group_heading { padding-top: 8px !important; padding-bottom: 8px !important; padding-left: 5px !important; padding-right: 5px !important; color: #333333 !important; background-color: #FFFFFF !important; font-size: 100% !important; font-weight: initial !important; text-transform: inherit !important; border-top-style: solid !important; border-top-width: 2px !important; border-top-color: #D3D3D3 !important; border-bottom-style: solid !important; border-bottom-width: 2px !important; border-bottom-color: #D3D3D3 !important; border-left-style: none !important; border-left-width: 1px !important; border-left-color: #D3D3D3 !important; border-right-style: none !important; border-right-width: 1px !important; border-right-color: #D3D3D3 !important; vertical-align: middle !important; text-align: left !important; }\n",
       " #wvcgwfcbge .gt_empty_group_heading { padding: 0.5px !important; color: #333333 !important; background-color: #FFFFFF !important; font-size: 100% !important; font-weight: initial !important; border-top-style: solid !important; border-top-width: 2px !important; border-top-color: #D3D3D3 !important; border-bottom-style: solid !important; border-bottom-width: 2px !important; border-bottom-color: #D3D3D3 !important; vertical-align: middle !important; }\n",
       " #wvcgwfcbge .gt_from_md> :first-child { margin-top: 0 !important; }\n",
       " #wvcgwfcbge .gt_from_md> :last-child { margin-bottom: 0 !important; }\n",
       " #wvcgwfcbge .gt_row { padding-top: 8px !important; padding-bottom: 8px !important; padding-left: 5px !important; padding-right: 5px !important; margin: 10px !important; border-top-style: solid !important; border-top-width: 1px !important; border-top-color: #D3D3D3 !important; border-left-style: none !important; border-left-width: 1px !important; border-left-color: #D3D3D3 !important; border-right-style: none !important; border-right-width: 1px !important; border-right-color: #D3D3D3 !important; vertical-align: middle !important; overflow-x: hidden !important; }\n",
       " #wvcgwfcbge .gt_stub { color: #333333 !important; background-color: #FFFFFF !important; font-size: 100% !important; font-weight: initial !important; text-transform: inherit !important; border-right-style: solid !important; border-right-width: 2px !important; border-right-color: #D3D3D3 !important; padding-left: 5px !important; padding-right: 5px !important; }\n",
       " #wvcgwfcbge .gt_stub_row_group { color: #333333 !important; background-color: #FFFFFF !important; font-size: 100% !important; font-weight: initial !important; text-transform: inherit !important; border-right-style: solid !important; border-right-width: 2px !important; border-right-color: #D3D3D3 !important; padding-left: 5px !important; padding-right: 5px !important; vertical-align: top !important; }\n",
       " #wvcgwfcbge .gt_row_group_first td { border-top-width: 2px !important; }\n",
       " #wvcgwfcbge .gt_row_group_first th { border-top-width: 2px !important; }\n",
       " #wvcgwfcbge .gt_table_body { border-top-style: solid !important; border-top-width: 2px !important; border-top-color: #D3D3D3 !important; border-bottom-style: solid !important; border-bottom-width: 2px !important; border-bottom-color: #D3D3D3 !important; }\n",
       " #wvcgwfcbge .gt_sourcenotes { color: #333333 !important; background-color: #FFFFFF !important; border-bottom-style: none !important; border-bottom-width: 2px !important; border-bottom-color: #D3D3D3 !important; border-left-style: none !important; border-left-width: 2px !important; border-left-color: #D3D3D3 !important; border-right-style: none !important; border-right-width: 2px !important; border-right-color: #D3D3D3 !important; }\n",
       " #wvcgwfcbge .gt_sourcenote { font-size: 90% !important; padding-top: 4px !important; padding-bottom: 4px !important; padding-left: 5px !important; padding-right: 5px !important; text-align: left !important; }\n",
       " #wvcgwfcbge .gt_left { text-align: left !important; }\n",
       " #wvcgwfcbge .gt_center { text-align: center !important; }\n",
       " #wvcgwfcbge .gt_right { text-align: right !important; font-variant-numeric: tabular-nums !important; }\n",
       " #wvcgwfcbge .gt_font_normal { font-weight: normal !important; }\n",
       " #wvcgwfcbge .gt_font_bold { font-weight: bold !important; }\n",
       " #wvcgwfcbge .gt_font_italic { font-style: italic !important; }\n",
       " #wvcgwfcbge .gt_super { font-size: 65% !important; }\n",
       " #wvcgwfcbge .gt_footnote_marks { font-size: 75% !important; vertical-align: 0.4em !important; position: initial !important; }\n",
       " #wvcgwfcbge .gt_asterisk { font-size: 100% !important; vertical-align: 0 !important; }\n",
       " \n",
       "</style>\n",
       "<table class=\"gt_table\" data-quarto-disable-processing=\"false\" data-quarto-bootstrap=\"false\">\n",
       "<thead class=\"gt_header\">\n",
       "  <tr>\n",
       "    <th colspan=\"6\" class=\"gt_heading gt_title gt_font_normal\">S&amp;P 500</th>\n",
       "  </tr>\n",
       "  <tr>\n",
       "    <th colspan=\"6\" class=\"gt_heading gt_subtitle gt_font_normal gt_bottom_border\">2010-06-07 to 2010-06-14</th>\n",
       "  </tr>\n",
       "</thead>\n",
       "<tr class=\"gt_col_headings\">\n",
       "  <th class=\"gt_col_heading gt_columns_bottom_border gt_right\" rowspan=\"1\" colspan=\"1\" scope=\"col\" id=\"date\">date</th>\n",
       "  <th class=\"gt_col_heading gt_columns_bottom_border gt_right\" rowspan=\"1\" colspan=\"1\" scope=\"col\" id=\"open\">open</th>\n",
       "  <th class=\"gt_col_heading gt_columns_bottom_border gt_right\" rowspan=\"1\" colspan=\"1\" scope=\"col\" id=\"high\">high</th>\n",
       "  <th class=\"gt_col_heading gt_columns_bottom_border gt_right\" rowspan=\"1\" colspan=\"1\" scope=\"col\" id=\"low\">low</th>\n",
       "  <th class=\"gt_col_heading gt_columns_bottom_border gt_right\" rowspan=\"1\" colspan=\"1\" scope=\"col\" id=\"close\">close</th>\n",
       "  <th class=\"gt_col_heading gt_columns_bottom_border gt_right\" rowspan=\"1\" colspan=\"1\" scope=\"col\" id=\"volume\">volume</th>\n",
       "</tr>\n",
       "<tbody class=\"gt_table_body\">\n",
       "  <tr>\n",
       "    <td class=\"gt_row gt_right\">Mon, Jun 14, 2010</td>\n",
       "    <td class=\"gt_row gt_right\">$1,095.00</td>\n",
       "    <td class=\"gt_row gt_right\">$1,105.91</td>\n",
       "    <td class=\"gt_row gt_right\">$1,089.03</td>\n",
       "    <td class=\"gt_row gt_right\">$1,089.63</td>\n",
       "    <td class=\"gt_row gt_right\">4.43B</td>\n",
       "  </tr>\n",
       "  <tr>\n",
       "    <td class=\"gt_row gt_right\">Fri, Jun 11, 2010</td>\n",
       "    <td class=\"gt_row gt_right\">$1,082.65</td>\n",
       "    <td class=\"gt_row gt_right\">$1,092.25</td>\n",
       "    <td class=\"gt_row gt_right\">$1,077.12</td>\n",
       "    <td class=\"gt_row gt_right\">$1,091.60</td>\n",
       "    <td class=\"gt_row gt_right\">4.06B</td>\n",
       "  </tr>\n",
       "  <tr>\n",
       "    <td class=\"gt_row gt_right\">Thu, Jun 10, 2010</td>\n",
       "    <td class=\"gt_row gt_right\">$1,058.77</td>\n",
       "    <td class=\"gt_row gt_right\">$1,087.85</td>\n",
       "    <td class=\"gt_row gt_right\">$1,058.77</td>\n",
       "    <td class=\"gt_row gt_right\">$1,086.84</td>\n",
       "    <td class=\"gt_row gt_right\">5.14B</td>\n",
       "  </tr>\n",
       "  <tr>\n",
       "    <td class=\"gt_row gt_right\">Wed, Jun 9, 2010</td>\n",
       "    <td class=\"gt_row gt_right\">$1,062.75</td>\n",
       "    <td class=\"gt_row gt_right\">$1,077.74</td>\n",
       "    <td class=\"gt_row gt_right\">$1,052.25</td>\n",
       "    <td class=\"gt_row gt_right\">$1,055.69</td>\n",
       "    <td class=\"gt_row gt_right\">5.98B</td>\n",
       "  </tr>\n",
       "  <tr>\n",
       "    <td class=\"gt_row gt_right\">Tue, Jun 8, 2010</td>\n",
       "    <td class=\"gt_row gt_right\">$1,050.81</td>\n",
       "    <td class=\"gt_row gt_right\">$1,063.15</td>\n",
       "    <td class=\"gt_row gt_right\">$1,042.17</td>\n",
       "    <td class=\"gt_row gt_right\">$1,062.00</td>\n",
       "    <td class=\"gt_row gt_right\">6.19B</td>\n",
       "  </tr>\n",
       "  <tr>\n",
       "    <td class=\"gt_row gt_right\">Mon, Jun 7, 2010</td>\n",
       "    <td class=\"gt_row gt_right\">$1,065.84</td>\n",
       "    <td class=\"gt_row gt_right\">$1,071.36</td>\n",
       "    <td class=\"gt_row gt_right\">$1,049.86</td>\n",
       "    <td class=\"gt_row gt_right\">$1,050.47</td>\n",
       "    <td class=\"gt_row gt_right\">5.47B</td>\n",
       "  </tr>\n",
       "</tbody>\n",
       "\n",
       "\n",
       "</table>\n",
       "\n",
       "</div>\n",
       "        "
      ],
      "text/plain": [
       "GT(_tbl_data=            date       open     high      low      close        volume  \\\n",
       "1398  2010-06-14  1095.0000  1105.91  1089.03  1089.6300  4.425830e+09   \n",
       "1399  2010-06-11  1082.6500  1092.25  1077.12  1091.6000  4.059280e+09   \n",
       "1400  2010-06-10  1058.7700  1087.85  1058.77  1086.8400  5.144780e+09   \n",
       "1401  2010-06-09  1062.7500  1077.74  1052.25  1055.6899  5.983200e+09   \n",
       "1402  2010-06-08  1050.8101  1063.15  1042.17  1062.0000  6.192750e+09   \n",
       "1403  2010-06-07  1065.8400  1071.36  1049.86  1050.4700  5.467560e+09   \n",
       "\n",
       "      adj_close  \n",
       "1398  1089.6300  \n",
       "1399  1091.6000  \n",
       "1400  1086.8400  \n",
       "1401  1055.6899  \n",
       "1402  1062.0000  \n",
       "1403  1050.4700  , _body=<great_tables._gt_data.Body object at 0x00000233A545C1D0>, _boxhead=Boxhead([ColInfo(var='date', type=<ColInfoTypeEnum.default: 1>, column_label='date', column_align='right', column_width=None), ColInfo(var='open', type=<ColInfoTypeEnum.default: 1>, column_label='open', column_align='right', column_width=None), ColInfo(var='high', type=<ColInfoTypeEnum.default: 1>, column_label='high', column_align='right', column_width=None), ColInfo(var='low', type=<ColInfoTypeEnum.default: 1>, column_label='low', column_align='right', column_width=None), ColInfo(var='close', type=<ColInfoTypeEnum.default: 1>, column_label='close', column_align='right', column_width=None), ColInfo(var='volume', type=<ColInfoTypeEnum.default: 1>, column_label='volume', column_align='right', column_width=None), ColInfo(var='adj_close', type=<ColInfoTypeEnum.hidden: 4>, column_label='adj_close', column_align='right', column_width=None)]), _stub=<great_tables._gt_data.Stub object at 0x00000233A7EFEA10>, _spanners=Spanners([]), _heading=Heading(title='S&P 500', subtitle='2010-06-07 to 2010-06-14', preheader=None), _stubhead=None, _source_notes=[], _footnotes=[], _styles=[], _locale=<great_tables._gt_data.Locale object at 0x00000233A53CDA50>, _formats=[<great_tables._gt_data.FormatInfo object at 0x00000233A5B807D0>, <great_tables._gt_data.FormatInfo object at 0x00000233A7AA0090>, <great_tables._gt_data.FormatInfo object at 0x00000233A7EA6D50>], _substitutions=[], _options=Options(table_id=OptionsInfo(scss=False, category='table', type='value', value=None), table_caption=OptionsInfo(scss=False, category='table', type='value', value=None), table_width=OptionsInfo(scss=True, category='table', type='px', value='auto'), table_layout=OptionsInfo(scss=True, category='table', type='value', value='fixed'), table_margin_left=OptionsInfo(scss=True, category='table', type='px', value='auto'), table_margin_right=OptionsInfo(scss=True, category='table', type='px', value='auto'), table_background_color=OptionsInfo(scss=True, category='table', type='value', value='#FFFFFF'), table_font_names=OptionsInfo(scss=False, category='table', type='values', value=['-apple-system', 'BlinkMacSystemFont', 'Segoe UI', 'Roboto', 'Oxygen', 'Ubuntu', 'Cantarell', 'Helvetica Neue', 'Fira Sans', 'Droid Sans', 'Arial', 'sans-serif']), table_font_size=OptionsInfo(scss=True, category='table', type='px', value='16px'), table_font_weight=OptionsInfo(scss=True, category='table', type='value', value='normal'), table_font_style=OptionsInfo(scss=True, category='table', type='value', value='normal'), table_font_color=OptionsInfo(scss=True, category='table', type='value', value='#333333'), table_font_color_light=OptionsInfo(scss=True, category='table', type='value', value='#FFFFFF'), table_border_top_include=OptionsInfo(scss=False, category='table', type='boolean', value=True), table_border_top_style=OptionsInfo(scss=True, category='table', type='value', value='solid'), table_border_top_width=OptionsInfo(scss=True, category='table', type='px', value='2px'), table_border_top_color=OptionsInfo(scss=True, category='table', type='value', value='#A8A8A8'), table_border_right_style=OptionsInfo(scss=True, category='table', type='value', value='none'), table_border_right_width=OptionsInfo(scss=True, category='table', type='px', value='2px'), table_border_right_color=OptionsInfo(scss=True, category='table', type='value', value='#D3D3D3'), table_border_bottom_include=OptionsInfo(scss=False, category='table', type='boolean', value=True), table_border_bottom_style=OptionsInfo(scss=True, category='table', type='value', value='solid'), table_border_bottom_width=OptionsInfo(scss=True, category='table', type='px', value='2px'), table_border_bottom_color=OptionsInfo(scss=True, category='table', type='value', value='#A8A8A8'), table_border_left_style=OptionsInfo(scss=True, category='table', type='value', value='none'), table_border_left_width=OptionsInfo(scss=True, category='table', type='px', value='2px'), table_border_left_color=OptionsInfo(scss=True, category='table', type='value', value='#D3D3D3'), heading_background_color=OptionsInfo(scss=True, category='heading', type='value', value=None), heading_align=OptionsInfo(scss=True, category='heading', type='value', value='center'), heading_title_font_size=OptionsInfo(scss=True, category='heading', type='px', value='125%'), heading_title_font_weight=OptionsInfo(scss=True, category='heading', type='value', value='initial'), heading_subtitle_font_size=OptionsInfo(scss=True, category='heading', type='px', value='85%'), heading_subtitle_font_weight=OptionsInfo(scss=True, category='heading', type='value', value='initial'), heading_padding=OptionsInfo(scss=True, category='heading', type='px', value='4px'), heading_padding_horizontal=OptionsInfo(scss=True, category='heading', type='px', value='5px'), heading_border_bottom_style=OptionsInfo(scss=True, category='heading', type='value', value='solid'), heading_border_bottom_width=OptionsInfo(scss=True, category='heading', type='px', value='2px'), heading_border_bottom_color=OptionsInfo(scss=True, category='heading', type='value', value='#D3D3D3'), heading_border_lr_style=OptionsInfo(scss=True, category='heading', type='value', value='none'), heading_border_lr_width=OptionsInfo(scss=True, category='heading', type='px', value='1px'), heading_border_lr_color=OptionsInfo(scss=True, category='heading', type='value', value='#D3D3D3'), column_labels_background_color=OptionsInfo(scss=True, category='column_labels', type='value', value=None), column_labels_font_size=OptionsInfo(scss=True, category='column_labels', type='px', value='100%'), column_labels_font_weight=OptionsInfo(scss=True, category='column_labels', type='value', value='normal'), column_labels_text_transform=OptionsInfo(scss=True, category='column_labels', type='value', value='inherit'), column_labels_padding=OptionsInfo(scss=True, category='column_labels', type='px', value='5px'), column_labels_padding_horizontal=OptionsInfo(scss=True, category='column_labels', type='px', value='5px'), column_labels_vlines_style=OptionsInfo(scss=True, category='table_body', type='value', value='none'), column_labels_vlines_width=OptionsInfo(scss=True, category='table_body', type='px', value='1px'), column_labels_vlines_color=OptionsInfo(scss=True, category='table_body', type='value', value='#D3D3D3'), column_labels_border_top_style=OptionsInfo(scss=True, category='column_labels', type='value', value='solid'), column_labels_border_top_width=OptionsInfo(scss=True, category='column_labels', type='px', value='2px'), column_labels_border_top_color=OptionsInfo(scss=True, category='column_labels', type='value', value='#D3D3D3'), column_labels_border_bottom_style=OptionsInfo(scss=True, category='column_labels', type='value', value='solid'), column_labels_border_bottom_width=OptionsInfo(scss=True, category='column_labels', type='px', value='2px'), column_labels_border_bottom_color=OptionsInfo(scss=True, category='column_labels', type='value', value='#D3D3D3'), column_labels_border_lr_style=OptionsInfo(scss=True, category='column_labels', type='value', value='none'), column_labels_border_lr_width=OptionsInfo(scss=True, category='column_labels', type='px', value='1px'), column_labels_border_lr_color=OptionsInfo(scss=True, category='column_labels', type='value', value='#D3D3D3'), column_labels_hidden=OptionsInfo(scss=False, category='column_labels', type='boolean', value=False), row_group_background_color=OptionsInfo(scss=True, category='row_group', type='value', value=None), row_group_font_size=OptionsInfo(scss=True, category='row_group', type='px', value='100%'), row_group_font_weight=OptionsInfo(scss=True, category='row_group', type='value', value='initial'), row_group_text_transform=OptionsInfo(scss=True, category='row_group', type='value', value='inherit'), row_group_padding=OptionsInfo(scss=True, category='row_group', type='px', value='8px'), row_group_padding_horizontal=OptionsInfo(scss=True, category='row_group', type='px', value='5px'), row_group_border_top_style=OptionsInfo(scss=True, category='row_group', type='value', value='solid'), row_group_border_top_width=OptionsInfo(scss=True, category='row_group', type='px', value='2px'), row_group_border_top_color=OptionsInfo(scss=True, category='row_group', type='value', value='#D3D3D3'), row_group_border_right_style=OptionsInfo(scss=True, category='row_group', type='value', value='none'), row_group_border_right_width=OptionsInfo(scss=True, category='row_group', type='px', value='1px'), row_group_border_right_color=OptionsInfo(scss=True, category='row_group', type='value', value='#D3D3D3'), row_group_border_bottom_style=OptionsInfo(scss=True, category='row_group', type='value', value='solid'), row_group_border_bottom_width=OptionsInfo(scss=True, category='row_group', type='px', value='2px'), row_group_border_bottom_color=OptionsInfo(scss=True, category='row_group', type='value', value='#D3D3D3'), row_group_border_left_style=OptionsInfo(scss=True, category='row_group', type='value', value='none'), row_group_border_left_width=OptionsInfo(scss=True, category='row_group', type='px', value='1px'), row_group_border_left_color=OptionsInfo(scss=True, category='row_group', type='value', value='#D3D3D3'), row_group_as_column=OptionsInfo(scss=False, category='row_group', type='boolean', value=False), table_body_hlines_style=OptionsInfo(scss=True, category='table_body', type='value', value='solid'), table_body_hlines_width=OptionsInfo(scss=True, category='table_body', type='px', value='1px'), table_body_hlines_color=OptionsInfo(scss=True, category='table_body', type='value', value='#D3D3D3'), table_body_vlines_style=OptionsInfo(scss=True, category='table_body', type='value', value='none'), table_body_vlines_width=OptionsInfo(scss=True, category='table_body', type='px', value='1px'), table_body_vlines_color=OptionsInfo(scss=True, category='table_body', type='value', value='#D3D3D3'), table_body_border_top_style=OptionsInfo(scss=True, category='table_body', type='value', value='solid'), table_body_border_top_width=OptionsInfo(scss=True, category='table_body', type='px', value='2px'), table_body_border_top_color=OptionsInfo(scss=True, category='table_body', type='value', value='#D3D3D3'), table_body_border_bottom_style=OptionsInfo(scss=True, category='table_body', type='value', value='solid'), table_body_border_bottom_width=OptionsInfo(scss=True, category='table_body', type='px', value='2px'), table_body_border_bottom_color=OptionsInfo(scss=True, category='table_body', type='value', value='#D3D3D3'), data_row_padding=OptionsInfo(scss=True, category='data_row', type='px', value='8px'), data_row_padding_horizontal=OptionsInfo(scss=True, category='data_row', type='px', value='5px'), stub_background_color=OptionsInfo(scss=True, category='stub', type='value', value=None), stub_font_size=OptionsInfo(scss=True, category='stub', type='px', value='100%'), stub_font_weight=OptionsInfo(scss=True, category='stub', type='value', value='initial'), stub_text_transform=OptionsInfo(scss=True, category='stub', type='value', value='inherit'), stub_border_style=OptionsInfo(scss=True, category='stub', type='value', value='solid'), stub_border_width=OptionsInfo(scss=True, category='stub', type='px', value='2px'), stub_border_color=OptionsInfo(scss=True, category='stub', type='value', value='#D3D3D3'), stub_row_group_background_color=OptionsInfo(scss=True, category='stub', type='value', value=None), stub_row_group_font_size=OptionsInfo(scss=True, category='stub', type='px', value='100%'), stub_row_group_font_weight=OptionsInfo(scss=True, category='stub', type='value', value='initial'), stub_row_group_text_transform=OptionsInfo(scss=True, category='stub', type='value', value='inherit'), stub_row_group_border_style=OptionsInfo(scss=True, category='stub', type='value', value='solid'), stub_row_group_border_width=OptionsInfo(scss=True, category='stub', type='px', value='2px'), stub_row_group_border_color=OptionsInfo(scss=True, category='stub', type='value', value='#D3D3D3'), source_notes_padding=OptionsInfo(scss=True, category='source_notes', type='px', value='4px'), source_notes_padding_horizontal=OptionsInfo(scss=True, category='source_notes', type='px', value='5px'), source_notes_background_color=OptionsInfo(scss=True, category='source_notes', type='value', value=None), source_notes_font_size=OptionsInfo(scss=True, category='source_notes', type='px', value='90%'), source_notes_border_bottom_style=OptionsInfo(scss=True, category='source_notes', type='value', value='none'), source_notes_border_bottom_width=OptionsInfo(scss=True, category='source_notes', type='px', value='2px'), source_notes_border_bottom_color=OptionsInfo(scss=True, category='source_notes', type='value', value='#D3D3D3'), source_notes_border_lr_style=OptionsInfo(scss=True, category='source_notes', type='value', value='none'), source_notes_border_lr_width=OptionsInfo(scss=True, category='source_notes', type='px', value='2px'), source_notes_border_lr_color=OptionsInfo(scss=True, category='source_notes', type='value', value='#D3D3D3'), source_notes_multiline=OptionsInfo(scss=False, category='source_notes', type='boolean', value=True), source_notes_sep=OptionsInfo(scss=False, category='source_notes', type='value', value=' '), container_width=OptionsInfo(scss=False, category='container', type='px', value='auto'), container_height=OptionsInfo(scss=False, category='container', type='px', value='auto'), container_padding_x=OptionsInfo(scss=False, category='container', type='px', value='0px'), container_padding_y=OptionsInfo(scss=False, category='container', type='px', value='10px'), container_overflow_x=OptionsInfo(scss=False, category='container', type='overflow', value='auto'), container_overflow_y=OptionsInfo(scss=False, category='container', type='overflow', value='auto'), quarto_disable_processing=OptionsInfo(scss=False, category='quarto', type='logical', value=False), quarto_use_bootstrap=OptionsInfo(scss=False, category='quarto', type='logical', value=False)), _has_built=False)"
      ]
     },
     "execution_count": 1,
     "metadata": {},
     "output_type": "execute_result"
    }
   ],
   "source": [
    "from great_tables import GT\n",
    "from great_tables.data import sp500\n",
    "\n",
    "# Define the start and end dates for the data range\n",
    "start_date = \"2010-06-07\"\n",
    "end_date = \"2010-06-14\"\n",
    "\n",
    "# Filter sp500 using Pandas to dates between `start_date` and `end_date`\n",
    "sp500_mini = sp500[(sp500[\"date\"] >= start_date) & (sp500[\"date\"] <= end_date)]\n",
    "\n",
    "# Create a gt table based on the `sp500_mini` table data\n",
    "(\n",
    "    GT(sp500_mini)\n",
    "    .tab_header(title=\"S&P 500\", subtitle=f\"{start_date} to {end_date}\")\n",
    "    .fmt_currency(columns=[\"open\", \"high\", \"low\", \"close\"])\n",
    "    .fmt_date(columns=\"date\", date_style=\"wd_m_day_year\")\n",
    "    .fmt_number(columns=\"volume\", compact=True)\n",
    "    .cols_hide(columns=\"adj_close\")\n",
    ")"
   ]
  },
  {
   "cell_type": "markdown",
   "metadata": {},
   "source": [
    "Line plot "
   ]
  },
  {
   "cell_type": "code",
   "execution_count": 5,
   "metadata": {},
   "outputs": [
    {
     "data": {
      "application/vnd.plotly.v1+json": {
       "config": {
        "plotlyServerURL": "https://plot.ly"
       },
       "data": [
        {
         "hovertemplate": "Skill=SQL<br>Month=%{x}<br>Percentage=%{y}<extra></extra>",
         "legendgroup": "SQL",
         "line": {
          "color": "#636efa",
          "dash": "solid"
         },
         "marker": {
          "symbol": "circle"
         },
         "mode": "lines",
         "name": "SQL",
         "orientation": "v",
         "showlegend": true,
         "type": "scatter",
         "x": [
          "Nov 2022",
          "Dec 2022",
          "Jan 2023",
          "Feb 2023",
          "Mar 2023",
          "Apr 2023",
          "May 2023",
          "Jun 2023",
          "Jul 2023",
          "Aug 2023"
         ],
         "xaxis": "x",
         "y": [
          55,
          54,
          53,
          52,
          53,
          54,
          54,
          55,
          56,
          57
         ],
         "yaxis": "y"
        },
        {
         "hovertemplate": "Skill=Python<br>Month=%{x}<br>Percentage=%{y}<extra></extra>",
         "legendgroup": "Python",
         "line": {
          "color": "#EF553B",
          "dash": "solid"
         },
         "marker": {
          "symbol": "circle"
         },
         "mode": "lines",
         "name": "Python",
         "orientation": "v",
         "showlegend": true,
         "type": "scatter",
         "x": [
          "Nov 2022",
          "Dec 2022",
          "Jan 2023",
          "Feb 2023",
          "Mar 2023",
          "Apr 2023",
          "May 2023",
          "Jun 2023",
          "Jul 2023",
          "Aug 2023"
         ],
         "xaxis": "x",
         "y": [
          48,
          47,
          46,
          45,
          46,
          47,
          47,
          48,
          49,
          50
         ],
         "yaxis": "y"
        },
        {
         "hovertemplate": "Skill=AWS<br>Month=%{x}<br>Percentage=%{y}<extra></extra>",
         "legendgroup": "AWS",
         "line": {
          "color": "#00cc96",
          "dash": "solid"
         },
         "marker": {
          "symbol": "circle"
         },
         "mode": "lines",
         "name": "AWS",
         "orientation": "v",
         "showlegend": true,
         "type": "scatter",
         "x": [
          "Nov 2022",
          "Dec 2022",
          "Jan 2023",
          "Feb 2023",
          "Mar 2023",
          "Apr 2023",
          "May 2023",
          "Jun 2023",
          "Jul 2023",
          "Aug 2023"
         ],
         "xaxis": "x",
         "y": [
          25,
          24,
          23,
          22,
          23,
          24,
          24,
          25,
          26,
          27
         ],
         "yaxis": "y"
        },
        {
         "hovertemplate": "Skill=Spark<br>Month=%{x}<br>Percentage=%{y}<extra></extra>",
         "legendgroup": "Spark",
         "line": {
          "color": "#ab63fa",
          "dash": "solid"
         },
         "marker": {
          "symbol": "circle"
         },
         "mode": "lines",
         "name": "Spark",
         "orientation": "v",
         "showlegend": true,
         "type": "scatter",
         "x": [
          "Nov 2022",
          "Dec 2022",
          "Jan 2023",
          "Feb 2023",
          "Mar 2023",
          "Apr 2023",
          "May 2023",
          "Jun 2023",
          "Jul 2023",
          "Aug 2023"
         ],
         "xaxis": "x",
         "y": [
          20,
          19,
          18,
          17,
          18,
          19,
          19,
          20,
          21,
          22
         ],
         "yaxis": "y"
        }
       ],
       "layout": {
        "legend": {
         "title": {
          "text": "Skill"
         },
         "tracegroupgap": 0
        },
        "template": {
         "data": {
          "bar": [
           {
            "error_x": {
             "color": "#2a3f5f"
            },
            "error_y": {
             "color": "#2a3f5f"
            },
            "marker": {
             "line": {
              "color": "#E5ECF6",
              "width": 0.5
             },
             "pattern": {
              "fillmode": "overlay",
              "size": 10,
              "solidity": 0.2
             }
            },
            "type": "bar"
           }
          ],
          "barpolar": [
           {
            "marker": {
             "line": {
              "color": "#E5ECF6",
              "width": 0.5
             },
             "pattern": {
              "fillmode": "overlay",
              "size": 10,
              "solidity": 0.2
             }
            },
            "type": "barpolar"
           }
          ],
          "carpet": [
           {
            "aaxis": {
             "endlinecolor": "#2a3f5f",
             "gridcolor": "white",
             "linecolor": "white",
             "minorgridcolor": "white",
             "startlinecolor": "#2a3f5f"
            },
            "baxis": {
             "endlinecolor": "#2a3f5f",
             "gridcolor": "white",
             "linecolor": "white",
             "minorgridcolor": "white",
             "startlinecolor": "#2a3f5f"
            },
            "type": "carpet"
           }
          ],
          "choropleth": [
           {
            "colorbar": {
             "outlinewidth": 0,
             "ticks": ""
            },
            "type": "choropleth"
           }
          ],
          "contour": [
           {
            "colorbar": {
             "outlinewidth": 0,
             "ticks": ""
            },
            "colorscale": [
             [
              0,
              "#0d0887"
             ],
             [
              0.1111111111111111,
              "#46039f"
             ],
             [
              0.2222222222222222,
              "#7201a8"
             ],
             [
              0.3333333333333333,
              "#9c179e"
             ],
             [
              0.4444444444444444,
              "#bd3786"
             ],
             [
              0.5555555555555556,
              "#d8576b"
             ],
             [
              0.6666666666666666,
              "#ed7953"
             ],
             [
              0.7777777777777778,
              "#fb9f3a"
             ],
             [
              0.8888888888888888,
              "#fdca26"
             ],
             [
              1,
              "#f0f921"
             ]
            ],
            "type": "contour"
           }
          ],
          "contourcarpet": [
           {
            "colorbar": {
             "outlinewidth": 0,
             "ticks": ""
            },
            "type": "contourcarpet"
           }
          ],
          "heatmap": [
           {
            "colorbar": {
             "outlinewidth": 0,
             "ticks": ""
            },
            "colorscale": [
             [
              0,
              "#0d0887"
             ],
             [
              0.1111111111111111,
              "#46039f"
             ],
             [
              0.2222222222222222,
              "#7201a8"
             ],
             [
              0.3333333333333333,
              "#9c179e"
             ],
             [
              0.4444444444444444,
              "#bd3786"
             ],
             [
              0.5555555555555556,
              "#d8576b"
             ],
             [
              0.6666666666666666,
              "#ed7953"
             ],
             [
              0.7777777777777778,
              "#fb9f3a"
             ],
             [
              0.8888888888888888,
              "#fdca26"
             ],
             [
              1,
              "#f0f921"
             ]
            ],
            "type": "heatmap"
           }
          ],
          "heatmapgl": [
           {
            "colorbar": {
             "outlinewidth": 0,
             "ticks": ""
            },
            "colorscale": [
             [
              0,
              "#0d0887"
             ],
             [
              0.1111111111111111,
              "#46039f"
             ],
             [
              0.2222222222222222,
              "#7201a8"
             ],
             [
              0.3333333333333333,
              "#9c179e"
             ],
             [
              0.4444444444444444,
              "#bd3786"
             ],
             [
              0.5555555555555556,
              "#d8576b"
             ],
             [
              0.6666666666666666,
              "#ed7953"
             ],
             [
              0.7777777777777778,
              "#fb9f3a"
             ],
             [
              0.8888888888888888,
              "#fdca26"
             ],
             [
              1,
              "#f0f921"
             ]
            ],
            "type": "heatmapgl"
           }
          ],
          "histogram": [
           {
            "marker": {
             "pattern": {
              "fillmode": "overlay",
              "size": 10,
              "solidity": 0.2
             }
            },
            "type": "histogram"
           }
          ],
          "histogram2d": [
           {
            "colorbar": {
             "outlinewidth": 0,
             "ticks": ""
            },
            "colorscale": [
             [
              0,
              "#0d0887"
             ],
             [
              0.1111111111111111,
              "#46039f"
             ],
             [
              0.2222222222222222,
              "#7201a8"
             ],
             [
              0.3333333333333333,
              "#9c179e"
             ],
             [
              0.4444444444444444,
              "#bd3786"
             ],
             [
              0.5555555555555556,
              "#d8576b"
             ],
             [
              0.6666666666666666,
              "#ed7953"
             ],
             [
              0.7777777777777778,
              "#fb9f3a"
             ],
             [
              0.8888888888888888,
              "#fdca26"
             ],
             [
              1,
              "#f0f921"
             ]
            ],
            "type": "histogram2d"
           }
          ],
          "histogram2dcontour": [
           {
            "colorbar": {
             "outlinewidth": 0,
             "ticks": ""
            },
            "colorscale": [
             [
              0,
              "#0d0887"
             ],
             [
              0.1111111111111111,
              "#46039f"
             ],
             [
              0.2222222222222222,
              "#7201a8"
             ],
             [
              0.3333333333333333,
              "#9c179e"
             ],
             [
              0.4444444444444444,
              "#bd3786"
             ],
             [
              0.5555555555555556,
              "#d8576b"
             ],
             [
              0.6666666666666666,
              "#ed7953"
             ],
             [
              0.7777777777777778,
              "#fb9f3a"
             ],
             [
              0.8888888888888888,
              "#fdca26"
             ],
             [
              1,
              "#f0f921"
             ]
            ],
            "type": "histogram2dcontour"
           }
          ],
          "mesh3d": [
           {
            "colorbar": {
             "outlinewidth": 0,
             "ticks": ""
            },
            "type": "mesh3d"
           }
          ],
          "parcoords": [
           {
            "line": {
             "colorbar": {
              "outlinewidth": 0,
              "ticks": ""
             }
            },
            "type": "parcoords"
           }
          ],
          "pie": [
           {
            "automargin": true,
            "type": "pie"
           }
          ],
          "scatter": [
           {
            "fillpattern": {
             "fillmode": "overlay",
             "size": 10,
             "solidity": 0.2
            },
            "type": "scatter"
           }
          ],
          "scatter3d": [
           {
            "line": {
             "colorbar": {
              "outlinewidth": 0,
              "ticks": ""
             }
            },
            "marker": {
             "colorbar": {
              "outlinewidth": 0,
              "ticks": ""
             }
            },
            "type": "scatter3d"
           }
          ],
          "scattercarpet": [
           {
            "marker": {
             "colorbar": {
              "outlinewidth": 0,
              "ticks": ""
             }
            },
            "type": "scattercarpet"
           }
          ],
          "scattergeo": [
           {
            "marker": {
             "colorbar": {
              "outlinewidth": 0,
              "ticks": ""
             }
            },
            "type": "scattergeo"
           }
          ],
          "scattergl": [
           {
            "marker": {
             "colorbar": {
              "outlinewidth": 0,
              "ticks": ""
             }
            },
            "type": "scattergl"
           }
          ],
          "scattermapbox": [
           {
            "marker": {
             "colorbar": {
              "outlinewidth": 0,
              "ticks": ""
             }
            },
            "type": "scattermapbox"
           }
          ],
          "scatterpolar": [
           {
            "marker": {
             "colorbar": {
              "outlinewidth": 0,
              "ticks": ""
             }
            },
            "type": "scatterpolar"
           }
          ],
          "scatterpolargl": [
           {
            "marker": {
             "colorbar": {
              "outlinewidth": 0,
              "ticks": ""
             }
            },
            "type": "scatterpolargl"
           }
          ],
          "scatterternary": [
           {
            "marker": {
             "colorbar": {
              "outlinewidth": 0,
              "ticks": ""
             }
            },
            "type": "scatterternary"
           }
          ],
          "surface": [
           {
            "colorbar": {
             "outlinewidth": 0,
             "ticks": ""
            },
            "colorscale": [
             [
              0,
              "#0d0887"
             ],
             [
              0.1111111111111111,
              "#46039f"
             ],
             [
              0.2222222222222222,
              "#7201a8"
             ],
             [
              0.3333333333333333,
              "#9c179e"
             ],
             [
              0.4444444444444444,
              "#bd3786"
             ],
             [
              0.5555555555555556,
              "#d8576b"
             ],
             [
              0.6666666666666666,
              "#ed7953"
             ],
             [
              0.7777777777777778,
              "#fb9f3a"
             ],
             [
              0.8888888888888888,
              "#fdca26"
             ],
             [
              1,
              "#f0f921"
             ]
            ],
            "type": "surface"
           }
          ],
          "table": [
           {
            "cells": {
             "fill": {
              "color": "#EBF0F8"
             },
             "line": {
              "color": "white"
             }
            },
            "header": {
             "fill": {
              "color": "#C8D4E3"
             },
             "line": {
              "color": "white"
             }
            },
            "type": "table"
           }
          ]
         },
         "layout": {
          "annotationdefaults": {
           "arrowcolor": "#2a3f5f",
           "arrowhead": 0,
           "arrowwidth": 1
          },
          "autotypenumbers": "strict",
          "coloraxis": {
           "colorbar": {
            "outlinewidth": 0,
            "ticks": ""
           }
          },
          "colorscale": {
           "diverging": [
            [
             0,
             "#8e0152"
            ],
            [
             0.1,
             "#c51b7d"
            ],
            [
             0.2,
             "#de77ae"
            ],
            [
             0.3,
             "#f1b6da"
            ],
            [
             0.4,
             "#fde0ef"
            ],
            [
             0.5,
             "#f7f7f7"
            ],
            [
             0.6,
             "#e6f5d0"
            ],
            [
             0.7,
             "#b8e186"
            ],
            [
             0.8,
             "#7fbc41"
            ],
            [
             0.9,
             "#4d9221"
            ],
            [
             1,
             "#276419"
            ]
           ],
           "sequential": [
            [
             0,
             "#0d0887"
            ],
            [
             0.1111111111111111,
             "#46039f"
            ],
            [
             0.2222222222222222,
             "#7201a8"
            ],
            [
             0.3333333333333333,
             "#9c179e"
            ],
            [
             0.4444444444444444,
             "#bd3786"
            ],
            [
             0.5555555555555556,
             "#d8576b"
            ],
            [
             0.6666666666666666,
             "#ed7953"
            ],
            [
             0.7777777777777778,
             "#fb9f3a"
            ],
            [
             0.8888888888888888,
             "#fdca26"
            ],
            [
             1,
             "#f0f921"
            ]
           ],
           "sequentialminus": [
            [
             0,
             "#0d0887"
            ],
            [
             0.1111111111111111,
             "#46039f"
            ],
            [
             0.2222222222222222,
             "#7201a8"
            ],
            [
             0.3333333333333333,
             "#9c179e"
            ],
            [
             0.4444444444444444,
             "#bd3786"
            ],
            [
             0.5555555555555556,
             "#d8576b"
            ],
            [
             0.6666666666666666,
             "#ed7953"
            ],
            [
             0.7777777777777778,
             "#fb9f3a"
            ],
            [
             0.8888888888888888,
             "#fdca26"
            ],
            [
             1,
             "#f0f921"
            ]
           ]
          },
          "colorway": [
           "#636efa",
           "#EF553B",
           "#00cc96",
           "#ab63fa",
           "#FFA15A",
           "#19d3f3",
           "#FF6692",
           "#B6E880",
           "#FF97FF",
           "#FECB52"
          ],
          "font": {
           "color": "#2a3f5f"
          },
          "geo": {
           "bgcolor": "white",
           "lakecolor": "white",
           "landcolor": "#E5ECF6",
           "showlakes": true,
           "showland": true,
           "subunitcolor": "white"
          },
          "hoverlabel": {
           "align": "left"
          },
          "hovermode": "closest",
          "mapbox": {
           "style": "light"
          },
          "paper_bgcolor": "white",
          "plot_bgcolor": "#E5ECF6",
          "polar": {
           "angularaxis": {
            "gridcolor": "white",
            "linecolor": "white",
            "ticks": ""
           },
           "bgcolor": "#E5ECF6",
           "radialaxis": {
            "gridcolor": "white",
            "linecolor": "white",
            "ticks": ""
           }
          },
          "scene": {
           "xaxis": {
            "backgroundcolor": "#E5ECF6",
            "gridcolor": "white",
            "gridwidth": 2,
            "linecolor": "white",
            "showbackground": true,
            "ticks": "",
            "zerolinecolor": "white"
           },
           "yaxis": {
            "backgroundcolor": "#E5ECF6",
            "gridcolor": "white",
            "gridwidth": 2,
            "linecolor": "white",
            "showbackground": true,
            "ticks": "",
            "zerolinecolor": "white"
           },
           "zaxis": {
            "backgroundcolor": "#E5ECF6",
            "gridcolor": "white",
            "gridwidth": 2,
            "linecolor": "white",
            "showbackground": true,
            "ticks": "",
            "zerolinecolor": "white"
           }
          },
          "shapedefaults": {
           "line": {
            "color": "#2a3f5f"
           }
          },
          "ternary": {
           "aaxis": {
            "gridcolor": "white",
            "linecolor": "white",
            "ticks": ""
           },
           "baxis": {
            "gridcolor": "white",
            "linecolor": "white",
            "ticks": ""
           },
           "bgcolor": "#E5ECF6",
           "caxis": {
            "gridcolor": "white",
            "linecolor": "white",
            "ticks": ""
           }
          },
          "title": {
           "x": 0.05
          },
          "xaxis": {
           "automargin": true,
           "gridcolor": "white",
           "linecolor": "white",
           "ticks": "",
           "title": {
            "standoff": 15
           },
           "zerolinecolor": "white",
           "zerolinewidth": 2
          },
          "yaxis": {
           "automargin": true,
           "gridcolor": "white",
           "linecolor": "white",
           "ticks": "",
           "title": {
            "standoff": 15
           },
           "zerolinecolor": "white",
           "zerolinewidth": 2
          }
         }
        },
        "title": {
         "text": "Percentage of Data Skills Mentioned in Job Posts"
        },
        "xaxis": {
         "anchor": "y",
         "domain": [
          0,
          1
         ],
         "title": {
          "text": "Month"
         }
        },
        "yaxis": {
         "anchor": "x",
         "domain": [
          0,
          1
         ],
         "title": {
          "text": "Percentage Mentioned (%)"
         }
        }
       }
      }
     },
     "metadata": {},
     "output_type": "display_data"
    },
    {
     "data": {
      "text/html": [
       "<div>\n",
       "<style scoped>\n",
       "    .dataframe tbody tr th:only-of-type {\n",
       "        vertical-align: middle;\n",
       "    }\n",
       "\n",
       "    .dataframe tbody tr th {\n",
       "        vertical-align: top;\n",
       "    }\n",
       "\n",
       "    .dataframe thead th {\n",
       "        text-align: right;\n",
       "    }\n",
       "</style>\n",
       "<table border=\"1\" class=\"dataframe\">\n",
       "  <thead>\n",
       "    <tr style=\"text-align: right;\">\n",
       "      <th></th>\n",
       "      <th>Month</th>\n",
       "      <th>SQL</th>\n",
       "      <th>Python</th>\n",
       "      <th>AWS</th>\n",
       "      <th>Spark</th>\n",
       "    </tr>\n",
       "  </thead>\n",
       "  <tbody>\n",
       "    <tr>\n",
       "      <th>0</th>\n",
       "      <td>Nov 2022</td>\n",
       "      <td>55</td>\n",
       "      <td>48</td>\n",
       "      <td>25</td>\n",
       "      <td>20</td>\n",
       "    </tr>\n",
       "    <tr>\n",
       "      <th>1</th>\n",
       "      <td>Dec 2022</td>\n",
       "      <td>54</td>\n",
       "      <td>47</td>\n",
       "      <td>24</td>\n",
       "      <td>19</td>\n",
       "    </tr>\n",
       "    <tr>\n",
       "      <th>2</th>\n",
       "      <td>Jan 2023</td>\n",
       "      <td>53</td>\n",
       "      <td>46</td>\n",
       "      <td>23</td>\n",
       "      <td>18</td>\n",
       "    </tr>\n",
       "    <tr>\n",
       "      <th>3</th>\n",
       "      <td>Feb 2023</td>\n",
       "      <td>52</td>\n",
       "      <td>45</td>\n",
       "      <td>22</td>\n",
       "      <td>17</td>\n",
       "    </tr>\n",
       "    <tr>\n",
       "      <th>4</th>\n",
       "      <td>Mar 2023</td>\n",
       "      <td>53</td>\n",
       "      <td>46</td>\n",
       "      <td>23</td>\n",
       "      <td>18</td>\n",
       "    </tr>\n",
       "    <tr>\n",
       "      <th>5</th>\n",
       "      <td>Apr 2023</td>\n",
       "      <td>54</td>\n",
       "      <td>47</td>\n",
       "      <td>24</td>\n",
       "      <td>19</td>\n",
       "    </tr>\n",
       "    <tr>\n",
       "      <th>6</th>\n",
       "      <td>May 2023</td>\n",
       "      <td>54</td>\n",
       "      <td>47</td>\n",
       "      <td>24</td>\n",
       "      <td>19</td>\n",
       "    </tr>\n",
       "    <tr>\n",
       "      <th>7</th>\n",
       "      <td>Jun 2023</td>\n",
       "      <td>55</td>\n",
       "      <td>48</td>\n",
       "      <td>25</td>\n",
       "      <td>20</td>\n",
       "    </tr>\n",
       "    <tr>\n",
       "      <th>8</th>\n",
       "      <td>Jul 2023</td>\n",
       "      <td>56</td>\n",
       "      <td>49</td>\n",
       "      <td>26</td>\n",
       "      <td>21</td>\n",
       "    </tr>\n",
       "    <tr>\n",
       "      <th>9</th>\n",
       "      <td>Aug 2023</td>\n",
       "      <td>57</td>\n",
       "      <td>50</td>\n",
       "      <td>27</td>\n",
       "      <td>22</td>\n",
       "    </tr>\n",
       "  </tbody>\n",
       "</table>\n",
       "</div>"
      ],
      "text/plain": [
       "      Month  SQL  Python  AWS  Spark\n",
       "0  Nov 2022   55      48   25     20\n",
       "1  Dec 2022   54      47   24     19\n",
       "2  Jan 2023   53      46   23     18\n",
       "3  Feb 2023   52      45   22     17\n",
       "4  Mar 2023   53      46   23     18\n",
       "5  Apr 2023   54      47   24     19\n",
       "6  May 2023   54      47   24     19\n",
       "7  Jun 2023   55      48   25     20\n",
       "8  Jul 2023   56      49   26     21\n",
       "9  Aug 2023   57      50   27     22"
      ]
     },
     "execution_count": 5,
     "metadata": {},
     "output_type": "execute_result"
    }
   ],
   "source": [
    "import pandas as pd\n",
    "import plotly.express as px\n",
    "\n",
    "# Sample data\n",
    "data = {\n",
    "    'Month': ['Nov 2022', 'Dec 2022', 'Jan 2023', 'Feb 2023', 'Mar 2023', 'Apr 2023', 'May 2023', 'Jun 2023', 'Jul 2023', 'Aug 2023'],\n",
    "    'SQL': [55, 54, 53, 52, 53, 54, 54, 55, 56, 57],\n",
    "    'Python': [48, 47, 46, 45, 46, 47, 47, 48, 49, 50],\n",
    "    'AWS': [25, 24, 23, 22, 23, 24, 24, 25, 26, 27],\n",
    "    'Spark': [20, 19, 18, 17, 18, 19, 19, 20, 21, 22],\n",
    "}\n",
    "\n",
    "# Convert to DataFrame\n",
    "df = pd.DataFrame(data)\n",
    "\n",
    "# Melt the DataFrame to a long format\n",
    "df_melted = df.melt(id_vars=['Month'], var_name='Skill', value_name='Percentage')\n",
    "\n",
    "# Create the line plot\n",
    "fig = px.line(df_melted, x='Month', y='Percentage', color='Skill', title='Percentage of Data Skills Mentioned in Job Posts')\n",
    "\n",
    "# Customize the layout\n",
    "fig.update_layout(\n",
    "    xaxis_title='Month',\n",
    "    yaxis_title='Percentage Mentioned (%)',\n",
    "    legend_title='Skill'\n",
    ")\n",
    "\n",
    "# Show the plot\n",
    "fig.show()\n",
    "df\n"
   ]
  }
 ],
 "metadata": {
  "kernelspec": {
   "display_name": "Python 3",
   "language": "python",
   "name": "python3"
  },
  "language_info": {
   "codemirror_mode": {
    "name": "ipython",
    "version": 3
   },
   "file_extension": ".py",
   "mimetype": "text/x-python",
   "name": "python",
   "nbconvert_exporter": "python",
   "pygments_lexer": "ipython3",
   "version": "3.11.9"
  }
 },
 "nbformat": 4,
 "nbformat_minor": 2
}
