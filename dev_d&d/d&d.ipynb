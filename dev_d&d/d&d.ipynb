{
 "cells": [
  {
   "cell_type": "markdown",
   "metadata": {},
   "source": [
    "Shopping List shit bro"
   ]
  },
  {
   "cell_type": "code",
   "execution_count": null,
   "metadata": {},
   "outputs": [],
   "source": [
    "shopping_list = []\n",
    "\n",
    "print(\"[1]ADD ITEMS\")\n",
    "print(\"[2]REMOVE ITEMS\")\n",
    "print(\"[3]DISPLAY ITEMS\")"
   ]
  }
 ],
 "metadata": {
  "language_info": {
   "name": "python"
  }
 },
 "nbformat": 4,
 "nbformat_minor": 2
}
